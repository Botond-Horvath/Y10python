{
 "cells": [
  {
   "cell_type": "code",
   "execution_count": 172,
   "id": "5e82db57",
   "metadata": {},
   "outputs": [],
   "source": [
    "import matplotlib.pyplot as plt\n",
    "import pandas as pd\n",
    "import numpy as np\n",
    "import library\n",
    "import math"
   ]
  },
  {
   "cell_type": "code",
   "execution_count": 173,
   "id": "a5adf70a",
   "metadata": {},
   "outputs": [],
   "source": [
    "data = library.loadList('exoplanet.csv')\n",
    "col = {'mass':2,'rad':3,'method':13}"
   ]
  },
  {
   "cell_type": "code",
   "execution_count": 259,
   "id": "03bb771a",
   "metadata": {},
   "outputs": [],
   "source": [
    "#Main function\n",
    "def getMethod(method):\n",
    "    global transitLen, rvLen, microLen, imagingLen, timingLen\n",
    "    if method == 'transit':\n",
    "        transitLen += 1\n",
    "    elif method == 'RV':\n",
    "        rvLen += 1\n",
    "    elif method == 'microlensing':\n",
    "        microLen += 1\n",
    "    elif method == 'imaging':\n",
    "        imagingLen += 1\n",
    "    else:\n",
    "        timingLen += 1"
   ]
  },
  {
   "cell_type": "code",
   "execution_count": 260,
   "id": "b049c084",
   "metadata": {},
   "outputs": [
    {
     "name": "stdout",
     "output_type": "stream",
     "text": [
      "Amount of exoplanet discoveries per method:\n",
      "[transit, radial velocity, microlensing, imaging, timing]\n",
      "[2644, 660, 41, 50, 26]\n"
     ]
    }
   ],
   "source": [
    "#Defining constants:\n",
    "earthMass = 0.003\n",
    "earthRadius = 0.08928571428\n",
    "\n",
    "#Lists\n",
    "methodList = []\n",
    "\n",
    "#counters\n",
    "transitLen = 1\n",
    "rvLen = 1\n",
    "microLen = 1\n",
    "imagingLen = 1\n",
    "timingLen = 1\n",
    "\n",
    "#mainLoop\n",
    "for n in range(len(data)):\n",
    "    method = data[n][col['method']]\n",
    "    if method != '':\n",
    "        getMethod(method)\n",
    "\n",
    "#Print the basic breakdown:\n",
    "methodList += [transitLen,rvLen,microLen,imagingLen,timingLen]\n",
    "print('Amount of exoplanet discoveries per method:')\n",
    "print('[transit, radial velocity, microlensing, imaging, timing]')\n",
    "print(methodList)"
   ]
  },
  {
   "cell_type": "code",
   "execution_count": 195,
   "id": "faf9a61e",
   "metadata": {},
   "outputs": [
    {
     "data": {
      "text/html": [
       "<style type=\"text/css\">\n",
       "</style>\n",
       "<table id=\"T_c2514_\">\n",
       "  <caption>Amount of Planets Detected per Detection Method</caption>\n",
       "  <thead>\n",
       "    <tr>\n",
       "      <th class=\"blank level0\" >&nbsp;</th>\n",
       "      <th class=\"col_heading level0 col0\" >Amount</th>\n",
       "    </tr>\n",
       "    <tr>\n",
       "      <th class=\"index_name level0\" >Method</th>\n",
       "      <th class=\"blank col0\" >&nbsp;</th>\n",
       "    </tr>\n",
       "  </thead>\n",
       "  <tbody>\n",
       "    <tr>\n",
       "      <th id=\"T_c2514_level0_row0\" class=\"row_heading level0 row0\" >transit</th>\n",
       "      <td id=\"T_c2514_row0_col0\" class=\"data row0 col0\" >2644</td>\n",
       "    </tr>\n",
       "    <tr>\n",
       "      <th id=\"T_c2514_level0_row1\" class=\"row_heading level0 row1\" >RV</th>\n",
       "      <td id=\"T_c2514_row1_col0\" class=\"data row1 col0\" >660</td>\n",
       "    </tr>\n",
       "    <tr>\n",
       "      <th id=\"T_c2514_level0_row2\" class=\"row_heading level0 row2\" >microlensing</th>\n",
       "      <td id=\"T_c2514_row2_col0\" class=\"data row2 col0\" >41</td>\n",
       "    </tr>\n",
       "    <tr>\n",
       "      <th id=\"T_c2514_level0_row3\" class=\"row_heading level0 row3\" >imaging</th>\n",
       "      <td id=\"T_c2514_row3_col0\" class=\"data row3 col0\" >50</td>\n",
       "    </tr>\n",
       "    <tr>\n",
       "      <th id=\"T_c2514_level0_row4\" class=\"row_heading level0 row4\" >timing</th>\n",
       "      <td id=\"T_c2514_row4_col0\" class=\"data row4 col0\" >26</td>\n",
       "    </tr>\n",
       "  </tbody>\n",
       "</table>\n"
      ],
      "text/plain": [
       "<pandas.io.formats.style.Styler at 0x11c7e8d30>"
      ]
     },
     "execution_count": 195,
     "metadata": {},
     "output_type": "execute_result"
    }
   ],
   "source": [
    "df = pd.DataFrame(methodList,index=['transit','RV', 'microlensing', 'imaging', 'timing'],\n",
    "                  columns=['Amount'])\n",
    "df.index.name = 'Method'\n",
    "df = df.style.set_caption(\"Amount of Planets Detected per Detection Method\")\n",
    "df"
   ]
  },
  {
   "cell_type": "code",
   "execution_count": 196,
   "id": "242f51ec",
   "metadata": {},
   "outputs": [
    {
     "name": "stdout",
     "output_type": "stream",
     "text": [
      "List of low mass planets and methods of detection:\n",
      "[[0.02, 'timing'], [0.07, 'transit'], [0.29, 'transit'], [0.47, 'imaging'], [0.47, 'transit'], [0.67, 'transit'], [0.7, 'imaging'], [0.73, 'microlensing'], [0.84, 'transit'], [1.15, 'RV'], [1.19, 'RV'], [1.28, 'transit'], [1.36, 'RV'], [1.36, 'transit'], [1.43, 'RV'], [1.57, 'transit'], [1.7, 'transit'], [1.74, 'microlensing'], [1.78, 'transit'], [1.84, 'transit'], [1.96, 'transit'], [1.99, 'RV'], [1.99, 'transit'], [2.03, 'RV'], [2.07, 'transit'], [2.1, 'RV'], [2.1, 'transit'], [2.2, 'transit'], [2.52, 'RV'], [2.59, 'transit'], [2.83, 'RV'], [2.83, 'RV'], [2.83, 'RV'], [2.84, 'transit'], [2.9, 'RV'], [3.01, 'transit'], [3.23, 'RV'], [3.25, 'RV'], [3.25, 'RV'], [3.33, 'microlensing'], [3.49, 'transit'], [3.67, 'RV'], [3.67, 'RV'], [3.67, 'RV'], [3.68, 'transit'], [3.72, 'transit'], [3.77, 'RV'], [3.82, 'transit'], [3.9, 'RV'], [3.98, 'RV'], [3.98, 'transit'], [4.0, 'RV'], [4.0, 'transit'], [4.1, 'timing'], [4.19, 'RV'], [4.19, 'transit'], [4.2, 'transit'], [4.2, 'transit'], [4.28, 'transit'], [4.3, 'transit'], [4.33, 'transit'], [4.37, 'RV'], [4.47, 'RV'], [4.49, 'transit'], [4.5, 'timing'], [4.51, 'RV'], [4.67, 'RV'], [4.67, 'RV'], [4.73, 'transit'], [4.82, 'RV'], [4.83, 'transit'], [4.93, 'transit'], [5.0, 'transit'], [5.03, 'RV'], [5.03, 'RV'], [5.03, 'transit'], [5.03, 'transit'], [5.03, 'transit'], [5.24, 'RV'], [5.27, 'transit'], [5.32, 'transit'], [5.33, 'RV'], [5.35, 'RV'], [5.35, 'RV'], [5.37, 'transit'], [5.4, 'RV'], [5.45, 'RV'], [5.47, 'RV'], [5.53, 'RV'], [5.57, 'RV'], [5.61, 'RV'], [5.67, 'microlensing'], [5.77, 'RV'], [5.87, 'RV'], [6.2, 'RV'], [6.23, 'RV'], [6.33, 'RV'], [6.43, 'RV'], [6.45, 'transit'], [6.5, 'transit'], [6.5, 'transit'], [6.5, 'transit'], [6.53, 'RV'], [6.61, 'transit'], [6.66, 'transit'], [6.67, 'RV'], [6.67, 'RV'], [6.67, 'RV'], [6.71, 'transit'], [6.77, 'RV'], [6.92, 'RV'], [6.92, 'RV'], [7.03, 'transit'], [7.13, 'RV'], [7.17, 'transit'], [7.23, 'RV'], [7.23, 'transit'], [7.33, 'RV'], [7.33, 'transit'], [7.34, 'RV'], [7.34, 'RV'], [7.44, 'RV'], [7.65, 'transit'], [7.67, 'transit'], [7.7, 'transit'], [7.8, 'transit'], [7.92, 'transit'], [7.93, 'RV'], [7.97, 'RV'], [7.97, 'transit'], [8.23, 'RV'], [8.31, 'transit'], [8.39, 'transit'], [8.47, 'transit'], [8.47, 'transit'], [8.65, 'transit'], [8.67, 'RV'], [8.67, 'transit'], [8.68, 'transit'], [8.77, 'RV'], [8.8, 'RV'], [8.8, 'RV'], [8.8, 'transit'], [9.0, 'RV'], [9.0, 'RV'], [9.0, 'transit'], [9.0, 'transit'], [9.02, 'RV'], [9.33, 'RV'], [9.36, 'transit'], [9.43, 'RV'], [9.47, 'RV'], [9.65, 'microlensing'], [9.67, 'RV'], [9.73, 'RV'], [9.96, 'RV'], [10.0, 'RV'], [10.0, 'RV'], [10.33, 'RV'], [10.33, 'transit'], [10.53, 'RV'], [10.6, 'RV'], [10.7, 'RV'], [10.73, 'RV'], [10.83, 'RV'], [10.9, 'microlensing'], [10.93, 'transit'], [10.95, 'transit'], [11.0, 'RV'], [11.01, 'transit'], [11.07, 'RV'], [11.07, 'transit'], [11.11, 'RV'], [11.33, 'RV'], [11.37, 'transit'], [11.7, 'RV'], [11.71, 'transit'], [11.85, 'transit'], [11.93, 'RV'], [12.0, 'RV'], [12.0, 'RV'], [12.0, 'RV'], [12.06, 'transit'], [12.1, 'RV'], [12.27, 'transit'], [12.33, 'RV'], [12.39, 'transit'], [12.48, 'RV'], [12.6, 'RV'], [12.6, 'transit'], [12.63, 'RV'], [12.67, 'RV'], [12.73, 'RV'], [12.8, 'transit'], [12.8, 'transit'], [12.9, 'RV'], [13.33, 'RV'], [13.33, 'RV'], [13.5, 'RV'], [13.63, 'RV'], [13.63, 'RV'], [13.63, 'transit'], [13.77, 'RV'], [14.0, 'RV'], [14.07, 'RV'], [14.4, 'transit'], [14.8, 'microlensing'], [15.0, 'RV'], [16.25, 'RV'], [16.36, 'transit'], [16.55, 'RV'], [16.57, 'RV'], [16.6, 'RV'], [16.67, 'RV'], [16.67, 'transit'], [16.91, 'transit'], [17.0, 'RV'], [17.0, 'transit'], [17.3, 'RV'], [17.33, 'transit'], [17.72, 'RV'], [18.0, 'RV'], [18.0, 'RV'], [18.0, 'RV'], [18.0, 'transit'], [18.04, 'transit'], [18.83, 'RV'], [19.0, 'RV'], [19.0, 'microlensing'], [19.1, 'RV'], [19.33, 'RV'], [19.33, 'RV'], [19.33, 'RV'], [19.67, 'transit'], [20.0, 'transit'], [21.33, 'RV'], [21.57, 'RV'], [22.0, 'RV'], [22.0, 'microlensing'], [22.0, 'microlensing'], [22.0, 'transit'], [22.33, 'RV'], [23.0, 'RV'], [23.07, 'RV'], [23.13, 'microlensing'], [23.17, 'transit'], [23.33, 'RV'], [23.49, 'transit'], [23.89, 'RV'], [23.91, 'RV'], [24.03, 'RV'], [24.22, 'transit'], [24.23, 'transit'], [25.13, 'RV'], [25.33, 'RV'], [25.33, 'RV'], [25.67, 'transit'], [26.21, 'RV'], [26.33, 'RV'], [26.67, 'RV'], [27.0, 'transit'], [28.33, 'transit'], [28.33, 'transit'], [29.0, 'RV'], [29.33, 'transit'], [30.0, 'RV'], [30.52, 'transit'], [30.83, 'RV'], [31.33, 'microlensing'], [31.33, 'transit'], [32.03, 'RV'], [32.1, 'transit'], [32.67, 'RV'], [33.67, 'RV'], [33.67, 'RV'], [34.29, 'transit'], [36.67, 'RV'], [36.7, 'transit'], [38.33, 'RV'], [40.0, 'RV'], [40.0, 'transit'], [40.33, 'RV'], [41.16, 'microlensing'], [42.33, 'transit'], [43.33, 'RV'], [43.33, 'transit'], [44.0, 'RV'], [46.0, 'transit'], [46.0, 'transit'], [47.0, 'RV'], [47.2, 'RV'], [48.33, 'microlensing'], [50.0, 'RV'], [50.23, 'RV'], [52.33, 'microlensing'], [53.67, 'transit'], [56.0, 'RV'], [56.67, 'transit'], [57.13, 'RV'], [57.33, 'RV'], [59.33, 'RV'], [60.0, 'transit'], [62.0, 'RV'], [62.4, 'RV'], [62.93, 'microlensing'], [65.33, 'transit'], [65.67, 'RV'], [66.67, 'RV'], [66.67, 'RV'], [69.0, 'RV'], [69.33, 'microlensing'], [69.52, 'transit'], [70.0, 'RV'], [70.0, 'RV'], [70.25, 'transit'], [70.33, 'transit'], [71.67, 'RV'], [73.33, 'RV'], [73.33, 'transit'], [73.33, 'transit'], [74.33, 'RV'], [74.67, 'RV'], [76.67, 'RV'], [76.67, 'microlensing'], [76.67, 'microlensing'], [79.0, 'transit'], [81.33, 'transit'], [82.0, 'RV'], [83.0, 'RV'], [83.33, 'transit'], [83.33, 'transit'], [86.33, 'RV'], [86.67, 'transit'], [87.0, 'RV'], [88.67, 'RV'], [89.0, 'transit'], [90.0, 'transit'], [90.33, 'microlensing'], [91.83, 'transit'], [92.0, 'transit'], [92.06, 'transit'], [93.33, 'RV'], [93.33, 'transit'], [93.33, 'transit'], [94.27, 'RV'], [96.67, 'RV'], [96.67, 'transit'], [97.33, 'transit'], [99.33, 'RV'], [100.0, 'RV'], [100.0, 'transit'], [103.0, 'transit'], [104.33, 'transit'], [106.33, 'transit'], [106.47, 'timing'], [109.33, 'RV'], [110.0, 'RV'], [110.0, 'RV'], [110.0, 'RV'], [110.0, 'RV'], [110.0, 'transit'], [111.0, 'transit'], [113.33, 'RV'], [113.33, 'RV'], [113.33, 'RV'], [113.33, 'transit'], [116.67, 'RV'], [116.87, 'RV'], [118.67, 'transit'], [120.0, 'RV'], [120.0, 'RV'], [120.0, 'RV'], [120.0, 'RV'], [122.33, 'RV'], [123.33, 'RV'], [123.33, 'RV'], [125.33, 'transit'], [126.0, 'transit'], [126.67, 'RV'], [126.67, 'RV'], [126.67, 'transit'], [130.0, 'microlensing'], [130.67, 'transit'], [133.33, 'RV'], [133.33, 'RV'], [136.0, 'RV'], [136.67, 'RV'], [137.67, 'RV'], [138.33, 'transit'], [140.0, 'RV'], [140.0, 'transit'], [143.33, 'transit'], [143.33, 'transit'], [143.33, 'transit'], [146.67, 'RV'], [146.67, 'transit'], [147.33, 'transit'], [150.0, 'RV'], [150.0, 'RV'], [150.67, 'transit'], [153.33, 'RV'], [153.33, 'RV'], [153.33, 'transit'], [153.33, 'transit'], [155.67, 'transit'], [156.67, 'RV'], [156.67, 'RV'], [159.33, 'transit'], [160.0, 'RV'], [160.0, 'RV'], [160.0, 'RV'], [160.0, 'transit'], [161.33, 'transit'], [162.0, 'transit'], [164.33, 'transit'], [164.67, 'transit'], [166.67, 'RV'], [166.67, 'transit'], [166.67, 'transit'], [166.67, 'transit'], [167.33, 'RV'], [167.67, 'transit'], [168.33, 'transit'], [169.13, 'RV'], [170.0, 'transit'], [171.33, 'transit'], [173.33, 'transit'], [173.97, 'RV'], [174.67, 'transit'], [175.33, 'transit'], [175.67, 'RV'], [176.67, 'RV'], [176.67, 'microlensing'], [176.67, 'transit'], [178.0, 'transit'], [180.0, 'RV'], [180.0, 'RV'], [180.0, 'RV'], [180.0, 'transit'], [180.67, 'transit'], [181.0, 'transit'], [184.67, 'transit'], [186.67, 'RV'], [186.67, 'RV'], [186.67, 'transit'], [189.0, 'transit'], [189.67, 'transit'], [190.0, 'RV'], [190.0, 'transit'], [190.0, 'transit'], [190.33, 'transit'], [193.33, 'RV'], [193.33, 'transit'], [194.0, 'transit'], [196.0, 'transit'], [196.67, 'transit'], [196.67, 'transit'], [196.67, 'transit'], [197.0, 'transit'], [198.33, 'transit'], [199.0, 'transit'], [199.67, 'transit'], [200.0, 'RV'], [200.0, 'transit']]\n",
      "List of medium mass planets and methods of detection:\n",
      "[[203.33, 'RV'], [205.0, 'transit'], [206.0, 'RV'], [206.67, 'RV'], [206.67, 'RV'], [206.67, 'RV'], [206.67, 'RV'], [206.67, 'transit'], [207.33, 'RV'], [208.67, 'transit'], [210.0, 'transit'], [210.0, 'transit'], [212.0, 'transit'], [213.33, 'RV'], [213.33, 'RV'], [215.0, 'RV'], [216.67, 'RV'], [217.33, 'RV'], [219.3, 'RV'], [220.0, 'transit'], [220.0, 'transit'], [220.0, 'transit'], [223.33, 'RV'], [223.33, 'transit'], [223.33, 'transit'], [224.0, 'transit'], [225.0, 'RV'], [226.33, 'transit'], [226.67, 'RV'], [226.67, 'RV'], [226.67, 'transit'], [226.67, 'transit'], [228.33, 'transit'], [229.64, 'RV'], [230.0, 'RV'], [232.0, 'RV'], [233.33, 'RV'], [233.33, 'RV'], [233.33, 'transit'], [236.67, 'RV'], [237.0, 'transit'], [238.0, 'transit'], [240.0, 'transit'], [240.0, 'transit'], [242.33, 'microlensing'], [243.33, 'RV'], [243.33, 'RV'], [244.33, 'RV'], [246.67, 'RV'], [250.0, 'RV'], [250.0, 'transit'], [253.33, 'timing'], [253.33, 'transit'], [253.67, 'transit'], [254.33, 'transit'], [256.67, 'RV'], [256.67, 'RV'], [259.33, 'transit'], [260.0, 'RV'], [260.0, 'RV'], [263.33, 'RV'], [263.33, 'RV'], [266.67, 'RV'], [266.67, 'transit'], [270.0, 'transit'], [272.67, 'transit'], [273.33, 'RV'], [273.33, 'RV'], [273.33, 'RV'], [276.67, 'transit'], [276.87, 'RV'], [279.0, 'transit'], [280.0, 'RV'], [280.0, 'transit'], [280.0, 'transit'], [280.97, 'RV'], [283.33, 'RV'], [283.33, 'RV'], [283.33, 'transit'], [283.33, 'transit'], [284.67, 'transit'], [285.0, 'transit'], [286.67, 'RV'], [286.67, 'microlensing'], [287.67, 'transit'], [288.33, 'RV'], [289.0, 'transit'], [289.67, 'transit'], [293.33, 'transit'], [294.67, 'transit'], [296.67, 'transit'], [297.33, 'transit'], [297.33, 'transit'], [298.33, 'RV'], [300.0, 'RV'], [300.0, 'microlensing'], [300.0, 'transit'], [300.0, 'transit'], [300.67, 'transit'], [302.33, 'transit'], [303.33, 'RV'], [303.33, 'transit'], [303.33, 'transit'], [303.67, 'RV'], [304.67, 'transit'], [305.67, 'RV'], [305.67, 'transit'], [306.67, 'RV'], [306.67, 'transit'], [306.67, 'transit'], [310.0, 'RV'], [313.0, 'transit'], [313.33, 'RV'], [313.33, 'RV'], [313.33, 'transit'], [313.67, 'transit'], [314.67, 'RV'], [315.67, 'RV'], [316.67, 'RV'], [316.67, 'RV'], [316.67, 'transit'], [316.67, 'transit'], [320.0, 'RV'], [320.0, 'RV'], [320.0, 'RV'], [320.0, 'transit'], [325.0, 'transit'], [326.67, 'transit'], [330.0, 'RV'], [333.33, 'RV'], [333.33, 'RV'], [333.33, 'RV'], [333.33, 'microlensing'], [333.33, 'transit'], [333.33, 'transit'], [335.67, 'transit'], [339.33, 'RV'], [340.0, 'RV'], [340.0, 'transit'], [342.67, 'transit'], [343.33, 'transit'], [343.33, 'transit'], [344.0, 'transit'], [350.0, 'RV'], [351.33, 'transit'], [352.33, 'transit'], [353.0, 'RV'], [353.33, 'RV'], [353.33, 'transit'], [353.33, 'transit'], [356.0, 'RV'], [356.67, 'RV'], [356.67, 'transit'], [356.67, 'transit'], [359.0, 'transit'], [360.0, 'RV'], [363.33, 'RV'], [370.0, 'RV'], [370.0, 'transit'], [373.33, 'RV'], [373.83, 'transit'], [376.67, 'RV'], [376.67, 'transit'], [379.33, 'transit'], [379.33, 'transit'], [383.33, 'RV'], [383.33, 'RV'], [383.33, 'RV'], [386.67, 'RV'], [386.67, 'RV'], [386.67, 'RV'], [386.67, 'transit'], [386.67, 'transit'], [388.0, 'transit'], [389.33, 'transit'], [389.67, 'transit'], [390.0, 'transit'], [394.33, 'transit'], [396.67, 'RV'], [400.0, 'RV']]\n",
      "List of high mass planets and methods of detection:\n",
      "[[403.33, 'RV'], [403.33, 'RV'], [403.33, 'timing'], [406.67, 'RV'], [406.67, 'RV'], [410.0, 'RV'], [410.0, 'transit'], [413.33, 'RV'], [413.33, 'RV'], [413.33, 'transit'], [416.67, 'RV'], [416.67, 'RV'], [417.67, 'transit'], [420.0, 'RV'], [420.0, 'RV'], [420.0, 'transit'], [421.67, 'transit'], [423.33, 'transit'], [423.67, 'transit'], [424.0, 'transit'], [425.0, 'transit'], [426.67, 'RV'], [426.67, 'transit'], [433.33, 'RV'], [433.33, 'RV'], [433.33, 'transit'], [436.0, 'transit'], [436.67, 'transit'], [440.0, 'transit'], [441.0, 'transit'], [443.33, 'transit'], [446.0, 'transit'], [446.67, 'RV'], [448.33, 'transit'], [450.0, 'RV'], [450.0, 'transit'], [453.33, 'RV'], [453.33, 'RV'], [453.33, 'RV'], [456.67, 'RV'], [456.67, 'RV'], [456.67, 'transit'], [457.33, 'transit'], [457.67, 'RV'], [460.0, 'RV'], [466.67, 'RV'], [466.67, 'RV'], [466.67, 'RV'], [466.67, 'RV'], [468.0, 'transit'], [470.0, 'transit'], [471.17, 'RV'], [476.67, 'RV'], [480.0, 'RV'], [483.33, 'RV'], [483.33, 'RV'], [483.33, 'transit'], [487.33, 'transit'], [490.0, 'RV'], [490.0, 'RV'], [490.0, 'transit'], [490.0, 'transit'], [494.67, 'transit'], [496.67, 'RV'], [496.67, 'RV'], [498.33, 'RV'], [500.0, 'RV'], [500.0, 'RV'], [500.0, 'RV'], [500.0, 'RV'], [500.0, 'RV'], [500.0, 'RV'], [500.0, 'microlensing'], [506.67, 'transit'], [508.0, 'transit'], [510.0, 'RV'], [513.33, 'RV'], [516.67, 'transit'], [520.0, 'RV'], [520.0, 'RV'], [523.33, 'RV'], [530.0, 'RV'], [533.33, 'RV'], [533.33, 'RV'], [533.33, 'RV'], [533.33, 'RV'], [533.33, 'RV'], [533.33, 'transit'], [538.33, 'transit'], [540.0, 'RV'], [545.67, 'transit'], [546.67, 'RV'], [558.67, 'RV'], [560.0, 'RV'], [560.0, 'RV'], [560.0, 'RV'], [565.33, 'transit'], [566.67, 'RV'], [566.67, 'RV'], [566.67, 'RV'], [566.67, 'RV'], [566.67, 'timing'], [569.67, 'transit'], [570.0, 'RV'], [576.67, 'transit'], [580.0, 'timing'], [583.33, 'RV'], [586.67, 'RV'], [586.67, 'transit'], [590.0, 'RV'], [591.33, 'transit'], [592.67, 'RV'], [592.67, 'transit'], [593.33, 'RV'], [593.33, 'RV'], [596.67, 'RV'], [600.0, 'RV'], [600.0, 'RV'], [600.0, 'RV'], [600.0, 'RV'], [600.0, 'RV'], [604.67, 'RV'], [606.0, 'RV'], [606.67, 'RV'], [606.67, 'RV'], [606.67, 'RV'], [610.0, 'RV'], [610.0, 'transit'], [610.67, 'transit'], [613.33, 'transit'], [616.67, 'RV'], [616.67, 'RV'], [616.67, 'microlensing'], [618.33, 'transit'], [623.33, 'RV'], [626.67, 'RV'], [626.67, 'RV'], [626.67, 'transit'], [633.33, 'RV'], [633.33, 'RV'], [633.33, 'RV'], [633.33, 'RV'], [633.33, 'RV'], [633.33, 'RV'], [633.33, 'timing'], [633.33, 'transit'], [636.67, 'transit'], [640.0, 'RV'], [641.67, 'transit'], [648.67, 'transit'], [660.0, 'RV'], [660.0, 'RV'], [663.33, 'RV'], [663.33, 'RV'], [666.67, 'RV'], [666.67, 'RV'], [666.67, 'RV'], [666.67, 'RV'], [666.67, 'RV'], [666.67, 'RV'], [666.67, 'RV'], [666.67, 'imaging'], [670.0, 'RV'], [670.0, 'transit'], [671.08, 'transit'], [676.67, 'transit'], [678.0, 'transit'], [686.67, 'RV'], [686.67, 'transit'], [686.67, 'transit'], [688.91, 'RV'], [696.67, 'transit'], [700.0, 'RV'], [700.0, 'RV'], [700.0, 'RV'], [700.0, 'RV'], [700.33, 'transit'], [703.33, 'RV'], [704.67, 'transit'], [706.67, 'RV'], [710.0, 'RV'], [715.67, 'transit'], [723.33, 'RV'], [723.33, 'transit'], [723.67, 'transit'], [726.67, 'transit'], [726.67, 'transit'], [730.0, 'RV'], [733.33, 'RV'], [733.33, 'RV'], [733.33, 'microlensing'], [733.33, 'transit'], [733.33, 'transit'], [733.33, 'transit'], [736.67, 'RV'], [746.67, 'RV'], [746.67, 'RV'], [747.33, 'transit'], [748.0, 'transit'], [753.33, 'RV'], [753.33, 'transit'], [759.67, 'transit'], [760.0, 'RV'], [763.33, 'RV'], [766.67, 'RV'], [766.67, 'RV'], [766.67, 'RV'], [766.67, 'RV'], [766.67, 'timing'], [770.0, 'transit'], [773.33, 'transit'], [783.33, 'RV'], [790.0, 'RV'], [790.0, 'RV'], [800.0, 'RV'], [800.0, 'RV'], [810.0, 'RV'], [813.33, 'RV'], [816.67, 'transit'], [820.0, 'RV'], [820.0, 'RV'], [823.33, 'transit'], [829.0, 'transit'], [830.0, 'RV'], [830.0, 'transit'], [833.33, 'RV'], [833.33, 'RV'], [833.33, 'transit'], [833.33, 'transit'], [836.67, 'RV'], [843.33, 'RV'], [846.67, 'RV'], [846.67, 'RV'], [860.0, 'RV'], [866.67, 'RV'], [866.67, 'RV'], [866.67, 'RV'], [866.67, 'microlensing'], [866.67, 'microlensing'], [889.9, 'RV'], [900.0, 'RV'], [900.0, 'RV'], [900.0, 'RV'], [900.0, 'RV'], [903.33, 'RV'], [903.33, 'transit'], [910.0, 'RV'], [916.67, 'transit'], [926.67, 'transit'], [933.33, 'RV'], [933.33, 'timing'], [933.33, 'transit'], [937.67, 'RV'], [940.0, 'transit'], [943.33, 'RV'], [943.33, 'RV'], [953.33, 'transit'], [966.67, 'RV'], [966.67, 'RV'], [966.67, 'RV'], [976.67, 'RV'], [980.0, 'RV'], [986.67, 'transit'], [993.33, 'RV'], [1000.0, 'RV'], [1000.0, 'RV'], [1000.0, 'RV'], [1000.0, 'RV'], [1013.33, 'RV'], [1020.0, 'RV'], [1020.0, 'RV'], [1020.0, 'transit'], [1030.0, 'RV'], [1033.33, 'RV'], [1033.33, 'RV'], [1033.33, 'RV'], [1040.0, 'RV'], [1050.0, 'RV'], [1050.0, 'RV'], [1053.33, 'RV'], [1060.0, 'RV'], [1063.67, 'transit'], [1064.67, 'RV'], [1066.67, 'RV'], [1066.67, 'RV'], [1066.67, 'timing'], [1076.67, 'transit'], [1083.33, 'transit'], [1090.0, 'transit'], [1093.33, 'RV'], [1100.0, 'RV'], [1100.0, 'RV'], [1103.33, 'transit'], [1109.33, 'transit'], [1123.33, 'RV'], [1126.33, 'RV'], [1156.67, 'transit'], [1160.0, 'RV'], [1166.67, 'RV'], [1166.67, 'microlensing'], [1176.67, 'RV'], [1183.33, 'RV'], [1200.0, 'transit'], [1211.67, 'RV'], [1233.33, 'RV'], [1233.33, 'microlensing'], [1236.67, 'RV'], [1236.67, 'RV'], [1286.67, 'RV'], [1292.67, 'RV'], [1293.33, 'RV'], [1293.33, 'RV'], [1300.0, 'microlensing'], [1303.33, 'RV'], [1313.33, 'RV'], [1333.33, 'RV'], [1333.33, 'RV'], [1333.33, 'imaging'], [1333.33, 'imaging'], [1336.67, 'transit'], [1346.67, 'RV'], [1354.33, 'transit'], [1366.67, 'RV'], [1366.67, 'RV'], [1366.67, 'microlensing'], [1397.67, 'transit'], [1400.0, 'RV'], [1400.0, 'timing'], [1400.0, 'transit'], [1403.33, 'RV'], [1413.33, 'transit'], [1446.67, 'transit'], [1466.67, 'RV'], [1486.67, 'RV'], [1500.0, 'RV'], [1500.0, 'RV'], [1504.33, 'RV'], [1530.0, 'transit'], [1533.33, 'RV'], [1533.33, 'RV'], [1533.33, 'microlensing'], [1586.0, 'timing'], [1600.0, 'RV'], [1600.0, 'microlensing'], [1616.67, 'RV'], [1623.33, 'transit'], [1633.33, 'RV'], [1650.0, 'RV'], [1658.33, 'RV'], [1666.67, 'imaging'], [1666.67, 'imaging'], [1666.67, 'imaging'], [1670.0, 'RV'], [1670.0, 'transit'], [1673.33, 'RV'], [1700.0, 'RV'], [1700.0, 'RV'], [1710.0, 'RV'], [1720.0, 'RV'], [1736.67, 'RV'], [1750.0, 'RV'], [1766.67, 'RV'], [1766.67, 'RV'], [1766.67, 'RV'], [1800.0, 'RV'], [1833.33, 'imaging'], [1870.0, 'RV'], [1900.0, 'RV'], [1920.0, 'RV'], [1966.67, 'RV'], [1966.67, 'RV'], [1966.67, 'transit'], [1993.33, 'RV'], [2000.0, 'RV'], [2000.0, 'RV'], [2000.0, 'imaging'], [2016.67, 'timing'], [2033.33, 'RV'], [2033.33, 'RV'], [2033.33, 'RV'], [2043.33, 'RV'], [2097.33, 'RV'], [2123.33, 'RV'], [2126.67, 'RV'], [2143.33, 'RV'], [2156.67, 'RV'], [2166.67, 'RV'], [2166.67, 'RV'], [2166.67, 'imaging'], [2166.67, 'imaging'], [2186.67, 'RV'], [2191.67, 'RV'], [2200.0, 'RV'], [2233.33, 'RV'], [2266.67, 'RV'], [2266.67, 'RV'], [2286.67, 'RV'], [2300.0, 'RV'], [2300.0, 'RV'], [2320.0, 'timing'], [2323.33, 'RV'], [2333.33, 'RV'], [2333.33, 'RV'], [2333.33, 'imaging'], [2333.33, 'imaging'], [2333.33, 'imaging'], [2366.67, 'RV'], [2400.0, 'RV'], [2400.0, 'RV'], [2415.33, 'transit'], [2433.33, 'timing'], [2447.0, 'transit'], [2466.67, 'RV'], [2486.67, 'RV'], [2520.0, 'RV'], [2533.33, 'RV'], [2533.33, 'RV'], [2533.33, 'transit'], [2553.0, 'RV'], [2559.67, 'RV'], [2566.67, 'RV'], [2566.67, 'timing'], [2583.33, 'RV'], [2600.0, 'RV'], [2600.0, 'RV'], [2600.0, 'microlensing'], [2650.0, 'RV'], [2665.67, 'RV'], [2666.67, 'imaging'], [2666.67, 'timing'], [2700.0, 'RV'], [2766.67, 'RV'], [2800.0, 'transit'], [2913.33, 'transit'], [2926.67, 'RV'], [2940.0, 'RV'], [2953.33, 'RV'], [3000.0, 'RV'], [3033.33, 'RV'], [3060.0, 'RV'], [3093.33, 'transit'], [3133.33, 'RV'], [3203.33, 'RV'], [3233.33, 'RV'], [3233.33, 'transit'], [3236.67, 'RV'], [3253.33, 'RV'], [3266.67, 'imaging'], [3277.82, 'RV'], [3300.0, 'RV'], [3333.33, 'RV'], [3333.33, 'imaging'], [3333.33, 'imaging'], [3366.67, 'transit'], [3433.33, 'RV'], [3433.33, 'RV'], [3463.33, 'RV'], [3463.33, 'transit'], [3476.67, 'transit'], [3533.33, 'RV'], [3566.67, 'RV'], [3566.67, 'RV'], [3593.33, 'RV'], [3660.0, 'RV'], [3666.67, 'RV'], [3666.67, 'imaging'], [3666.67, 'imaging'], [3666.67, 'imaging'], [3666.67, 'microlensing'], [3700.0, 'RV'], [3733.33, 'RV'], [3733.33, 'imaging'], [3930.0, 'transit'], [4000.0, 'imaging'], [4000.0, 'imaging'], [4000.0, 'imaging'], [4156.67, 'RV'], [4166.67, 'imaging'], [4194.27, 'RV'], [4333.33, 'RV'], [4333.33, 'imaging'], [4333.33, 'microlensing'], [4400.0, 'RV'], [4550.0, 'RV'], [4633.33, 'imaging'], [4666.67, 'RV'], [4666.67, 'imaging'], [4666.67, 'transit'], [4733.33, 'RV'], [4766.67, 'timing'], [4800.0, 'RV'], [4833.33, 'RV'], [5000.0, 'imaging'], [5013.33, 'RV'], [5333.33, 'imaging'], [5666.67, 'imaging'], [5731.0, 'RV'], [5800.0, 'RV'], [5833.33, 'imaging'], [5900.0, 'RV'], [6366.67, 'transit'], [6466.67, 'RV'], [6600.0, 'RV'], [6666.67, 'RV'], [6666.67, 'imaging'], [6733.33, 'timing'], [6866.67, 'RV'], [7000.0, 'imaging'], [7140.0, 'RV'], [7166.67, 'imaging'], [7220.0, 'transit'], [7333.33, 'RV'], [7333.33, 'imaging'], [8000.0, 'RV'], [8000.0, 'imaging'], [9000.0, 'RV'], [10000.0, 'imaging'], [10000.0, 'imaging'], [16666.67, 'imaging'], [26666.67, 'timing'], [28400.0, 'RV'], [56566.67, 'RV'], [87666.67, 'RV']]\n"
     ]
    }
   ],
   "source": [
    "#Lists\n",
    "lowMassList = []\n",
    "medMassList = []\n",
    "highMassList = []\n",
    "\n",
    "#Mass loop\n",
    "for n in range(len(data)):\n",
    "    method = data[n][col['method']]\n",
    "    mass = data[n][col['mass']]\n",
    "    if method != '' and mass != '':\n",
    "        mass = float(mass)\n",
    "        mass /= earthMass\n",
    "        if mass <= 200:\n",
    "            lowMassList += [[round(mass,2),method]]\n",
    "        elif mass > 200 and mass <= 400:\n",
    "            medMassList += [[round(mass,2),method]]\n",
    "        else:\n",
    "            highMassList += [[round(mass,2),method]]\n",
    "\n",
    "print('List of low mass planets and methods of detection:')\n",
    "lowMassList.sort()\n",
    "print(lowMassList)\n",
    "print('List of medium mass planets and methods of detection:')\n",
    "medMassList.sort()\n",
    "print(medMassList)\n",
    "print('List of high mass planets and methods of detection:')\n",
    "highMassList.sort()\n",
    "print(highMassList)"
   ]
  },
  {
   "cell_type": "code",
   "execution_count": null,
   "id": "036db757",
   "metadata": {},
   "outputs": [],
   "source": [
    "df = pd.DataFrame()"
   ]
  },
  {
   "cell_type": "code",
   "execution_count": 199,
   "id": "534d0638",
   "metadata": {},
   "outputs": [
    {
     "name": "stdout",
     "output_type": "stream",
     "text": [
      "Breakdown of the low mass planets for detection method:\n",
      "[transit, radial velocity, microlensing, imaging, timing]\n",
      "[201, 237, 23, 3, 5]\n",
      "Breakdown of the medium mass planets for detection method:\n",
      "[transit, radial velocity, microlensing, imaging, timing]\n",
      "[91, 86, 5, 1, 2]\n",
      "Breakdown of the high mass planets for detection method:\n",
      "[transit, radial velocity, microlensing, imaging, timing]\n",
      "[119, 335, 15, 41, 18]\n"
     ]
    }
   ],
   "source": [
    "#resetting counters\n",
    "transitLen = 1\n",
    "rvLen = 1\n",
    "microLen = 1\n",
    "imagingLen = 1\n",
    "timingLen = 1\n",
    "\n",
    "for i in range(len(lowMassList)):\n",
    "    method = lowMassList[i][1]\n",
    "    getMethod(method)\n",
    "\n",
    "lowMassBreakdown = []\n",
    "lowMassBreakdown += [transitLen,rvLen,microLen,imagingLen,timingLen]\n",
    "print('Breakdown of the low mass planets for detection method:')\n",
    "print('[transit, radial velocity, microlensing, imaging, timing]')\n",
    "print(lowMassBreakdown)\n",
    "\n",
    "#resetting counters\n",
    "transitLen = 1\n",
    "rvLen = 1\n",
    "microLen = 1\n",
    "imagingLen = 1\n",
    "timingLen = 1\n",
    "\n",
    "for i in range(len(medMassList)):\n",
    "    method = medMassList[i][1]\n",
    "    getMethod(method)\n",
    "\n",
    "medMassBreakdown = []\n",
    "medMassBreakdown += [transitLen,rvLen,microLen,imagingLen,timingLen]\n",
    "print('Breakdown of the medium mass planets for detection method:')\n",
    "print('[transit, radial velocity, microlensing, imaging, timing]')\n",
    "print(medMassBreakdown)\n",
    "\n",
    "#resetting counters\n",
    "transitLen = 1\n",
    "rvLen = 1\n",
    "microLen = 1\n",
    "imagingLen = 1\n",
    "timingLen = 1\n",
    "\n",
    "for i in range(len(highMassList)):\n",
    "    method = highMassList[i][1]\n",
    "    getMethod(method)\n",
    "\n",
    "highMassBreakdown = []\n",
    "highMassBreakdown += [transitLen,rvLen,microLen,imagingLen,timingLen]\n",
    "print('Breakdown of the high mass planets for detection method:')\n",
    "print('[transit, radial velocity, microlensing, imaging, timing]')\n",
    "print(highMassBreakdown)"
   ]
  },
  {
   "cell_type": "code",
   "execution_count": 200,
   "id": "efefe4c1",
   "metadata": {},
   "outputs": [
    {
     "data": {
      "text/html": [
       "<style type=\"text/css\">\n",
       "</style>\n",
       "<table id=\"T_e27ec_\">\n",
       "  <caption>Amount of Low-Mass Exoplanets Detected per Detection Method</caption>\n",
       "  <thead>\n",
       "    <tr>\n",
       "      <th class=\"blank level0\" >&nbsp;</th>\n",
       "      <th class=\"col_heading level0 col0\" >Amount</th>\n",
       "    </tr>\n",
       "    <tr>\n",
       "      <th class=\"index_name level0\" >Method</th>\n",
       "      <th class=\"blank col0\" >&nbsp;</th>\n",
       "    </tr>\n",
       "  </thead>\n",
       "  <tbody>\n",
       "    <tr>\n",
       "      <th id=\"T_e27ec_level0_row0\" class=\"row_heading level0 row0\" >transit</th>\n",
       "      <td id=\"T_e27ec_row0_col0\" class=\"data row0 col0\" >201</td>\n",
       "    </tr>\n",
       "    <tr>\n",
       "      <th id=\"T_e27ec_level0_row1\" class=\"row_heading level0 row1\" >RV</th>\n",
       "      <td id=\"T_e27ec_row1_col0\" class=\"data row1 col0\" >237</td>\n",
       "    </tr>\n",
       "    <tr>\n",
       "      <th id=\"T_e27ec_level0_row2\" class=\"row_heading level0 row2\" >microlensing</th>\n",
       "      <td id=\"T_e27ec_row2_col0\" class=\"data row2 col0\" >23</td>\n",
       "    </tr>\n",
       "    <tr>\n",
       "      <th id=\"T_e27ec_level0_row3\" class=\"row_heading level0 row3\" >imaging</th>\n",
       "      <td id=\"T_e27ec_row3_col0\" class=\"data row3 col0\" >3</td>\n",
       "    </tr>\n",
       "    <tr>\n",
       "      <th id=\"T_e27ec_level0_row4\" class=\"row_heading level0 row4\" >timing</th>\n",
       "      <td id=\"T_e27ec_row4_col0\" class=\"data row4 col0\" >5</td>\n",
       "    </tr>\n",
       "  </tbody>\n",
       "</table>\n"
      ],
      "text/plain": [
       "<pandas.io.formats.style.Styler at 0x11c7c63a0>"
      ]
     },
     "execution_count": 200,
     "metadata": {},
     "output_type": "execute_result"
    }
   ],
   "source": [
    "df1 = pd.DataFrame(lowMassBreakdown,index=['transit','RV', 'microlensing', 'imaging', 'timing'],\n",
    "                  columns=['Amount'])\n",
    "df1.index.name = 'Method'\n",
    "df1 = df1.style.set_caption(\"Amount of Low-Mass Exoplanets Detected per Detection Method\")\n",
    "\n",
    "df1"
   ]
  },
  {
   "cell_type": "code",
   "execution_count": 201,
   "id": "37f5edad",
   "metadata": {},
   "outputs": [
    {
     "data": {
      "text/html": [
       "<style type=\"text/css\">\n",
       "</style>\n",
       "<table id=\"T_36004_\">\n",
       "  <caption>Amount of Medium-Mass Exoplanets Detected per Detection Method</caption>\n",
       "  <thead>\n",
       "    <tr>\n",
       "      <th class=\"blank level0\" >&nbsp;</th>\n",
       "      <th class=\"col_heading level0 col0\" >Amount</th>\n",
       "    </tr>\n",
       "    <tr>\n",
       "      <th class=\"index_name level0\" >Method</th>\n",
       "      <th class=\"blank col0\" >&nbsp;</th>\n",
       "    </tr>\n",
       "  </thead>\n",
       "  <tbody>\n",
       "    <tr>\n",
       "      <th id=\"T_36004_level0_row0\" class=\"row_heading level0 row0\" >transit</th>\n",
       "      <td id=\"T_36004_row0_col0\" class=\"data row0 col0\" >91</td>\n",
       "    </tr>\n",
       "    <tr>\n",
       "      <th id=\"T_36004_level0_row1\" class=\"row_heading level0 row1\" >RV</th>\n",
       "      <td id=\"T_36004_row1_col0\" class=\"data row1 col0\" >86</td>\n",
       "    </tr>\n",
       "    <tr>\n",
       "      <th id=\"T_36004_level0_row2\" class=\"row_heading level0 row2\" >microlensing</th>\n",
       "      <td id=\"T_36004_row2_col0\" class=\"data row2 col0\" >5</td>\n",
       "    </tr>\n",
       "    <tr>\n",
       "      <th id=\"T_36004_level0_row3\" class=\"row_heading level0 row3\" >imaging</th>\n",
       "      <td id=\"T_36004_row3_col0\" class=\"data row3 col0\" >1</td>\n",
       "    </tr>\n",
       "    <tr>\n",
       "      <th id=\"T_36004_level0_row4\" class=\"row_heading level0 row4\" >timing</th>\n",
       "      <td id=\"T_36004_row4_col0\" class=\"data row4 col0\" >2</td>\n",
       "    </tr>\n",
       "  </tbody>\n",
       "</table>\n"
      ],
      "text/plain": [
       "<pandas.io.formats.style.Styler at 0x11c7c6b80>"
      ]
     },
     "execution_count": 201,
     "metadata": {},
     "output_type": "execute_result"
    }
   ],
   "source": [
    "df2 = pd.DataFrame(medMassBreakdown,index=['transit','RV', 'microlensing', 'imaging', 'timing'],\n",
    "                  columns=['Amount'])\n",
    "df2.index.name = 'Method'\n",
    "df2 = df2.style.set_caption(\"Amount of Medium-Mass Exoplanets Detected per Detection Method\")\n",
    "\n",
    "df2"
   ]
  },
  {
   "cell_type": "code",
   "execution_count": 202,
   "id": "93602d9a",
   "metadata": {},
   "outputs": [
    {
     "data": {
      "text/html": [
       "<style type=\"text/css\">\n",
       "</style>\n",
       "<table id=\"T_5c497_\">\n",
       "  <caption>Amount of High-Mass Exoplanets Detected per Detection Method</caption>\n",
       "  <thead>\n",
       "    <tr>\n",
       "      <th class=\"blank level0\" >&nbsp;</th>\n",
       "      <th class=\"col_heading level0 col0\" >Amount</th>\n",
       "    </tr>\n",
       "    <tr>\n",
       "      <th class=\"index_name level0\" >Method</th>\n",
       "      <th class=\"blank col0\" >&nbsp;</th>\n",
       "    </tr>\n",
       "  </thead>\n",
       "  <tbody>\n",
       "    <tr>\n",
       "      <th id=\"T_5c497_level0_row0\" class=\"row_heading level0 row0\" >transit</th>\n",
       "      <td id=\"T_5c497_row0_col0\" class=\"data row0 col0\" >119</td>\n",
       "    </tr>\n",
       "    <tr>\n",
       "      <th id=\"T_5c497_level0_row1\" class=\"row_heading level0 row1\" >RV</th>\n",
       "      <td id=\"T_5c497_row1_col0\" class=\"data row1 col0\" >335</td>\n",
       "    </tr>\n",
       "    <tr>\n",
       "      <th id=\"T_5c497_level0_row2\" class=\"row_heading level0 row2\" >microlensing</th>\n",
       "      <td id=\"T_5c497_row2_col0\" class=\"data row2 col0\" >15</td>\n",
       "    </tr>\n",
       "    <tr>\n",
       "      <th id=\"T_5c497_level0_row3\" class=\"row_heading level0 row3\" >imaging</th>\n",
       "      <td id=\"T_5c497_row3_col0\" class=\"data row3 col0\" >41</td>\n",
       "    </tr>\n",
       "    <tr>\n",
       "      <th id=\"T_5c497_level0_row4\" class=\"row_heading level0 row4\" >timing</th>\n",
       "      <td id=\"T_5c497_row4_col0\" class=\"data row4 col0\" >18</td>\n",
       "    </tr>\n",
       "  </tbody>\n",
       "</table>\n"
      ],
      "text/plain": [
       "<pandas.io.formats.style.Styler at 0x11c7c6a30>"
      ]
     },
     "execution_count": 202,
     "metadata": {},
     "output_type": "execute_result"
    }
   ],
   "source": [
    "df3 = pd.DataFrame(highMassBreakdown,index=['transit','RV', 'microlensing', 'imaging', 'timing'],\n",
    "                  columns=['Amount'])\n",
    "df3.index.name = 'Method'\n",
    "df3 = df3.style.set_caption(\"Amount of High-Mass Exoplanets Detected per Detection Method\")\n",
    "\n",
    "df3"
   ]
  },
  {
   "cell_type": "code",
   "execution_count": 203,
   "id": "6531125a",
   "metadata": {},
   "outputs": [
    {
     "name": "stdout",
     "output_type": "stream",
     "text": [
      "List of small radius planets and methods of detection:\n",
      "[[0.03, 'transit'], [0.3, 'transit'], [0.41, 'transit'], [0.48, 'transit'], [0.51, 'transit'], [0.52, 'transit'], [0.53, 'transit'], [0.54, 'transit'], [0.55, 'transit'], [0.56, 'transit'], [0.58, 'transit'], [0.59, 'transit'], [0.6, 'transit'], [0.6, 'transit'], [0.6, 'transit'], [0.64, 'transit'], [0.65, 'transit'], [0.65, 'transit'], [0.66, 'transit'], [0.67, 'transit'], [0.67, 'transit'], [0.68, 'transit'], [0.69, 'transit'], [0.7, 'transit'], [0.71, 'transit'], [0.71, 'transit'], [0.72, 'transit'], [0.73, 'transit'], [0.74, 'transit'], [0.74, 'transit'], [0.75, 'transit'], [0.75, 'transit'], [0.76, 'imaging'], [0.76, 'transit'], [0.76, 'transit'], [0.76, 'transit'], [0.76, 'transit'], [0.76, 'transit'], [0.76, 'transit'], [0.76, 'transit'], [0.76, 'transit'], [0.76, 'transit'], [0.77, 'transit'], [0.77, 'transit'], [0.78, 'transit'], [0.78, 'transit'], [0.78, 'transit'], [0.78, 'transit'], [0.78, 'transit'], [0.8, 'transit'], [0.8, 'transit'], [0.8, 'transit'], [0.8, 'transit'], [0.8, 'transit'], [0.8, 'transit'], [0.8, 'transit'], [0.8, 'transit'], [0.8, 'transit'], [0.81, 'transit'], [0.81, 'transit'], [0.82, 'transit'], [0.82, 'transit'], [0.82, 'transit'], [0.82, 'transit'], [0.82, 'transit'], [0.82, 'transit'], [0.83, 'transit'], [0.83, 'transit'], [0.83, 'transit'], [0.84, 'transit'], [0.84, 'transit'], [0.84, 'transit'], [0.84, 'transit'], [0.84, 'transit'], [0.85, 'transit'], [0.85, 'transit'], [0.86, 'transit'], [0.86, 'transit'], [0.86, 'transit'], [0.86, 'transit'], [0.86, 'transit'], [0.87, 'imaging'], [0.87, 'transit'], [0.87, 'transit'], [0.87, 'transit'], [0.87, 'transit'], [0.87, 'transit'], [0.88, 'transit'], [0.88, 'transit'], [0.88, 'transit'], [0.88, 'transit'], [0.88, 'transit'], [0.88, 'transit'], [0.88, 'transit'], [0.88, 'transit'], [0.88, 'transit'], [0.88, 'transit'], [0.88, 'transit'], [0.88, 'transit'], [0.89, 'transit'], [0.9, 'transit'], [0.9, 'transit'], [0.9, 'transit'], [0.9, 'transit'], [0.91, 'transit'], [0.91, 'transit'], [0.91, 'transit'], [0.91, 'transit'], [0.91, 'transit'], [0.91, 'transit'], [0.92, 'transit'], [0.92, 'transit'], [0.92, 'transit'], [0.92, 'transit'], [0.92, 'transit'], [0.93, 'transit'], [0.93, 'transit'], [0.93, 'transit'], [0.93, 'transit'], [0.94, 'transit'], [0.94, 'transit'], [0.94, 'transit'], [0.94, 'transit'], [0.94, 'transit'], [0.94, 'transit'], [0.95, 'transit'], [0.95, 'transit'], [0.95, 'transit'], [0.95, 'transit'], [0.96, 'transit'], [0.96, 'transit'], [0.97, 'transit'], [0.97, 'transit'], [0.97, 'transit'], [0.97, 'transit'], [0.97, 'transit'], [0.97, 'transit'], [0.97, 'transit'], [0.98, 'transit'], [0.99, 'transit'], [0.99, 'transit'], [1.0, 'transit'], [1.0, 'transit'], [1.0, 'transit'], [1.01, 'transit'], [1.01, 'transit'], [1.01, 'transit'], [1.01, 'transit'], [1.02, 'transit'], [1.02, 'transit'], [1.02, 'transit'], [1.02, 'transit'], [1.02, 'transit'], [1.03, 'transit'], [1.03, 'transit'], [1.03, 'transit'], [1.03, 'transit'], [1.03, 'transit'], [1.03, 'transit'], [1.03, 'transit'], [1.04, 'transit'], [1.04, 'transit'], [1.04, 'transit'], [1.04, 'transit'], [1.04, 'transit'], [1.04, 'transit'], [1.04, 'transit'], [1.05, 'transit'], [1.05, 'transit'], [1.05, 'transit'], [1.05, 'transit'], [1.05, 'transit'], [1.05, 'transit'], [1.05, 'transit'], [1.06, 'transit'], [1.06, 'transit'], [1.06, 'transit'], [1.06, 'transit'], [1.06, 'transit'], [1.06, 'transit'], [1.06, 'transit'], [1.06, 'transit'], [1.06, 'transit'], [1.07, 'transit'], [1.07, 'transit'], [1.08, 'transit'], [1.08, 'transit'], [1.09, 'transit'], [1.09, 'transit'], [1.09, 'transit'], [1.09, 'transit'], [1.09, 'transit'], [1.09, 'transit'], [1.09, 'transit'], [1.09, 'transit'], [1.09, 'transit'], [1.09, 'transit'], [1.1, 'transit'], [1.1, 'transit'], [1.11, 'transit'], [1.11, 'transit'], [1.11, 'transit'], [1.11, 'transit'], [1.11, 'transit'], [1.11, 'transit'], [1.11, 'transit'], [1.11, 'transit'], [1.11, 'transit'], [1.11, 'transit'], [1.11, 'transit'], [1.11, 'transit'], [1.12, 'transit'], [1.12, 'transit'], [1.12, 'transit'], [1.12, 'transit'], [1.12, 'transit'], [1.12, 'transit'], [1.12, 'transit'], [1.12, 'transit'], [1.12, 'transit'], [1.12, 'transit'], [1.13, 'transit'], [1.13, 'transit'], [1.13, 'transit'], [1.13, 'transit'], [1.13, 'transit'], [1.13, 'transit'], [1.14, 'transit'], [1.14, 'transit'], [1.14, 'transit'], [1.14, 'transit'], [1.14, 'transit'], [1.14, 'transit'], [1.14, 'transit'], [1.14, 'transit'], [1.14, 'transit'], [1.14, 'transit'], [1.14, 'transit'], [1.15, 'transit'], [1.15, 'transit'], [1.15, 'transit'], [1.15, 'transit'], [1.15, 'transit'], [1.15, 'transit'], [1.15, 'transit'], [1.15, 'transit'], [1.15, 'transit'], [1.15, 'transit'], [1.15, 'transit'], [1.15, 'transit'], [1.15, 'transit'], [1.16, 'transit'], [1.16, 'transit'], [1.16, 'transit'], [1.16, 'transit'], [1.16, 'transit'], [1.17, 'transit'], [1.18, 'transit'], [1.18, 'transit'], [1.18, 'transit'], [1.18, 'transit'], [1.18, 'transit'], [1.18, 'transit'], [1.18, 'transit'], [1.18, 'transit'], [1.18, 'transit'], [1.18, 'transit'], [1.18, 'transit'], [1.18, 'transit'], [1.18, 'transit'], [1.19, 'transit'], [1.19, 'transit'], [1.19, 'transit'], [1.19, 'transit'], [1.19, 'transit'], [1.19, 'transit'], [1.19, 'transit'], [1.19, 'transit'], [1.19, 'transit'], [1.19, 'transit'], [1.19, 'transit'], [1.19, 'transit'], [1.19, 'transit'], [1.2, 'transit'], [1.2, 'transit'], [1.2, 'transit'], [1.2, 'transit'], [1.2, 'transit'], [1.2, 'transit'], [1.2, 'transit'], [1.2, 'transit'], [1.2, 'transit'], [1.21, 'transit'], [1.21, 'transit'], [1.21, 'transit'], [1.21, 'transit'], [1.21, 'transit'], [1.21, 'transit'], [1.21, 'transit'], [1.21, 'transit'], [1.21, 'transit'], [1.22, 'transit'], [1.22, 'transit'], [1.22, 'transit'], [1.22, 'transit'], [1.22, 'transit'], [1.22, 'transit'], [1.22, 'transit'], [1.22, 'transit'], [1.22, 'transit'], [1.22, 'transit'], [1.22, 'transit'], [1.22, 'transit'], [1.22, 'transit'], [1.22, 'transit'], [1.23, 'transit'], [1.23, 'transit'], [1.23, 'transit'], [1.23, 'transit'], [1.23, 'transit'], [1.23, 'transit'], [1.23, 'transit'], [1.23, 'transit'], [1.23, 'transit'], [1.23, 'transit'], [1.24, 'transit'], [1.24, 'transit'], [1.24, 'transit'], [1.24, 'transit'], [1.24, 'transit'], [1.24, 'transit'], [1.24, 'transit'], [1.24, 'transit'], [1.24, 'transit'], [1.25, 'transit'], [1.25, 'transit'], [1.25, 'transit'], [1.25, 'transit'], [1.25, 'transit'], [1.25, 'transit'], [1.25, 'transit'], [1.25, 'transit'], [1.25, 'transit'], [1.25, 'transit'], [1.25, 'transit'], [1.25, 'transit'], [1.25, 'transit'], [1.25, 'transit'], [1.25, 'transit'], [1.25, 'transit'], [1.26, 'transit'], [1.26, 'transit'], [1.27, 'transit'], [1.27, 'transit'], [1.27, 'transit'], [1.27, 'transit'], [1.27, 'transit'], [1.27, 'transit'], [1.27, 'transit'], [1.27, 'transit'], [1.27, 'transit'], [1.27, 'transit'], [1.28, 'transit'], [1.28, 'transit'], [1.28, 'transit'], [1.28, 'transit'], [1.28, 'transit'], [1.28, 'transit'], [1.28, 'transit'], [1.28, 'transit'], [1.28, 'transit'], [1.28, 'transit'], [1.28, 'transit'], [1.28, 'transit'], [1.29, 'transit'], [1.29, 'transit'], [1.29, 'transit'], [1.29, 'transit'], [1.29, 'transit'], [1.29, 'transit'], [1.29, 'transit'], [1.29, 'transit'], [1.29, 'transit'], [1.3, 'transit'], [1.3, 'transit'], [1.3, 'transit'], [1.3, 'transit'], [1.3, 'transit'], [1.3, 'transit'], [1.3, 'transit'], [1.3, 'transit'], [1.3, 'transit'], [1.3, 'transit'], [1.3, 'transit'], [1.31, 'transit'], [1.31, 'transit'], [1.31, 'transit'], [1.31, 'transit'], [1.31, 'transit'], [1.31, 'transit'], [1.31, 'transit'], [1.31, 'transit'], [1.31, 'transit'], [1.32, 'transit'], [1.32, 'transit'], [1.32, 'transit'], [1.32, 'transit'], [1.32, 'transit'], [1.32, 'transit'], [1.32, 'transit'], [1.32, 'transit'], [1.32, 'transit'], [1.32, 'transit'], [1.32, 'transit'], [1.32, 'transit'], [1.32, 'transit'], [1.33, 'transit'], [1.33, 'transit'], [1.33, 'transit'], [1.33, 'transit'], [1.33, 'transit'], [1.33, 'transit'], [1.33, 'transit'], [1.33, 'transit'], [1.33, 'transit'], [1.33, 'transit'], [1.33, 'transit'], [1.34, 'transit'], [1.34, 'transit'], [1.34, 'transit'], [1.34, 'transit'], [1.34, 'transit'], [1.34, 'transit'], [1.34, 'transit'], [1.34, 'transit'], [1.34, 'transit'], [1.34, 'transit'], [1.34, 'transit'], [1.34, 'transit'], [1.34, 'transit'], [1.34, 'transit'], [1.35, 'transit'], [1.35, 'transit'], [1.35, 'transit'], [1.35, 'transit'], [1.35, 'transit'], [1.35, 'transit'], [1.35, 'transit'], [1.35, 'transit'], [1.36, 'transit'], [1.36, 'transit'], [1.36, 'transit'], [1.36, 'transit'], [1.36, 'transit'], [1.36, 'transit'], [1.36, 'transit'], [1.36, 'transit'], [1.36, 'transit'], [1.36, 'transit'], [1.36, 'transit'], [1.37, 'transit'], [1.37, 'transit'], [1.37, 'transit'], [1.37, 'transit'], [1.37, 'transit'], [1.37, 'transit'], [1.37, 'transit'], [1.37, 'transit'], [1.38, 'transit'], [1.38, 'transit'], [1.38, 'transit'], [1.38, 'transit'], [1.38, 'transit'], [1.38, 'transit'], [1.38, 'transit'], [1.38, 'transit'], [1.38, 'transit'], [1.38, 'transit'], [1.39, 'transit'], [1.39, 'transit'], [1.39, 'transit'], [1.39, 'transit'], [1.39, 'transit'], [1.39, 'transit'], [1.4, 'transit'], [1.4, 'transit'], [1.4, 'transit'], [1.4, 'transit'], [1.4, 'transit'], [1.4, 'transit'], [1.4, 'transit'], [1.4, 'transit'], [1.41, 'transit'], [1.41, 'transit'], [1.41, 'transit'], [1.41, 'transit'], [1.41, 'transit'], [1.41, 'transit'], [1.41, 'transit'], [1.41, 'transit'], [1.41, 'transit'], [1.41, 'transit'], [1.41, 'transit'], [1.42, 'transit'], [1.42, 'transit'], [1.42, 'transit'], [1.42, 'transit'], [1.42, 'transit'], [1.42, 'transit'], [1.42, 'transit'], [1.42, 'transit'], [1.42, 'transit'], [1.42, 'transit'], [1.42, 'transit'], [1.42, 'transit'], [1.43, 'transit'], [1.43, 'transit'], [1.43, 'transit'], [1.43, 'transit'], [1.43, 'transit'], [1.43, 'transit'], [1.43, 'transit'], [1.43, 'transit'], [1.43, 'transit'], [1.43, 'transit'], [1.43, 'transit'], [1.43, 'transit'], [1.43, 'transit'], [1.43, 'transit'], [1.43, 'transit'], [1.43, 'transit'], [1.43, 'transit'], [1.44, 'transit'], [1.44, 'transit'], [1.44, 'transit'], [1.44, 'transit'], [1.44, 'transit'], [1.44, 'transit'], [1.44, 'transit'], [1.44, 'transit'], [1.44, 'transit'], [1.44, 'transit'], [1.44, 'transit'], [1.45, 'transit'], [1.46, 'transit'], [1.46, 'transit'], [1.46, 'transit'], [1.46, 'transit'], [1.46, 'transit'], [1.46, 'transit'], [1.46, 'transit'], [1.46, 'transit'], [1.46, 'transit'], [1.46, 'transit'], [1.46, 'transit'], [1.46, 'transit'], [1.46, 'transit'], [1.46, 'transit'], [1.46, 'transit'], [1.46, 'transit'], [1.46, 'transit'], [1.47, 'transit'], [1.47, 'transit'], [1.47, 'transit'], [1.47, 'transit'], [1.47, 'transit'], [1.47, 'transit'], [1.47, 'transit'], [1.47, 'transit'], [1.47, 'transit'], [1.47, 'transit'], [1.48, 'transit'], [1.48, 'transit'], [1.48, 'transit'], [1.48, 'transit'], [1.48, 'transit'], [1.48, 'transit'], [1.48, 'transit'], [1.48, 'transit'], [1.48, 'transit'], [1.48, 'transit'], [1.48, 'transit'], [1.49, 'transit'], [1.49, 'transit'], [1.49, 'transit'], [1.49, 'transit'], [1.49, 'transit'], [1.49, 'transit'], [1.49, 'transit'], [1.49, 'transit'], [1.49, 'transit'], [1.49, 'transit'], [1.49, 'transit'], [1.49, 'transit'], [1.5, 'transit'], [1.5, 'transit'], [1.5, 'transit'], [1.5, 'transit'], [1.5, 'transit'], [1.5, 'transit'], [1.5, 'transit'], [1.5, 'transit'], [1.51, 'transit'], [1.51, 'transit'], [1.51, 'transit'], [1.51, 'transit'], [1.51, 'transit'], [1.51, 'transit'], [1.51, 'transit'], [1.51, 'transit'], [1.51, 'transit'], [1.51, 'transit'], [1.51, 'transit'], [1.51, 'transit'], [1.51, 'transit'], [1.52, 'transit'], [1.52, 'transit'], [1.52, 'transit'], [1.52, 'transit'], [1.52, 'transit'], [1.52, 'transit'], [1.52, 'transit'], [1.52, 'transit'], [1.52, 'transit'], [1.52, 'transit'], [1.52, 'transit'], [1.52, 'transit'], [1.52, 'transit'], [1.52, 'transit'], [1.52, 'transit'], [1.52, 'transit'], [1.52, 'transit'], [1.53, 'transit'], [1.53, 'transit'], [1.53, 'transit'], [1.53, 'transit'], [1.53, 'transit'], [1.53, 'transit'], [1.53, 'transit'], [1.53, 'transit'], [1.53, 'transit'], [1.53, 'transit'], [1.53, 'transit'], [1.54, 'transit'], [1.54, 'transit'], [1.54, 'transit'], [1.54, 'transit'], [1.54, 'transit'], [1.55, 'transit'], [1.55, 'transit'], [1.55, 'transit'], [1.55, 'transit'], [1.55, 'transit'], [1.55, 'transit'], [1.55, 'transit'], [1.55, 'transit'], [1.55, 'transit'], [1.55, 'transit'], [1.55, 'transit'], [1.55, 'transit'], [1.56, 'transit'], [1.56, 'transit'], [1.56, 'transit'], [1.56, 'transit'], [1.56, 'transit'], [1.56, 'transit'], [1.56, 'transit'], [1.56, 'transit'], [1.56, 'transit'], [1.57, 'transit'], [1.57, 'transit'], [1.57, 'transit'], [1.57, 'transit'], [1.57, 'transit'], [1.57, 'transit'], [1.57, 'transit'], [1.58, 'transit'], [1.58, 'transit'], [1.58, 'transit'], [1.58, 'transit'], [1.58, 'transit'], [1.58, 'transit'], [1.58, 'transit'], [1.58, 'transit'], [1.58, 'transit'], [1.58, 'transit'], [1.58, 'transit'], [1.58, 'transit'], [1.59, 'transit'], [1.59, 'transit'], [1.59, 'transit'], [1.59, 'transit'], [1.59, 'transit'], [1.59, 'transit'], [1.59, 'transit'], [1.59, 'transit'], [1.59, 'transit'], [1.59, 'transit'], [1.6, 'RV'], [1.6, 'transit'], [1.6, 'transit'], [1.6, 'transit'], [1.6, 'transit'], [1.6, 'transit'], [1.6, 'transit'], [1.6, 'transit'], [1.6, 'transit'], [1.6, 'transit'], [1.6, 'transit'], [1.6, 'transit'], [1.61, 'transit'], [1.61, 'transit'], [1.61, 'transit'], [1.61, 'transit'], [1.61, 'transit'], [1.61, 'transit'], [1.61, 'transit'], [1.61, 'transit'], [1.61, 'transit'], [1.61, 'transit'], [1.61, 'transit'], [1.61, 'transit'], [1.61, 'transit'], [1.62, 'transit'], [1.62, 'transit'], [1.62, 'transit'], [1.62, 'transit'], [1.62, 'transit'], [1.62, 'transit'], [1.62, 'transit'], [1.62, 'transit'], [1.62, 'transit'], [1.62, 'transit'], [1.62, 'transit'], [1.62, 'transit'], [1.62, 'transit'], [1.62, 'transit'], [1.62, 'transit'], [1.62, 'transit'], [1.62, 'transit'], [1.63, 'transit'], [1.63, 'transit'], [1.63, 'transit'], [1.64, 'transit'], [1.64, 'transit'], [1.64, 'transit'], [1.64, 'transit'], [1.64, 'transit'], [1.64, 'transit'], [1.64, 'transit'], [1.64, 'transit'], [1.64, 'transit'], [1.64, 'transit'], [1.64, 'transit'], [1.64, 'transit'], [1.64, 'transit'], [1.64, 'transit'], [1.65, 'transit'], [1.65, 'transit'], [1.65, 'transit'], [1.65, 'transit'], [1.65, 'transit'], [1.65, 'transit'], [1.65, 'transit'], [1.65, 'transit'], [1.66, 'transit'], [1.66, 'transit'], [1.66, 'transit'], [1.66, 'transit'], [1.66, 'transit'], [1.66, 'transit'], [1.66, 'transit'], [1.66, 'transit'], [1.66, 'transit'], [1.66, 'transit'], [1.66, 'transit'], [1.66, 'transit'], [1.66, 'transit'], [1.67, 'transit'], [1.67, 'transit'], [1.67, 'transit'], [1.67, 'transit'], [1.67, 'transit'], [1.67, 'transit'], [1.67, 'transit'], [1.67, 'transit'], [1.67, 'transit'], [1.67, 'transit'], [1.67, 'transit'], [1.67, 'transit'], [1.67, 'transit'], [1.67, 'transit'], [1.68, 'transit'], [1.68, 'transit'], [1.68, 'transit'], [1.68, 'transit'], [1.68, 'transit'], [1.68, 'transit'], [1.68, 'transit'], [1.68, 'transit'], [1.68, 'transit'], [1.68, 'transit'], [1.68, 'transit'], [1.68, 'transit'], [1.68, 'transit'], [1.69, 'transit'], [1.69, 'transit'], [1.69, 'transit'], [1.69, 'transit'], [1.69, 'transit'], [1.69, 'transit'], [1.69, 'transit'], [1.69, 'transit'], [1.69, 'transit'], [1.7, 'transit'], [1.7, 'transit'], [1.7, 'transit'], [1.7, 'transit'], [1.7, 'transit'], [1.7, 'transit'], [1.7, 'transit'], [1.7, 'transit'], [1.7, 'transit'], [1.7, 'transit'], [1.71, 'transit'], [1.71, 'transit'], [1.71, 'transit'], [1.71, 'transit'], [1.71, 'transit'], [1.71, 'transit'], [1.71, 'transit'], [1.71, 'transit'], [1.71, 'transit'], [1.71, 'transit'], [1.71, 'transit'], [1.72, 'transit'], [1.72, 'transit'], [1.72, 'transit'], [1.72, 'transit'], [1.72, 'transit'], [1.72, 'transit'], [1.72, 'transit'], [1.72, 'transit'], [1.72, 'transit'], [1.72, 'transit'], [1.72, 'transit'], [1.72, 'transit'], [1.72, 'transit'], [1.72, 'transit'], [1.72, 'transit'], [1.74, 'transit'], [1.74, 'transit'], [1.74, 'transit'], [1.74, 'transit'], [1.74, 'transit'], [1.75, 'transit'], [1.75, 'transit'], [1.75, 'transit'], [1.75, 'transit'], [1.75, 'transit'], [1.75, 'transit'], [1.75, 'transit'], [1.75, 'transit'], [1.75, 'transit'], [1.75, 'transit'], [1.75, 'transit'], [1.75, 'transit'], [1.75, 'transit'], [1.75, 'transit'], [1.76, 'transit'], [1.76, 'transit'], [1.76, 'transit'], [1.76, 'transit'], [1.76, 'transit'], [1.76, 'transit'], [1.76, 'transit'], [1.77, 'transit'], [1.77, 'transit'], [1.77, 'transit'], [1.77, 'transit'], [1.77, 'transit'], [1.77, 'transit'], [1.77, 'transit'], [1.77, 'transit'], [1.77, 'transit'], [1.77, 'transit'], [1.78, 'transit'], [1.78, 'transit'], [1.78, 'transit'], [1.78, 'transit'], [1.78, 'transit'], [1.78, 'transit'], [1.78, 'transit'], [1.78, 'transit'], [1.78, 'transit'], [1.78, 'transit'], [1.79, 'transit'], [1.79, 'transit'], [1.79, 'transit'], [1.79, 'transit'], [1.79, 'transit'], [1.79, 'transit'], [1.79, 'transit'], [1.79, 'transit'], [1.79, 'transit'], [1.8, 'transit'], [1.8, 'transit'], [1.8, 'transit'], [1.8, 'transit'], [1.81, 'transit'], [1.81, 'transit'], [1.81, 'transit'], [1.81, 'transit'], [1.81, 'transit'], [1.81, 'transit'], [1.81, 'transit'], [1.81, 'transit'], [1.81, 'transit'], [1.81, 'transit'], [1.81, 'transit'], [1.81, 'transit'], [1.81, 'transit'], [1.82, 'transit'], [1.83, 'transit'], [1.83, 'transit'], [1.83, 'transit'], [1.83, 'transit'], [1.83, 'transit'], [1.83, 'transit'], [1.83, 'transit'], [1.83, 'transit'], [1.84, 'transit'], [1.84, 'transit'], [1.84, 'transit'], [1.84, 'transit'], [1.84, 'transit'], [1.84, 'transit'], [1.84, 'transit'], [1.84, 'transit'], [1.84, 'transit'], [1.84, 'transit'], [1.85, 'transit'], [1.85, 'transit'], [1.85, 'transit'], [1.85, 'transit'], [1.85, 'transit'], [1.85, 'transit'], [1.85, 'transit'], [1.85, 'transit'], [1.86, 'transit'], [1.86, 'transit'], [1.86, 'transit'], [1.86, 'transit'], [1.86, 'transit'], [1.86, 'transit'], [1.86, 'transit'], [1.87, 'transit'], [1.87, 'transit'], [1.87, 'transit'], [1.87, 'transit'], [1.87, 'transit'], [1.88, 'transit'], [1.88, 'transit'], [1.88, 'transit'], [1.88, 'transit'], [1.88, 'transit'], [1.88, 'transit'], [1.88, 'transit'], [1.88, 'transit'], [1.88, 'transit'], [1.88, 'transit'], [1.88, 'transit'], [1.88, 'transit'], [1.88, 'transit'], [1.89, 'transit'], [1.89, 'transit'], [1.89, 'transit'], [1.89, 'transit'], [1.89, 'transit'], [1.89, 'transit'], [1.9, 'transit'], [1.9, 'transit'], [1.9, 'transit'], [1.9, 'transit'], [1.9, 'transit'], [1.9, 'transit'], [1.9, 'transit'], [1.9, 'transit'], [1.9, 'transit'], [1.9, 'transit'], [1.9, 'transit'], [1.9, 'transit'], [1.9, 'transit'], [1.9, 'transit'], [1.9, 'transit'], [1.9, 'transit'], [1.91, 'transit'], [1.92, 'transit'], [1.92, 'transit'], [1.92, 'transit'], [1.92, 'transit'], [1.92, 'transit'], [1.92, 'transit'], [1.93, 'transit'], [1.93, 'transit'], [1.93, 'transit'], [1.93, 'transit'], [1.93, 'transit'], [1.93, 'transit'], [1.93, 'transit'], [1.93, 'transit'], [1.93, 'transit'], [1.94, 'transit'], [1.94, 'transit'], [1.94, 'transit'], [1.94, 'transit'], [1.94, 'transit'], [1.94, 'transit'], [1.95, 'transit'], [1.95, 'transit'], [1.95, 'transit'], [1.95, 'transit'], [1.96, 'transit'], [1.96, 'transit'], [1.96, 'transit'], [1.96, 'transit'], [1.96, 'transit'], [1.96, 'transit'], [1.96, 'transit'], [1.96, 'transit'], [1.96, 'transit'], [1.96, 'transit'], [1.97, 'transit'], [1.97, 'transit'], [1.97, 'transit'], [1.97, 'transit'], [1.97, 'transit'], [1.97, 'transit'], [1.98, 'transit'], [1.98, 'transit'], [1.98, 'transit'], [1.98, 'transit'], [1.98, 'transit'], [1.99, 'transit'], [1.99, 'transit'], [1.99, 'transit'], [1.99, 'transit'], [1.99, 'transit'], [1.99, 'transit'], [1.99, 'transit'], [1.99, 'transit'], [1.99, 'transit'], [1.99, 'transit'], [1.99, 'transit'], [1.99, 'transit'], [1.99, 'transit'], [1.99, 'transit'], [1.99, 'transit'], [1.99, 'transit'], [1.99, 'transit'], [1.99, 'transit'], [1.99, 'transit']]\n",
      "List of medium radius planets and methods of detection:\n",
      "[[2.0, 'transit'], [2.0, 'transit'], [2.0, 'transit'], [2.0, 'transit'], [2.0, 'transit'], [2.0, 'transit'], [2.0, 'transit'], [2.0, 'transit'], [2.0, 'transit'], [2.0, 'transit'], [2.01, 'transit'], [2.01, 'transit'], [2.01, 'transit'], [2.02, 'transit'], [2.02, 'transit'], [2.02, 'transit'], [2.02, 'transit'], [2.02, 'transit'], [2.02, 'transit'], [2.02, 'transit'], [2.02, 'transit'], [2.03, 'transit'], [2.03, 'transit'], [2.03, 'transit'], [2.03, 'transit'], [2.03, 'transit'], [2.03, 'transit'], [2.03, 'transit'], [2.03, 'transit'], [2.03, 'transit'], [2.03, 'transit'], [2.03, 'transit'], [2.04, 'transit'], [2.04, 'transit'], [2.04, 'transit'], [2.04, 'transit'], [2.04, 'transit'], [2.04, 'transit'], [2.04, 'transit'], [2.04, 'transit'], [2.05, 'transit'], [2.05, 'transit'], [2.05, 'transit'], [2.05, 'transit'], [2.05, 'transit'], [2.05, 'transit'], [2.06, 'transit'], [2.06, 'transit'], [2.06, 'transit'], [2.06, 'transit'], [2.06, 'transit'], [2.06, 'transit'], [2.06, 'transit'], [2.07, 'transit'], [2.07, 'transit'], [2.07, 'transit'], [2.07, 'transit'], [2.07, 'transit'], [2.07, 'transit'], [2.07, 'transit'], [2.07, 'transit'], [2.07, 'transit'], [2.08, 'transit'], [2.08, 'transit'], [2.08, 'transit'], [2.08, 'transit'], [2.08, 'transit'], [2.08, 'transit'], [2.08, 'transit'], [2.08, 'transit'], [2.08, 'transit'], [2.08, 'transit'], [2.08, 'transit'], [2.08, 'transit'], [2.08, 'transit'], [2.08, 'transit'], [2.09, 'transit'], [2.09, 'transit'], [2.09, 'transit'], [2.09, 'transit'], [2.09, 'transit'], [2.09, 'transit'], [2.09, 'transit'], [2.09, 'transit'], [2.09, 'transit'], [2.09, 'transit'], [2.1, 'transit'], [2.1, 'transit'], [2.1, 'transit'], [2.11, 'transit'], [2.11, 'transit'], [2.11, 'transit'], [2.11, 'transit'], [2.11, 'transit'], [2.11, 'transit'], [2.11, 'transit'], [2.11, 'transit'], [2.11, 'transit'], [2.11, 'transit'], [2.12, 'transit'], [2.12, 'transit'], [2.12, 'transit'], [2.12, 'transit'], [2.12, 'transit'], [2.12, 'transit'], [2.12, 'transit'], [2.12, 'transit'], [2.12, 'transit'], [2.12, 'transit'], [2.12, 'transit'], [2.13, 'transit'], [2.13, 'transit'], [2.13, 'transit'], [2.13, 'transit'], [2.13, 'transit'], [2.13, 'transit'], [2.13, 'transit'], [2.13, 'transit'], [2.13, 'transit'], [2.13, 'transit'], [2.13, 'transit'], [2.14, 'transit'], [2.14, 'transit'], [2.14, 'transit'], [2.14, 'transit'], [2.14, 'transit'], [2.14, 'transit'], [2.14, 'transit'], [2.14, 'transit'], [2.14, 'transit'], [2.15, 'transit'], [2.15, 'transit'], [2.15, 'transit'], [2.15, 'transit'], [2.15, 'transit'], [2.16, 'transit'], [2.16, 'transit'], [2.16, 'transit'], [2.16, 'transit'], [2.16, 'transit'], [2.16, 'transit'], [2.16, 'transit'], [2.16, 'transit'], [2.17, 'transit'], [2.17, 'transit'], [2.17, 'transit'], [2.17, 'transit'], [2.17, 'transit'], [2.17, 'transit'], [2.17, 'transit'], [2.17, 'transit'], [2.17, 'transit'], [2.17, 'transit'], [2.17, 'transit'], [2.17, 'transit'], [2.17, 'transit'], [2.17, 'transit'], [2.17, 'transit'], [2.18, 'transit'], [2.18, 'transit'], [2.18, 'transit'], [2.18, 'transit'], [2.19, 'transit'], [2.19, 'transit'], [2.19, 'transit'], [2.19, 'transit'], [2.19, 'transit'], [2.19, 'transit'], [2.19, 'transit'], [2.2, 'transit'], [2.2, 'transit'], [2.2, 'transit'], [2.2, 'transit'], [2.2, 'transit'], [2.2, 'transit'], [2.2, 'transit'], [2.2, 'transit'], [2.21, 'transit'], [2.21, 'transit'], [2.21, 'transit'], [2.21, 'transit'], [2.21, 'transit'], [2.21, 'transit'], [2.21, 'transit'], [2.21, 'transit'], [2.22, 'transit'], [2.22, 'transit'], [2.22, 'transit'], [2.22, 'transit'], [2.22, 'transit'], [2.22, 'transit'], [2.22, 'transit'], [2.22, 'transit'], [2.23, 'transit'], [2.23, 'transit'], [2.23, 'transit'], [2.23, 'transit'], [2.24, 'transit'], [2.24, 'transit'], [2.24, 'transit'], [2.24, 'transit'], [2.24, 'transit'], [2.25, 'transit'], [2.25, 'transit'], [2.25, 'transit'], [2.25, 'transit'], [2.25, 'transit'], [2.25, 'transit'], [2.25, 'transit'], [2.25, 'transit'], [2.25, 'transit'], [2.25, 'transit'], [2.25, 'transit'], [2.25, 'transit'], [2.25, 'transit'], [2.25, 'transit'], [2.25, 'transit'], [2.26, 'transit'], [2.26, 'transit'], [2.26, 'transit'], [2.26, 'transit'], [2.26, 'transit'], [2.26, 'transit'], [2.26, 'transit'], [2.26, 'transit'], [2.26, 'transit'], [2.27, 'transit'], [2.27, 'transit'], [2.27, 'transit'], [2.27, 'transit'], [2.27, 'transit'], [2.27, 'transit'], [2.27, 'transit'], [2.27, 'transit'], [2.27, 'transit'], [2.27, 'transit'], [2.27, 'transit'], [2.27, 'transit'], [2.27, 'transit'], [2.27, 'transit'], [2.27, 'transit'], [2.28, 'transit'], [2.28, 'transit'], [2.28, 'transit'], [2.28, 'transit'], [2.28, 'transit'], [2.28, 'transit'], [2.28, 'transit'], [2.28, 'transit'], [2.28, 'transit'], [2.28, 'transit'], [2.28, 'transit'], [2.28, 'transit'], [2.29, 'transit'], [2.29, 'transit'], [2.29, 'transit'], [2.29, 'transit'], [2.29, 'transit'], [2.3, 'transit'], [2.3, 'transit'], [2.3, 'transit'], [2.3, 'transit'], [2.3, 'transit'], [2.3, 'transit'], [2.3, 'transit'], [2.3, 'transit'], [2.3, 'transit'], [2.3, 'transit'], [2.31, 'transit'], [2.31, 'transit'], [2.31, 'transit'], [2.31, 'transit'], [2.31, 'transit'], [2.31, 'transit'], [2.31, 'transit'], [2.31, 'transit'], [2.31, 'transit'], [2.32, 'transit'], [2.32, 'transit'], [2.32, 'transit'], [2.32, 'transit'], [2.32, 'transit'], [2.32, 'transit'], [2.32, 'transit'], [2.32, 'transit'], [2.32, 'transit'], [2.32, 'transit'], [2.32, 'transit'], [2.32, 'transit'], [2.32, 'transit'], [2.33, 'transit'], [2.33, 'transit'], [2.33, 'transit'], [2.33, 'transit'], [2.33, 'transit'], [2.33, 'transit'], [2.33, 'transit'], [2.33, 'transit'], [2.34, 'transit'], [2.34, 'transit'], [2.34, 'transit'], [2.34, 'transit'], [2.34, 'transit'], [2.34, 'transit'], [2.35, 'transit'], [2.35, 'transit'], [2.35, 'transit'], [2.35, 'transit'], [2.35, 'transit'], [2.35, 'transit'], [2.35, 'transit'], [2.35, 'transit'], [2.35, 'transit'], [2.36, 'transit'], [2.36, 'transit'], [2.36, 'transit'], [2.36, 'transit'], [2.36, 'transit'], [2.36, 'transit'], [2.36, 'transit'], [2.36, 'transit'], [2.36, 'transit'], [2.36, 'transit'], [2.36, 'transit'], [2.36, 'transit'], [2.36, 'transit'], [2.36, 'transit'], [2.36, 'transit'], [2.36, 'transit'], [2.36, 'transit'], [2.37, 'transit'], [2.37, 'transit'], [2.37, 'transit'], [2.37, 'transit'], [2.37, 'transit'], [2.37, 'transit'], [2.37, 'transit'], [2.37, 'transit'], [2.37, 'transit'], [2.38, 'transit'], [2.38, 'transit'], [2.38, 'transit'], [2.39, 'transit'], [2.39, 'transit'], [2.39, 'transit'], [2.39, 'transit'], [2.39, 'transit'], [2.39, 'transit'], [2.39, 'transit'], [2.39, 'transit'], [2.39, 'transit'], [2.39, 'transit'], [2.39, 'transit'], [2.39, 'transit'], [2.39, 'transit'], [2.39, 'transit'], [2.39, 'transit'], [2.39, 'transit'], [2.4, 'transit'], [2.4, 'transit'], [2.4, 'transit'], [2.4, 'transit'], [2.4, 'transit'], [2.4, 'transit'], [2.4, 'transit'], [2.4, 'transit'], [2.4, 'transit'], [2.4, 'transit'], [2.4, 'transit'], [2.4, 'transit'], [2.41, 'transit'], [2.41, 'transit'], [2.41, 'transit'], [2.41, 'transit'], [2.41, 'transit'], [2.41, 'transit'], [2.42, 'transit'], [2.42, 'transit'], [2.42, 'transit'], [2.42, 'transit'], [2.42, 'transit'], [2.42, 'transit'], [2.42, 'transit'], [2.42, 'transit'], [2.43, 'transit'], [2.43, 'transit'], [2.43, 'transit'], [2.43, 'transit'], [2.43, 'transit'], [2.43, 'transit'], [2.43, 'transit'], [2.43, 'transit'], [2.44, 'transit'], [2.44, 'transit'], [2.44, 'transit'], [2.44, 'transit'], [2.44, 'transit'], [2.44, 'transit'], [2.44, 'transit'], [2.44, 'transit'], [2.45, 'transit'], [2.45, 'transit'], [2.45, 'transit'], [2.45, 'transit'], [2.45, 'transit'], [2.45, 'transit'], [2.45, 'transit'], [2.45, 'transit'], [2.45, 'transit'], [2.46, 'transit'], [2.46, 'transit'], [2.46, 'transit'], [2.46, 'transit'], [2.46, 'transit'], [2.46, 'transit'], [2.46, 'transit'], [2.46, 'transit'], [2.46, 'transit'], [2.47, 'transit'], [2.48, 'transit'], [2.48, 'transit'], [2.48, 'transit'], [2.48, 'transit'], [2.48, 'transit'], [2.48, 'transit'], [2.48, 'transit'], [2.48, 'transit'], [2.49, 'transit'], [2.49, 'transit'], [2.49, 'transit'], [2.49, 'transit'], [2.49, 'transit'], [2.49, 'transit'], [2.49, 'transit'], [2.5, 'transit'], [2.5, 'transit'], [2.5, 'transit'], [2.5, 'transit'], [2.5, 'transit'], [2.5, 'transit'], [2.5, 'transit'], [2.5, 'transit'], [2.5, 'transit'], [2.5, 'transit'], [2.51, 'transit'], [2.51, 'transit'], [2.51, 'transit'], [2.52, 'transit'], [2.52, 'transit'], [2.52, 'transit'], [2.52, 'transit'], [2.52, 'transit'], [2.52, 'transit'], [2.52, 'transit'], [2.52, 'transit'], [2.52, 'transit'], [2.52, 'transit'], [2.53, 'transit'], [2.53, 'transit'], [2.53, 'transit'], [2.53, 'transit'], [2.53, 'transit'], [2.53, 'transit'], [2.54, 'transit'], [2.54, 'transit'], [2.54, 'transit'], [2.54, 'transit'], [2.54, 'transit'], [2.54, 'transit'], [2.54, 'transit'], [2.54, 'transit'], [2.54, 'transit'], [2.54, 'transit'], [2.54, 'transit'], [2.54, 'transit'], [2.54, 'transit'], [2.54, 'transit'], [2.54, 'transit'], [2.55, 'transit'], [2.55, 'transit'], [2.55, 'transit'], [2.55, 'transit'], [2.55, 'transit'], [2.55, 'transit'], [2.55, 'transit'], [2.55, 'transit'], [2.55, 'transit'], [2.56, 'transit'], [2.56, 'transit'], [2.56, 'transit'], [2.56, 'transit'], [2.56, 'transit'], [2.56, 'transit'], [2.56, 'transit'], [2.56, 'transit'], [2.56, 'transit'], [2.56, 'transit'], [2.56, 'transit'], [2.56, 'transit'], [2.57, 'transit'], [2.57, 'transit'], [2.57, 'transit'], [2.58, 'transit'], [2.58, 'transit'], [2.58, 'transit'], [2.58, 'transit'], [2.58, 'transit'], [2.58, 'transit'], [2.58, 'transit'], [2.58, 'transit'], [2.58, 'transit'], [2.58, 'transit'], [2.58, 'transit'], [2.58, 'transit'], [2.58, 'transit'], [2.59, 'transit'], [2.59, 'transit'], [2.59, 'transit'], [2.59, 'transit'], [2.6, 'transit'], [2.6, 'transit'], [2.6, 'transit'], [2.6, 'transit'], [2.6, 'transit'], [2.6, 'transit'], [2.6, 'transit'], [2.6, 'transit'], [2.6, 'transit'], [2.6, 'transit'], [2.6, 'transit'], [2.6, 'transit'], [2.61, 'transit'], [2.61, 'transit'], [2.61, 'transit'], [2.61, 'transit'], [2.61, 'transit'], [2.61, 'transit'], [2.61, 'transit'], [2.62, 'transit'], [2.62, 'transit'], [2.62, 'transit'], [2.62, 'transit'], [2.62, 'transit'], [2.62, 'transit'], [2.62, 'transit'], [2.62, 'transit'], [2.63, 'transit'], [2.63, 'transit'], [2.63, 'transit'], [2.63, 'transit'], [2.63, 'transit'], [2.63, 'transit'], [2.63, 'transit'], [2.63, 'transit'], [2.63, 'transit'], [2.63, 'transit'], [2.63, 'transit'], [2.64, 'transit'], [2.64, 'transit'], [2.64, 'transit'], [2.64, 'transit'], [2.64, 'transit'], [2.64, 'transit'], [2.64, 'transit'], [2.64, 'transit'], [2.65, 'transit'], [2.65, 'transit'], [2.65, 'transit'], [2.65, 'transit'], [2.65, 'transit'], [2.65, 'transit'], [2.65, 'transit'], [2.65, 'transit'], [2.65, 'transit'], [2.65, 'transit'], [2.65, 'transit'], [2.65, 'transit'], [2.65, 'transit'], [2.66, 'transit'], [2.66, 'transit'], [2.66, 'transit'], [2.66, 'transit'], [2.66, 'transit'], [2.67, 'transit'], [2.67, 'transit'], [2.67, 'transit'], [2.67, 'transit'], [2.67, 'transit'], [2.67, 'transit'], [2.67, 'transit'], [2.68, 'transit'], [2.68, 'transit'], [2.68, 'transit'], [2.68, 'transit'], [2.68, 'transit'], [2.68, 'transit'], [2.68, 'transit'], [2.68, 'transit'], [2.69, 'transit'], [2.69, 'transit'], [2.69, 'transit'], [2.69, 'transit'], [2.69, 'transit'], [2.69, 'transit'], [2.7, 'transit'], [2.7, 'transit'], [2.7, 'transit'], [2.7, 'transit'], [2.7, 'transit'], [2.7, 'transit'], [2.7, 'transit'], [2.7, 'transit'], [2.7, 'transit'], [2.7, 'transit'], [2.7, 'transit'], [2.71, 'transit'], [2.71, 'transit'], [2.71, 'transit'], [2.71, 'transit'], [2.71, 'transit'], [2.71, 'transit'], [2.71, 'transit'], [2.71, 'transit'], [2.71, 'transit'], [2.71, 'transit'], [2.72, 'transit'], [2.72, 'transit'], [2.72, 'transit'], [2.73, 'transit'], [2.73, 'transit'], [2.73, 'transit'], [2.73, 'transit'], [2.73, 'transit'], [2.73, 'transit'], [2.73, 'transit'], [2.73, 'transit'], [2.73, 'transit'], [2.73, 'transit'], [2.73, 'transit'], [2.73, 'transit'], [2.73, 'transit'], [2.73, 'transit'], [2.73, 'transit'], [2.74, 'transit'], [2.75, 'transit'], [2.75, 'transit'], [2.76, 'transit'], [2.76, 'transit'], [2.76, 'transit'], [2.76, 'transit'], [2.76, 'transit'], [2.76, 'transit'], [2.76, 'transit'], [2.77, 'transit'], [2.77, 'transit'], [2.77, 'transit'], [2.77, 'transit'], [2.77, 'transit'], [2.77, 'transit'], [2.77, 'transit'], [2.78, 'transit'], [2.78, 'transit'], [2.78, 'transit'], [2.78, 'transit'], [2.78, 'transit'], [2.79, 'transit'], [2.79, 'transit'], [2.79, 'transit'], [2.79, 'transit'], [2.79, 'transit'], [2.79, 'transit'], [2.8, 'transit'], [2.8, 'transit'], [2.8, 'transit'], [2.8, 'transit'], [2.8, 'transit'], [2.8, 'transit'], [2.8, 'transit'], [2.81, 'transit'], [2.81, 'transit'], [2.81, 'transit'], [2.81, 'transit'], [2.81, 'transit'], [2.81, 'transit'], [2.81, 'transit'], [2.82, 'transit'], [2.82, 'transit'], [2.82, 'transit'], [2.82, 'transit'], [2.82, 'transit'], [2.82, 'transit'], [2.82, 'transit'], [2.82, 'transit'], [2.82, 'transit'], [2.82, 'transit'], [2.82, 'transit'], [2.82, 'transit'], [2.82, 'transit'], [2.83, 'transit'], [2.83, 'transit'], [2.83, 'transit'], [2.83, 'transit'], [2.83, 'transit'], [2.83, 'transit'], [2.83, 'transit'], [2.83, 'transit'], [2.83, 'transit'], [2.84, 'transit'], [2.84, 'transit'], [2.84, 'transit'], [2.85, 'transit'], [2.85, 'transit'], [2.85, 'transit'], [2.85, 'transit'], [2.86, 'transit'], [2.86, 'transit'], [2.86, 'transit'], [2.86, 'transit'], [2.86, 'transit'], [2.86, 'transit'], [2.86, 'transit'], [2.87, 'transit'], [2.87, 'transit'], [2.87, 'transit'], [2.87, 'transit'], [2.87, 'transit'], [2.87, 'transit'], [2.87, 'transit'], [2.87, 'transit'], [2.88, 'transit'], [2.88, 'transit'], [2.88, 'transit'], [2.89, 'transit'], [2.89, 'transit'], [2.89, 'transit'], [2.89, 'transit'], [2.9, 'transit'], [2.9, 'transit'], [2.9, 'transit'], [2.9, 'transit'], [2.9, 'transit'], [2.9, 'transit'], [2.9, 'transit'], [2.9, 'transit'], [2.9, 'transit'], [2.9, 'transit'], [2.9, 'transit'], [2.91, 'transit'], [2.91, 'transit'], [2.91, 'transit'], [2.91, 'transit'], [2.91, 'transit'], [2.91, 'transit'], [2.92, 'transit'], [2.92, 'transit'], [2.92, 'transit'], [2.92, 'transit'], [2.92, 'transit'], [2.92, 'transit'], [2.92, 'transit'], [2.92, 'transit'], [2.92, 'transit'], [2.92, 'transit'], [2.92, 'transit'], [2.93, 'transit'], [2.93, 'transit'], [2.93, 'transit'], [2.93, 'transit'], [2.93, 'transit'], [2.93, 'transit'], [2.93, 'transit'], [2.93, 'transit'], [2.94, 'transit'], [2.94, 'transit'], [2.94, 'transit'], [2.95, 'transit'], [2.95, 'transit'], [2.95, 'transit'], [2.96, 'transit'], [2.96, 'transit'], [2.96, 'transit'], [2.96, 'transit'], [2.96, 'transit'], [2.96, 'transit'], [2.97, 'transit'], [2.97, 'transit'], [2.97, 'transit'], [2.97, 'transit'], [2.98, 'transit'], [2.98, 'transit'], [2.98, 'transit'], [2.98, 'transit'], [2.99, 'transit'], [2.99, 'transit'], [2.99, 'transit'], [2.99, 'transit'], [3.0, 'transit'], [3.0, 'transit'], [3.0, 'transit'], [3.0, 'transit'], [3.0, 'transit'], [3.0, 'transit'], [3.0, 'transit'], [3.0, 'transit'], [3.01, 'transit'], [3.01, 'transit'], [3.01, 'transit'], [3.01, 'transit'], [3.01, 'transit'], [3.01, 'transit'], [3.01, 'transit'], [3.01, 'transit'], [3.01, 'transit'], [3.01, 'transit'], [3.01, 'transit'], [3.01, 'transit'], [3.02, 'transit'], [3.02, 'transit'], [3.02, 'transit'], [3.04, 'transit'], [3.04, 'transit'], [3.04, 'transit'], [3.04, 'transit'], [3.05, 'transit'], [3.05, 'transit'], [3.05, 'transit'], [3.05, 'transit'], [3.05, 'transit'], [3.06, 'transit'], [3.06, 'transit'], [3.06, 'transit'], [3.07, 'transit'], [3.07, 'transit'], [3.07, 'transit'], [3.07, 'transit'], [3.07, 'transit'], [3.08, 'transit'], [3.08, 'transit'], [3.08, 'transit'], [3.08, 'transit'], [3.09, 'transit'], [3.09, 'transit'], [3.09, 'transit'], [3.09, 'transit'], [3.1, 'transit'], [3.1, 'transit'], [3.1, 'transit'], [3.1, 'transit'], [3.1, 'transit'], [3.1, 'transit'], [3.1, 'transit'], [3.1, 'transit'], [3.11, 'transit'], [3.12, 'transit'], [3.12, 'transit'], [3.12, 'transit'], [3.12, 'transit'], [3.12, 'transit'], [3.13, 'transit'], [3.13, 'transit'], [3.13, 'transit'], [3.13, 'transit'], [3.14, 'transit'], [3.14, 'transit'], [3.15, 'transit'], [3.15, 'transit'], [3.16, 'transit'], [3.16, 'transit'], [3.16, 'transit'], [3.16, 'transit'], [3.16, 'transit'], [3.17, 'transit'], [3.17, 'transit'], [3.17, 'transit'], [3.17, 'transit'], [3.17, 'transit'], [3.18, 'transit'], [3.18, 'transit'], [3.18, 'transit'], [3.18, 'transit'], [3.18, 'transit'], [3.18, 'transit'], [3.19, 'transit'], [3.19, 'transit'], [3.19, 'transit'], [3.19, 'transit'], [3.19, 'transit'], [3.19, 'transit'], [3.19, 'transit'], [3.2, 'transit'], [3.2, 'transit'], [3.2, 'transit'], [3.2, 'transit'], [3.21, 'transit'], [3.21, 'transit'], [3.22, 'transit'], [3.22, 'transit'], [3.23, 'transit'], [3.23, 'transit'], [3.24, 'transit'], [3.24, 'transit'], [3.24, 'transit'], [3.24, 'transit'], [3.25, 'transit'], [3.26, 'transit'], [3.26, 'transit'], [3.26, 'transit'], [3.26, 'transit'], [3.26, 'transit'], [3.27, 'transit'], [3.27, 'transit'], [3.27, 'transit'], [3.27, 'transit'], [3.27, 'transit'], [3.27, 'transit'], [3.28, 'transit'], [3.29, 'transit'], [3.29, 'transit'], [3.29, 'transit'], [3.29, 'transit'], [3.29, 'transit'], [3.3, 'transit'], [3.32, 'transit'], [3.32, 'transit'], [3.32, 'transit'], [3.32, 'transit'], [3.33, 'transit'], [3.33, 'transit'], [3.34, 'transit'], [3.34, 'transit'], [3.35, 'transit'], [3.35, 'transit'], [3.36, 'transit'], [3.36, 'transit'], [3.36, 'transit'], [3.36, 'transit'], [3.36, 'transit'], [3.38, 'transit'], [3.38, 'transit'], [3.38, 'transit'], [3.38, 'transit'], [3.38, 'transit'], [3.39, 'transit'], [3.39, 'transit'], [3.4, 'transit'], [3.4, 'transit'], [3.4, 'transit'], [3.4, 'transit'], [3.4, 'transit'], [3.4, 'transit'], [3.43, 'transit'], [3.43, 'transit'], [3.43, 'transit'], [3.44, 'transit'], [3.44, 'transit'], [3.44, 'transit'], [3.45, 'transit'], [3.45, 'transit'], [3.45, 'transit'], [3.45, 'transit'], [3.46, 'transit'], [3.46, 'transit'], [3.46, 'transit'], [3.47, 'transit'], [3.47, 'transit'], [3.47, 'transit'], [3.48, 'transit'], [3.49, 'transit'], [3.49, 'transit'], [3.5, 'transit'], [3.5, 'transit'], [3.5, 'transit'], [3.52, 'transit'], [3.52, 'transit'], [3.52, 'transit'], [3.53, 'transit'], [3.54, 'transit'], [3.54, 'transit'], [3.54, 'transit'], [3.55, 'transit'], [3.55, 'transit'], [3.55, 'transit'], [3.56, 'transit'], [3.57, 'transit'], [3.57, 'transit'], [3.57, 'transit'], [3.58, 'transit'], [3.58, 'transit'], [3.6, 'transit'], [3.6, 'transit'], [3.61, 'transit'], [3.61, 'transit'], [3.61, 'transit'], [3.63, 'transit'], [3.63, 'transit'], [3.64, 'transit'], [3.64, 'transit'], [3.64, 'transit'], [3.65, 'transit'], [3.65, 'transit'], [3.65, 'transit'], [3.65, 'transit'], [3.65, 'transit'], [3.66, 'transit'], [3.67, 'transit'], [3.67, 'transit'], [3.67, 'transit'], [3.67, 'transit'], [3.67, 'transit'], [3.67, 'transit'], [3.67, 'transit'], [3.68, 'transit'], [3.68, 'transit'], [3.68, 'transit'], [3.69, 'transit'], [3.7, 'transit'], [3.72, 'transit'], [3.72, 'transit'], [3.73, 'transit'], [3.73, 'transit'], [3.74, 'transit'], [3.75, 'transit'], [3.75, 'transit'], [3.75, 'transit'], [3.76, 'transit'], [3.76, 'transit'], [3.76, 'transit'], [3.77, 'transit'], [3.77, 'transit'], [3.78, 'transit'], [3.79, 'transit'], [3.79, 'transit'], [3.8, 'transit'], [3.81, 'transit'], [3.81, 'transit'], [3.82, 'transit'], [3.83, 'transit'], [3.84, 'transit'], [3.84, 'transit'], [3.85, 'transit'], [3.86, 'transit'], [3.88, 'transit'], [3.91, 'transit'], [3.91, 'transit'], [3.91, 'transit'], [3.92, 'transit'], [3.93, 'transit'], [3.93, 'transit'], [3.94, 'transit'], [3.94, 'transit'], [3.95, 'transit'], [3.95, 'transit'], [3.95, 'transit'], [3.95, 'transit'], [3.96, 'transit'], [3.97, 'transit'], [3.97, 'transit'], [3.98, 'transit'], [4.0, 'transit'], [4.0, 'transit']]\n",
      "List of large radius planets and methods of detection:\n",
      "[[4.02, 'transit'], [4.02, 'transit'], [4.03, 'transit'], [4.04, 'transit'], [4.05, 'transit'], [4.08, 'transit'], [4.08, 'transit'], [4.09, 'transit'], [4.1, 'transit'], [4.1, 'transit'], [4.11, 'transit'], [4.12, 'transit'], [4.12, 'transit'], [4.12, 'transit'], [4.14, 'transit'], [4.14, 'transit'], [4.15, 'transit'], [4.15, 'transit'], [4.17, 'transit'], [4.18, 'transit'], [4.19, 'transit'], [4.19, 'transit'], [4.21, 'transit'], [4.21, 'transit'], [4.22, 'transit'], [4.22, 'transit'], [4.24, 'transit'], [4.25, 'transit'], [4.27, 'transit'], [4.29, 'transit'], [4.3, 'transit'], [4.3, 'transit'], [4.35, 'transit'], [4.38, 'transit'], [4.39, 'transit'], [4.41, 'transit'], [4.41, 'transit'], [4.44, 'transit'], [4.44, 'transit'], [4.45, 'transit'], [4.45, 'transit'], [4.55, 'transit'], [4.57, 'transit'], [4.59, 'transit'], [4.63, 'transit'], [4.63, 'transit'], [4.64, 'transit'], [4.65, 'transit'], [4.65, 'transit'], [4.71, 'transit'], [4.73, 'transit'], [4.74, 'transit'], [4.75, 'transit'], [4.76, 'transit'], [4.76, 'transit'], [4.77, 'transit'], [4.77, 'transit'], [4.81, 'transit'], [4.82, 'transit'], [4.82, 'transit'], [4.83, 'transit'], [4.85, 'transit'], [4.86, 'transit'], [4.86, 'transit'], [4.88, 'transit'], [4.88, 'transit'], [4.92, 'transit'], [4.93, 'transit'], [4.96, 'transit'], [5.0, 'transit'], [5.02, 'transit'], [5.04, 'transit'], [5.05, 'transit'], [5.06, 'transit'], [5.06, 'transit'], [5.11, 'transit'], [5.11, 'transit'], [5.14, 'transit'], [5.15, 'transit'], [5.21, 'transit'], [5.23, 'transit'], [5.23, 'transit'], [5.25, 'transit'], [5.26, 'transit'], [5.38, 'transit'], [5.38, 'transit'], [5.41, 'transit'], [5.42, 'transit'], [5.45, 'transit'], [5.46, 'transit'], [5.49, 'transit'], [5.5, 'transit'], [5.5, 'transit'], [5.51, 'transit'], [5.52, 'transit'], [5.59, 'transit'], [5.62, 'transit'], [5.7, 'transit'], [5.73, 'transit'], [5.76, 'transit'], [5.77, 'transit'], [5.77, 'transit'], [5.77, 'transit'], [5.82, 'transit'], [5.92, 'transit'], [5.95, 'transit'], [5.98, 'transit'], [5.99, 'transit'], [6.04, 'transit'], [6.06, 'transit'], [6.08, 'transit'], [6.1, 'transit'], [6.14, 'transit'], [6.14, 'transit'], [6.24, 'transit'], [6.26, 'transit'], [6.27, 'transit'], [6.27, 'transit'], [6.29, 'transit'], [6.31, 'transit'], [6.31, 'transit'], [6.31, 'transit'], [6.33, 'transit'], [6.35, 'transit'], [6.38, 'transit'], [6.4, 'transit'], [6.41, 'transit'], [6.43, 'transit'], [6.48, 'transit'], [6.5, 'transit'], [6.51, 'transit'], [6.53, 'transit'], [6.6, 'transit'], [6.63, 'transit'], [6.7, 'transit'], [6.8, 'transit'], [6.88, 'transit'], [6.9, 'transit'], [6.9, 'transit'], [6.94, 'transit'], [6.96, 'transit'], [6.99, 'transit'], [7.06, 'transit'], [7.09, 'transit'], [7.13, 'transit'], [7.13, 'transit'], [7.21, 'transit'], [7.25, 'transit'], [7.36, 'transit'], [7.37, 'transit'], [7.39, 'transit'], [7.39, 'transit'], [7.45, 'transit'], [7.5, 'transit'], [7.64, 'transit'], [7.72, 'transit'], [7.74, 'transit'], [7.75, 'transit'], [7.78, 'transit'], [7.84, 'imaging'], [7.84, 'transit'], [8.04, 'transit'], [8.05, 'transit'], [8.06, 'transit'], [8.06, 'transit'], [8.1, 'transit'], [8.15, 'transit'], [8.2, 'transit'], [8.34, 'transit'], [8.35, 'transit'], [8.37, 'transit'], [8.39, 'transit'], [8.4, 'transit'], [8.43, 'transit'], [8.44, 'transit'], [8.46, 'transit'], [8.51, 'transit'], [8.56, 'transit'], [8.67, 'transit'], [8.68, 'transit'], [8.7, 'transit'], [8.83, 'transit'], [8.87, 'transit'], [8.88, 'transit'], [8.92, 'transit'], [8.97, 'transit'], [8.98, 'transit'], [8.99, 'transit'], [9.03, 'transit'], [9.07, 'transit'], [9.16, 'transit'], [9.18, 'transit'], [9.18, 'transit'], [9.21, 'transit'], [9.21, 'transit'], [9.24, 'transit'], [9.26, 'transit'], [9.3, 'transit'], [9.41, 'transit'], [9.41, 'transit'], [9.54, 'transit'], [9.59, 'transit'], [9.63, 'transit'], [9.67, 'transit'], [9.69, 'transit'], [9.71, 'transit'], [9.76, 'transit'], [9.76, 'transit'], [9.78, 'transit'], [9.79, 'transit'], [9.88, 'transit'], [9.91, 'transit'], [9.97, 'transit'], [9.97, 'transit'], [10.08, 'transit'], [10.08, 'transit'], [10.15, 'transit'], [10.17, 'transit'], [10.21, 'transit'], [10.24, 'transit'], [10.26, 'transit'], [10.3, 'imaging'], [10.32, 'RV'], [10.42, 'transit'], [10.42, 'transit'], [10.53, 'transit'], [10.54, 'transit'], [10.57, 'transit'], [10.57, 'transit'], [10.61, 'transit'], [10.62, 'transit'], [10.64, 'transit'], [10.65, 'transit'], [10.66, 'transit'], [10.7, 'transit'], [10.74, 'transit'], [10.75, 'transit'], [10.75, 'transit'], [10.75, 'transit'], [10.75, 'transit'], [10.75, 'transit'], [10.77, 'transit'], [10.8, 'transit'], [10.85, 'transit'], [10.86, 'imaging'], [10.86, 'transit'], [10.9, 'transit'], [10.92, 'transit'], [10.95, 'transit'], [10.99, 'transit'], [11.18, 'transit'], [11.19, 'transit'], [11.2, 'imaging'], [11.2, 'imaging'], [11.2, 'imaging'], [11.2, 'transit'], [11.22, 'transit'], [11.28, 'transit'], [11.29, 'transit'], [11.3, 'transit'], [11.31, 'transit'], [11.31, 'transit'], [11.31, 'transit'], [11.31, 'transit'], [11.41, 'transit'], [11.42, 'transit'], [11.42, 'transit'], [11.42, 'transit'], [11.44, 'transit'], [11.47, 'transit'], [11.54, 'transit'], [11.58, 'transit'], [11.6, 'transit'], [11.63, 'transit'], [11.64, 'transit'], [11.65, 'RV'], [11.65, 'transit'], [11.65, 'transit'], [11.65, 'transit'], [11.7, 'transit'], [11.76, 'imaging'], [11.76, 'transit'], [11.76, 'transit'], [11.76, 'transit'], [11.77, 'transit'], [11.82, 'transit'], [11.84, 'transit'], [11.86, 'transit'], [11.93, 'transit'], [11.94, 'transit'], [11.98, 'transit'], [11.98, 'transit'], [12.01, 'transit'], [12.06, 'transit'], [12.1, 'transit'], [12.1, 'transit'], [12.1, 'transit'], [12.1, 'transit'], [12.1, 'transit'], [12.14, 'transit'], [12.15, 'transit'], [12.19, 'transit'], [12.21, 'transit'], [12.21, 'transit'], [12.21, 'transit'], [12.21, 'transit'], [12.23, 'transit'], [12.26, 'transit'], [12.31, 'transit'], [12.32, 'imaging'], [12.32, 'imaging'], [12.32, 'transit'], [12.32, 'transit'], [12.33, 'transit'], [12.36, 'transit'], [12.38, 'transit'], [12.4, 'transit'], [12.42, 'transit'], [12.43, 'transit'], [12.45, 'transit'], [12.49, 'transit'], [12.51, 'transit'], [12.54, 'transit'], [12.55, 'transit'], [12.66, 'transit'], [12.66, 'transit'], [12.66, 'transit'], [12.67, 'transit'], [12.71, 'transit'], [12.72, 'transit'], [12.72, 'transit'], [12.73, 'transit'], [12.75, 'transit'], [12.76, 'transit'], [12.81, 'transit'], [12.88, 'transit'], [12.88, 'transit'], [12.97, 'transit'], [12.99, 'transit'], [12.99, 'transit'], [13.01, 'transit'], [13.01, 'transit'], [13.04, 'transit'], [13.04, 'transit'], [13.05, 'transit'], [13.06, 'transit'], [13.08, 'transit'], [13.09, 'transit'], [13.1, 'transit'], [13.1, 'transit'], [13.12, 'transit'], [13.16, 'transit'], [13.17, 'transit'], [13.19, 'transit'], [13.22, 'transit'], [13.22, 'transit'], [13.24, 'transit'], [13.26, 'transit'], [13.33, 'transit'], [13.33, 'transit'], [13.33, 'transit'], [13.33, 'transit'], [13.33, 'transit'], [13.34, 'transit'], [13.35, 'transit'], [13.41, 'transit'], [13.44, 'transit'], [13.44, 'transit'], [13.44, 'transit'], [13.44, 'transit'], [13.44, 'transit'], [13.44, 'transit'], [13.54, 'transit'], [13.55, 'transit'], [13.55, 'transit'], [13.55, 'transit'], [13.57, 'transit'], [13.57, 'transit'], [13.59, 'transit'], [13.63, 'transit'], [13.63, 'transit'], [13.66, 'transit'], [13.66, 'transit'], [13.71, 'transit'], [13.74, 'transit'], [13.78, 'transit'], [13.87, 'transit'], [13.87, 'transit'], [13.89, 'transit'], [13.89, 'transit'], [13.89, 'transit'], [13.89, 'transit'], [13.91, 'transit'], [14.02, 'transit'], [14.1, 'transit'], [14.11, 'transit'], [14.11, 'transit'], [14.11, 'transit'], [14.16, 'transit'], [14.21, 'transit'], [14.22, 'transit'], [14.22, 'transit'], [14.22, 'transit'], [14.22, 'transit'], [14.24, 'transit'], [14.3, 'transit'], [14.34, 'transit'], [14.34, 'transit'], [14.35, 'transit'], [14.35, 'transit'], [14.37, 'transit'], [14.38, 'transit'], [14.38, 'transit'], [14.4, 'transit'], [14.43, 'transit'], [14.43, 'transit'], [14.45, 'transit'], [14.48, 'transit'], [14.56, 'imaging'], [14.56, 'transit'], [14.56, 'transit'], [14.56, 'transit'], [14.56, 'transit'], [14.56, 'transit'], [14.58, 'transit'], [14.62, 'transit'], [14.67, 'transit'], [14.67, 'transit'], [14.76, 'transit'], [14.78, 'transit'], [14.8, 'transit'], [14.84, 'transit'], [14.86, 'transit'], [14.9, 'transit'], [14.9, 'transit'], [14.9, 'transit'], [14.92, 'transit'], [14.95, 'transit'], [15.01, 'transit'], [15.12, 'transit'], [15.21, 'transit'], [15.23, 'transit'], [15.27, 'RV'], [15.27, 'transit'], [15.32, 'transit'], [15.34, 'transit'], [15.46, 'transit'], [15.51, 'transit'], [15.52, 'transit'], [15.55, 'transit'], [15.57, 'transit'], [15.57, 'transit'], [15.57, 'transit'], [15.67, 'transit'], [15.68, 'transit'], [15.68, 'transit'], [15.68, 'transit'], [15.68, 'transit'], [15.76, 'transit'], [15.78, 'transit'], [15.79, 'transit'], [15.83, 'transit'], [15.83, 'transit'], [15.9, 'transit'], [15.97, 'transit'], [15.99, 'transit'], [16.02, 'transit'], [16.03, 'transit'], [16.11, 'transit'], [16.13, 'imaging'], [16.13, 'transit'], [16.13, 'transit'], [16.15, 'transit'], [16.16, 'transit'], [16.16, 'transit'], [16.24, 'transit'], [16.24, 'transit'], [16.28, 'transit'], [16.33, 'transit'], [16.34, 'transit'], [16.35, 'transit'], [16.41, 'transit'], [16.42, 'transit'], [16.46, 'transit'], [16.49, 'transit'], [16.54, 'transit'], [16.61, 'transit'], [16.69, 'transit'], [16.69, 'transit'], [16.71, 'transit'], [16.91, 'transit'], [16.97, 'transit'], [17.06, 'transit'], [17.08, 'transit'], [17.14, 'imaging'], [17.17, 'transit'], [17.21, 'transit'], [17.36, 'imaging'], [17.47, 'transit'], [17.6, 'transit'], [17.89, 'transit'], [17.95, 'transit'], [18.08, 'transit'], [18.09, 'transit'], [18.14, 'transit'], [18.26, 'transit'], [18.48, 'imaging'], [18.48, 'transit'], [18.51, 'transit'], [18.7, 'transit'], [18.7, 'transit'], [18.87, 'transit'], [18.93, 'transit'], [19.01, 'transit'], [19.03, 'transit'], [19.04, 'imaging'], [19.04, 'transit'], [19.04, 'transit'], [19.26, 'transit'], [19.26, 'transit'], [19.38, 'transit'], [19.44, 'transit'], [19.6, 'transit'], [19.6, 'transit'], [20.16, 'imaging'], [20.24, 'transit'], [20.46, 'transit'], [20.5, 'transit'], [20.59, 'transit'], [20.83, 'transit'], [21.39, 'transit'], [22.06, 'transit'], [22.09, 'transit'], [22.29, 'transit'], [22.3, 'transit'], [22.81, 'transit'], [23.52, 'transit'], [26.88, 'imaging'], [67.2, 'imaging']]\n"
     ]
    }
   ],
   "source": [
    "#Lists\n",
    "lowRadList = []\n",
    "medRadList = []\n",
    "highRadList = []\n",
    "\n",
    "#Mass loop\n",
    "for n in range(len(data)):\n",
    "    method = data[n][col['method']]\n",
    "    radius = data[n][col['rad']]\n",
    "    if method != '' and radius != '':\n",
    "        radius = float(radius)\n",
    "        radius /= earthRadius\n",
    "        if radius <= 2:\n",
    "            lowRadList += [[round(radius,2),method]]\n",
    "        elif radius > 2 and radius <= 4:\n",
    "            medRadList += [[round(radius,2),method]]\n",
    "        else:\n",
    "            highRadList += [[round(radius,2),method]]\n",
    "\n",
    "print('List of small radius planets and methods of detection:')\n",
    "lowRadList.sort()\n",
    "print(lowRadList)\n",
    "print('List of medium radius planets and methods of detection:')\n",
    "medRadList.sort()\n",
    "print(medRadList)\n",
    "print('List of large radius planets and methods of detection:')\n",
    "highRadList.sort()\n",
    "print(highRadList)"
   ]
  },
  {
   "cell_type": "code",
   "execution_count": 231,
   "id": "31649389",
   "metadata": {},
   "outputs": [
    {
     "name": "stdout",
     "output_type": "stream",
     "text": [
      "Breakdown of the small radius planets for detection method:\n",
      "[transit, radial velocity, microlensing, imaging, timing]\n",
      "[1060, 2, 1, 3, 1]\n",
      "Breakdown of the medium radius planets for detection method:\n",
      "[transit, radial velocity, microlensing, imaging, timing]\n",
      "[1061, 1, 1, 1, 1]\n",
      "Breadown of the high mass planets for detection method:\n",
      "[519, 4, 1, 19, 1]\n"
     ]
    }
   ],
   "source": [
    "#resetting counters\n",
    "transitLen = 1\n",
    "rvLen = 1\n",
    "microLen = 1\n",
    "imagingLen = 1\n",
    "timingLen = 1\n",
    "\n",
    "for i in range(len(lowRadList)):\n",
    "    method = lowRadList[i][1]\n",
    "    getMethod(method)\n",
    "\n",
    "lowRadBreakdown = []\n",
    "lowRadBreakdown += [transitLen,rvLen,microLen,imagingLen,timingLen]\n",
    "print('Breakdown of the small radius planets for detection method:')\n",
    "print('[transit, radial velocity, microlensing, imaging, timing]')\n",
    "print(lowRadBreakdown)\n",
    "\n",
    "#resetting counters\n",
    "transitLen = 1\n",
    "rvLen = 1\n",
    "microLen = 1\n",
    "imagingLen = 1\n",
    "timingLen = 1\n",
    "\n",
    "for i in range(len(medRadList)):\n",
    "    method = medRadList[i][1]\n",
    "    getMethod(method)\n",
    "\n",
    "medRadBreakdown = []\n",
    "medRadBreakdown += [transitLen,rvLen,microLen,imagingLen,timingLen]\n",
    "print('Breakdown of the medium radius planets for detection method:')\n",
    "print('[transit, radial velocity, microlensing, imaging, timing]')\n",
    "print(medRadBreakdown)\n",
    "\n",
    "#resetting counters\n",
    "transitLen = 1\n",
    "rvLen = 1\n",
    "microLen = 1\n",
    "imagingLen = 1\n",
    "timingLen = 1\n",
    "\n",
    "for i in range(len(highRadList)):\n",
    "    method = highRadList[i][1]\n",
    "    getMethod(method)\n",
    "\n",
    "highRadBreakdown = []\n",
    "highRadBreakdown += [transitLen,rvLen,microLen,imagingLen,timingLen]\n",
    "print('Breadown of the high mass planets for detection method:')\n",
    "labels= ['transit', 'radial velocity', 'microlensing', 'imaging', 'timing']\n",
    "print(highRadBreakdown)"
   ]
  },
  {
   "cell_type": "code",
   "execution_count": 205,
   "id": "13ba3b38",
   "metadata": {},
   "outputs": [
    {
     "data": {
      "text/html": [
       "<style type=\"text/css\">\n",
       "</style>\n",
       "<table id=\"T_9a6c7_\">\n",
       "  <caption>Amount of Small-Radius Exoplanets Detected per Detection Method</caption>\n",
       "  <thead>\n",
       "    <tr>\n",
       "      <th class=\"blank level0\" >&nbsp;</th>\n",
       "      <th class=\"col_heading level0 col0\" >Amount</th>\n",
       "    </tr>\n",
       "    <tr>\n",
       "      <th class=\"index_name level0\" >Method</th>\n",
       "      <th class=\"blank col0\" >&nbsp;</th>\n",
       "    </tr>\n",
       "  </thead>\n",
       "  <tbody>\n",
       "    <tr>\n",
       "      <th id=\"T_9a6c7_level0_row0\" class=\"row_heading level0 row0\" >transit</th>\n",
       "      <td id=\"T_9a6c7_row0_col0\" class=\"data row0 col0\" >1060</td>\n",
       "    </tr>\n",
       "    <tr>\n",
       "      <th id=\"T_9a6c7_level0_row1\" class=\"row_heading level0 row1\" >RV</th>\n",
       "      <td id=\"T_9a6c7_row1_col0\" class=\"data row1 col0\" >2</td>\n",
       "    </tr>\n",
       "    <tr>\n",
       "      <th id=\"T_9a6c7_level0_row2\" class=\"row_heading level0 row2\" >microlensing</th>\n",
       "      <td id=\"T_9a6c7_row2_col0\" class=\"data row2 col0\" >1</td>\n",
       "    </tr>\n",
       "    <tr>\n",
       "      <th id=\"T_9a6c7_level0_row3\" class=\"row_heading level0 row3\" >imaging</th>\n",
       "      <td id=\"T_9a6c7_row3_col0\" class=\"data row3 col0\" >3</td>\n",
       "    </tr>\n",
       "    <tr>\n",
       "      <th id=\"T_9a6c7_level0_row4\" class=\"row_heading level0 row4\" >timing</th>\n",
       "      <td id=\"T_9a6c7_row4_col0\" class=\"data row4 col0\" >1</td>\n",
       "    </tr>\n",
       "  </tbody>\n",
       "</table>\n"
      ],
      "text/plain": [
       "<pandas.io.formats.style.Styler at 0x11c08db50>"
      ]
     },
     "execution_count": 205,
     "metadata": {},
     "output_type": "execute_result"
    }
   ],
   "source": [
    "df4 = pd.DataFrame(lowRadBreakdown,index=['transit','RV', 'microlensing', 'imaging', 'timing'],\n",
    "                  columns=['Amount'])\n",
    "df4.index.name = 'Method'\n",
    "df4 = df4.style.set_caption(\"Amount of Small-Radius Exoplanets Detected per Detection Method\")\n",
    "\n",
    "df4"
   ]
  },
  {
   "cell_type": "code",
   "execution_count": 206,
   "id": "c0ca3331",
   "metadata": {},
   "outputs": [
    {
     "data": {
      "text/html": [
       "<style type=\"text/css\">\n",
       "</style>\n",
       "<table id=\"T_6ae5a_\">\n",
       "  <caption>Amount of Medium-Radius Exoplanets Detected per Detection Method</caption>\n",
       "  <thead>\n",
       "    <tr>\n",
       "      <th class=\"blank level0\" >&nbsp;</th>\n",
       "      <th class=\"col_heading level0 col0\" >Amount</th>\n",
       "    </tr>\n",
       "    <tr>\n",
       "      <th class=\"index_name level0\" >Method</th>\n",
       "      <th class=\"blank col0\" >&nbsp;</th>\n",
       "    </tr>\n",
       "  </thead>\n",
       "  <tbody>\n",
       "    <tr>\n",
       "      <th id=\"T_6ae5a_level0_row0\" class=\"row_heading level0 row0\" >transit</th>\n",
       "      <td id=\"T_6ae5a_row0_col0\" class=\"data row0 col0\" >1061</td>\n",
       "    </tr>\n",
       "    <tr>\n",
       "      <th id=\"T_6ae5a_level0_row1\" class=\"row_heading level0 row1\" >RV</th>\n",
       "      <td id=\"T_6ae5a_row1_col0\" class=\"data row1 col0\" >1</td>\n",
       "    </tr>\n",
       "    <tr>\n",
       "      <th id=\"T_6ae5a_level0_row2\" class=\"row_heading level0 row2\" >microlensing</th>\n",
       "      <td id=\"T_6ae5a_row2_col0\" class=\"data row2 col0\" >1</td>\n",
       "    </tr>\n",
       "    <tr>\n",
       "      <th id=\"T_6ae5a_level0_row3\" class=\"row_heading level0 row3\" >imaging</th>\n",
       "      <td id=\"T_6ae5a_row3_col0\" class=\"data row3 col0\" >1</td>\n",
       "    </tr>\n",
       "    <tr>\n",
       "      <th id=\"T_6ae5a_level0_row4\" class=\"row_heading level0 row4\" >timing</th>\n",
       "      <td id=\"T_6ae5a_row4_col0\" class=\"data row4 col0\" >1</td>\n",
       "    </tr>\n",
       "  </tbody>\n",
       "</table>\n"
      ],
      "text/plain": [
       "<pandas.io.formats.style.Styler at 0x11bd30640>"
      ]
     },
     "execution_count": 206,
     "metadata": {},
     "output_type": "execute_result"
    }
   ],
   "source": [
    "df5 = pd.DataFrame(medRadBreakdown,index=['transit','RV', 'microlensing', 'imaging', 'timing'],\n",
    "                  columns=['Amount'])\n",
    "df5.index.name = 'Method'\n",
    "df5 = df5.style.set_caption(\"Amount of Medium-Radius Exoplanets Detected per Detection Method\")\n",
    "\n",
    "df5"
   ]
  },
  {
   "cell_type": "code",
   "execution_count": 207,
   "id": "833c5a35",
   "metadata": {},
   "outputs": [
    {
     "data": {
      "text/html": [
       "<style type=\"text/css\">\n",
       "</style>\n",
       "<table id=\"T_ff286_\">\n",
       "  <caption>Amount of Large-Radius Exoplanets Detected per Detection Method</caption>\n",
       "  <thead>\n",
       "    <tr>\n",
       "      <th class=\"blank level0\" >&nbsp;</th>\n",
       "      <th class=\"col_heading level0 col0\" >Amount</th>\n",
       "    </tr>\n",
       "    <tr>\n",
       "      <th class=\"index_name level0\" >Method</th>\n",
       "      <th class=\"blank col0\" >&nbsp;</th>\n",
       "    </tr>\n",
       "  </thead>\n",
       "  <tbody>\n",
       "    <tr>\n",
       "      <th id=\"T_ff286_level0_row0\" class=\"row_heading level0 row0\" >transit</th>\n",
       "      <td id=\"T_ff286_row0_col0\" class=\"data row0 col0\" >519</td>\n",
       "    </tr>\n",
       "    <tr>\n",
       "      <th id=\"T_ff286_level0_row1\" class=\"row_heading level0 row1\" >RV</th>\n",
       "      <td id=\"T_ff286_row1_col0\" class=\"data row1 col0\" >4</td>\n",
       "    </tr>\n",
       "    <tr>\n",
       "      <th id=\"T_ff286_level0_row2\" class=\"row_heading level0 row2\" >microlensing</th>\n",
       "      <td id=\"T_ff286_row2_col0\" class=\"data row2 col0\" >1</td>\n",
       "    </tr>\n",
       "    <tr>\n",
       "      <th id=\"T_ff286_level0_row3\" class=\"row_heading level0 row3\" >imaging</th>\n",
       "      <td id=\"T_ff286_row3_col0\" class=\"data row3 col0\" >19</td>\n",
       "    </tr>\n",
       "    <tr>\n",
       "      <th id=\"T_ff286_level0_row4\" class=\"row_heading level0 row4\" >timing</th>\n",
       "      <td id=\"T_ff286_row4_col0\" class=\"data row4 col0\" >1</td>\n",
       "    </tr>\n",
       "  </tbody>\n",
       "</table>\n"
      ],
      "text/plain": [
       "<pandas.io.formats.style.Styler at 0x11c08dcd0>"
      ]
     },
     "execution_count": 207,
     "metadata": {},
     "output_type": "execute_result"
    }
   ],
   "source": [
    "df6 = pd.DataFrame(highRadBreakdown,index=['transit','RV', 'microlensing', 'imaging', 'timing'],\n",
    "                  columns=['Amount'])\n",
    "df6.index.name = 'Method'\n",
    "df6 = df6.style.set_caption(\"Amount of Large-Radius Exoplanets Detected per Detection Method\")\n",
    "\n",
    "df6"
   ]
  },
  {
   "cell_type": "code",
   "execution_count": 287,
   "id": "eb07dffd",
   "metadata": {},
   "outputs": [
    {
     "data": {
      "image/png": "[encoded data removed]",
      "text/plain": [
       "<Figure size 1080x864 with 3 Axes>"
      ]
     },
     "metadata": {
      "needs_background": "light"
     },
     "output_type": "display_data"
    }
   ],
   "source": [
    "plt.figure(figsize=(15,12))\n",
    "\n",
    "plt.subplot(311)\n",
    "amount = methodList\n",
    "plt.barh(labels,amount,color='orange')\n",
    "plt.title('All Exoplanets',fontweight='bold',fontsize=15)\n",
    "plt.xlabel('Amount of Exoplanets',fontweight='bold')\n",
    "plt.ylabel('Method of Detection',fontweight='bold')\n",
    "\n",
    "plt.subplot(312)\n",
    "massLowMedSum = []\n",
    "for a,b in zip(lowMassBreakdown,medMassBreakdown):\n",
    "    massLowMedSum.append(a+b)\n",
    "plt.barh(labels,lowMassBreakdown,color='green')\n",
    "plt.barh(labels,medMassBreakdown,color='orange',left=lowMassBreakdown)\n",
    "plt.barh(labels,highMassBreakdown,color='red',left= massLowMedSum)\n",
    "plt.title('Exoplanets with Known Masses',fontweight='bold',fontsize=15)\n",
    "plt.ylabel('Method of Detection',fontweight='bold')\n",
    "plt.xlabel('Amount of Planets Detected',fontweight='bold')\n",
    "legendLabels = ['0-200','200-400','400+']\n",
    "legend = plt.legend(legendLabels,loc=1)\n",
    "legend.set_title('Mass (Earth)')\n",
    "\n",
    "plt.subplot(313)\n",
    "radLowMedSum = []\n",
    "for a,b in zip(lowRadBreakdown,medRadBreakdown):\n",
    "    radLowMedSum.append(a+b)\n",
    "plt.barh(labels,lowRadBreakdown,color='blue')\n",
    "plt.barh(labels,medRadBreakdown,color='turquoise',left=lowRadBreakdown)\n",
    "plt.barh(labels,highRadBreakdown,color='green',left=radLowMedSum)\n",
    "plt.title('Exoplanets with Known Radii',fontweight='bold',fontsize=15)\n",
    "plt.ylabel('Method of Detection',fontweight='bold')\n",
    "plt.xlabel('Amount of Exoplanets',fontweight='bold')\n",
    "legendLabels = ['0-2','2-4','4+']\n",
    "legend = plt.legend(legendLabels,loc=1)\n",
    "legend.set_title('Radius (Earth)')\n",
    "\n",
    "plt.suptitle('Amount of Exoplanets Detected for each Method',fontweight='bold',fontsize=20,y=0.95)\n",
    "plt.subplots_adjust(hspace=0.5)\n",
    "plt.show()"
   ]
  }
 ],
 "metadata": {
  "kernelspec": {
   "display_name": "Python 3 (ipykernel)",
   "language": "python",
   "name": "python3"
  },
  "language_info": {
   "codemirror_mode": {
    "name": "ipython",
    "version": 3
   },
   "file_extension": ".py",
   "mimetype": "text/x-python",
   "name": "python",
   "nbconvert_exporter": "python",
   "pygments_lexer": "ipython3",
   "version": "3.9.1"
  }
 },
 "nbformat": 4,
 "nbformat_minor": 5
}
