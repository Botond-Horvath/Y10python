{
 "cells": [
  {
   "cell_type": "code",
   "execution_count": 1,
   "id": "7922f34c",
   "metadata": {},
   "outputs": [],
   "source": [
    "import matplotlib.pyplot as plt\n",
    "import library\n",
    "import pandas as pd\n",
    "import numpy as np"
   ]
  },
  {
   "cell_type": "code",
   "execution_count": 3,
   "id": "d4b31068",
   "metadata": {},
   "outputs": [],
   "source": [
    "data = library.loadList('exoplanet.csv')\n",
    "\n",
    "col = {'sma':5,'ecc':6}"
   ]
  },
  {
   "cell_type": "code",
   "execution_count": 6,
   "id": "5e2d1d12",
   "metadata": {},
   "outputs": [
    {
     "name": "stdout",
     "output_type": "stream",
     "text": [
      "SEMI-MAJOR AXIS (AU), ECCENTRICITY\n",
      "[[0.01, 0.0], [0.02, 0.0], [0.02, 0.0], [0.02, 0.0], [0.02, 0.0], [0.02, 0.0], [0.02, 0.0], [0.02, 0.0], [0.02, 0.0], [0.02, 0.0], [0.02, 0.0], [0.02, 0.0], [0.02, 0.0], [0.02, 0.0], [0.02, 0.0], [0.02, 0.0], [0.02, 0.0], [0.02, 0.0], [0.02, 0.01], [0.02, 0.04], [0.02, 0.05], [0.02, 0.06], [0.02, 0.11], [0.02, 0.11], [0.03, 0.0], [0.03, 0.0], [0.03, 0.0], [0.03, 0.0], [0.03, 0.0], [0.03, 0.0], [0.03, 0.0], [0.03, 0.0], [0.03, 0.0], [0.03, 0.0], [0.03, 0.0], [0.03, 0.0], [0.03, 0.0], [0.03, 0.0], [0.03, 0.0], [0.03, 0.0], [0.03, 0.0], [0.03, 0.0], [0.03, 0.01], [0.03, 0.01], [0.03, 0.02], [0.03, 0.02], [0.03, 0.08], [0.03, 0.08], [0.03, 0.11], [0.03, 0.15], [0.03, 0.16], [0.04, 0.0], [0.04, 0.0], [0.04, 0.0], [0.04, 0.0], [0.04, 0.0], [0.04, 0.0], [0.04, 0.0], [0.04, 0.0], [0.04, 0.0], [0.04, 0.0], [0.04, 0.0], [0.04, 0.0], [0.04, 0.0], [0.04, 0.0], [0.04, 0.0], [0.04, 0.0], [0.04, 0.0], [0.04, 0.0], [0.04, 0.0], [0.04, 0.0], [0.04, 0.0], [0.04, 0.0], [0.04, 0.0], [0.04, 0.0], [0.04, 0.0], [0.04, 0.0], [0.04, 0.0], [0.04, 0.0], [0.04, 0.0], [0.04, 0.0], [0.04, 0.0], [0.04, 0.0], [0.04, 0.0], [0.04, 0.0], [0.04, 0.0], [0.04, 0.0], [0.04, 0.0], [0.04, 0.0], [0.04, 0.0], [0.04, 0.0], [0.04, 0.0], [0.04, 0.0], [0.04, 0.01], [0.04, 0.01], [0.04, 0.01], [0.04, 0.01], [0.04, 0.01], [0.04, 0.02], [0.04, 0.02], [0.04, 0.02], [0.04, 0.02], [0.04, 0.02], [0.04, 0.02], [0.04, 0.02], [0.04, 0.02], [0.04, 0.02], [0.04, 0.03], [0.04, 0.04], [0.04, 0.04], [0.04, 0.04], [0.04, 0.05], [0.04, 0.05], [0.04, 0.06], [0.04, 0.06], [0.04, 0.06], [0.04, 0.07], [0.04, 0.08], [0.04, 0.08], [0.04, 0.09], [0.04, 0.12], [0.04, 0.15], [0.04, 0.19], [0.04, 0.2], [0.04, 0.2], [0.04, 0.4], [0.05, 0.0], [0.05, 0.0], [0.05, 0.0], [0.05, 0.0], [0.05, 0.0], [0.05, 0.0], [0.05, 0.0], [0.05, 0.0], [0.05, 0.0], [0.05, 0.0], [0.05, 0.0], [0.05, 0.0], [0.05, 0.0], [0.05, 0.0], [0.05, 0.0], [0.05, 0.0], [0.05, 0.0], [0.05, 0.0], [0.05, 0.0], [0.05, 0.0], [0.05, 0.0], [0.05, 0.0], [0.05, 0.0], [0.05, 0.0], [0.05, 0.0], [0.05, 0.0], [0.05, 0.0], [0.05, 0.0], [0.05, 0.0], [0.05, 0.0], [0.05, 0.0], [0.05, 0.0], [0.05, 0.0], [0.05, 0.0], [0.05, 0.0], [0.05, 0.0], [0.05, 0.0], [0.05, 0.0], [0.05, 0.0], [0.05, 0.0], [0.05, 0.0], [0.05, 0.0], [0.05, 0.0], [0.05, 0.01], [0.05, 0.02], [0.05, 0.03], [0.05, 0.03], [0.05, 0.03], [0.05, 0.03], [0.05, 0.04], [0.05, 0.04], [0.05, 0.04], [0.05, 0.05], [0.05, 0.05], [0.05, 0.06], [0.05, 0.06], [0.05, 0.06], [0.05, 0.07], [0.05, 0.07], [0.05, 0.07], [0.05, 0.07], [0.05, 0.07], [0.05, 0.09], [0.05, 0.09], [0.05, 0.09], [0.05, 0.12], [0.05, 0.12], [0.05, 0.12], [0.05, 0.13], [0.05, 0.13], [0.05, 0.15], [0.05, 0.16], [0.05, 0.16], [0.05, 0.2], [0.05, 0.2], [0.05, 0.2], [0.05, 0.23], [0.05, 0.25], [0.05, 0.25], [0.05, 0.26], [0.05, 0.27], [0.06, 0.0], [0.06, 0.0], [0.06, 0.0], [0.06, 0.0], [0.06, 0.0], [0.06, 0.0], [0.06, 0.0], [0.06, 0.0], [0.06, 0.0], [0.06, 0.0], [0.06, 0.0], [0.06, 0.0], [0.06, 0.0], [0.06, 0.01], [0.06, 0.01], [0.06, 0.01], [0.06, 0.01], [0.06, 0.02], [0.06, 0.02], [0.06, 0.02], [0.06, 0.02], [0.06, 0.05], [0.06, 0.05], [0.06, 0.07], [0.06, 0.07], [0.06, 0.07], [0.06, 0.1], [0.06, 0.1], [0.06, 0.1], [0.06, 0.12], [0.06, 0.14], [0.06, 0.15], [0.06, 0.17], [0.06, 0.18], [0.06, 0.23], [0.06, 0.24], [0.06, 0.3], [0.06, 0.33], [0.07, 0.0], [0.07, 0.0], [0.07, 0.0], [0.07, 0.0], [0.07, 0.01], [0.07, 0.02], [0.07, 0.05], [0.07, 0.05], [0.07, 0.08], [0.07, 0.08], [0.07, 0.09], [0.07, 0.1], [0.07, 0.1], [0.07, 0.12], [0.07, 0.13], [0.07, 0.14], [0.07, 0.14], [0.07, 0.19], [0.07, 0.22], [0.07, 0.28], [0.07, 0.31], [0.07, 0.34], [0.07, 0.35], [0.07, 0.44], [0.07, 0.52], [0.08, 0.0], [0.08, 0.0], [0.08, 0.0], [0.08, 0.02], [0.08, 0.02], [0.08, 0.03], [0.08, 0.03], [0.08, 0.05], [0.08, 0.06], [0.08, 0.08], [0.08, 0.08], [0.08, 0.1], [0.08, 0.1], [0.08, 0.1], [0.08, 0.12], [0.08, 0.13], [0.08, 0.14], [0.08, 0.14], [0.08, 0.15], [0.08, 0.19], [0.08, 0.25], [0.08, 0.29], [0.08, 0.3], [0.08, 0.31], [0.08, 0.4], [0.08, 0.57], [0.09, 0.0], [0.09, 0.03], [0.09, 0.04], [0.09, 0.04], [0.09, 0.05], [0.09, 0.05], [0.09, 0.05], [0.09, 0.06], [0.09, 0.08], [0.09, 0.08], [0.09, 0.16], [0.09, 0.17], [0.09, 0.18], [0.09, 0.3], [0.09, 0.31], [0.09, 0.35], [0.09, 0.38], [0.09, 0.56], [0.1, 0.0], [0.1, 0.0], [0.1, 0.03], [0.1, 0.06], [0.1, 0.07], [0.1, 0.08], [0.1, 0.08], [0.1, 0.1], [0.1, 0.11], [0.1, 0.11], [0.1, 0.15], [0.1, 0.16], [0.1, 0.17], [0.1, 0.19], [0.1, 0.4], [0.1, 0.43], [0.1, 0.53], [0.11, 0.0], [0.11, 0.01], [0.11, 0.02], [0.11, 0.02], [0.11, 0.02], [0.11, 0.03], [0.11, 0.04], [0.11, 0.1], [0.11, 0.12], [0.11, 0.15], [0.11, 0.15], [0.11, 0.23], [0.11, 0.39], [0.11, 0.53], [0.12, 0.0], [0.12, 0.0], [0.12, 0.02], [0.12, 0.02], [0.12, 0.03], [0.12, 0.04], [0.12, 0.05], [0.12, 0.05], [0.12, 0.13], [0.12, 0.17], [0.12, 0.17], [0.12, 0.25], [0.12, 0.27], [0.13, 0.01], [0.13, 0.02], [0.13, 0.03], [0.13, 0.07], [0.13, 0.09], [0.13, 0.1], [0.13, 0.11], [0.13, 0.11], [0.13, 0.13], [0.13, 0.16], [0.13, 0.18], [0.13, 0.25], [0.13, 0.38], [0.14, 0.01], [0.14, 0.05], [0.14, 0.06], [0.14, 0.09], [0.14, 0.09], [0.14, 0.15], [0.14, 0.2], [0.14, 0.25], [0.15, 0.0], [0.15, 0.0], [0.15, 0.0], [0.15, 0.01], [0.15, 0.03], [0.15, 0.05], [0.15, 0.06], [0.15, 0.11], [0.15, 0.15], [0.15, 0.26], [0.16, 0.0], [0.16, 0.03], [0.16, 0.03], [0.16, 0.04], [0.16, 0.19], [0.16, 0.2], [0.16, 0.31], [0.16, 0.38], [0.16, 0.68], [0.17, 0.02], [0.17, 0.03], [0.17, 0.11], [0.17, 0.16], [0.17, 0.2], [0.17, 0.21], [0.17, 0.48], [0.18, 0.04], [0.18, 0.04], [0.18, 0.05], [0.18, 0.08], [0.18, 0.1], [0.18, 0.42], [0.19, 0.0], [0.19, 0.04], [0.19, 0.13], [0.19, 0.13], [0.19, 0.15], [0.19, 0.2], [0.19, 0.24], [0.2, 0.0], [0.2, 0.01], [0.2, 0.01], [0.2, 0.02], [0.2, 0.03], [0.2, 0.03], [0.2, 0.03], [0.2, 0.05], [0.2, 0.15], [0.2, 0.16], [0.2, 0.32], [0.21, 0.02], [0.21, 0.04], [0.21, 0.15], [0.21, 0.17], [0.22, 0.03], [0.22, 0.14], [0.22, 0.25], [0.23, 0.05], [0.23, 0.07], [0.23, 0.09], [0.23, 0.3], [0.23, 0.38], [0.24, 0.0], [0.24, 0.0], [0.24, 0.02], [0.24, 0.06], [0.24, 0.14], [0.24, 0.47], [0.25, 0.0], [0.25, 0.01], [0.25, 0.02], [0.25, 0.04], [0.25, 0.22], [0.25, 0.31], [0.25, 0.43], [0.26, 0.0], [0.26, 0.11], [0.26, 0.24], [0.26, 0.24], [0.27, 0.01], [0.27, 0.05], [0.27, 0.11], [0.27, 0.11], [0.28, 0.0], [0.28, 0.01], [0.28, 0.03], [0.28, 0.03], [0.28, 0.03], [0.28, 0.07], [0.28, 0.63], [0.28, 0.68], [0.29, 0.53], [0.29, 0.64], [0.3, 0.01], [0.3, 0.02], [0.3, 0.11], [0.3, 0.29], [0.3, 0.54], [0.31, 0.23], [0.32, 0.12], [0.32, 0.13], [0.33, 0.03], [0.33, 0.03], [0.33, 0.07], [0.33, 0.12], [0.35, 0.0], [0.35, 0.28], [0.35, 0.28], [0.35, 0.34], [0.36, 0.02], [0.36, 0.29], [0.36, 0.37], [0.36, 0.73], [0.37, 0.08], [0.37, 0.83], [0.38, 0.0], [0.38, 0.0], [0.38, 0.01], [0.38, 0.41], [0.38, 0.77], [0.39, 0.2], [0.39, 0.21], [0.41, 0.11], [0.41, 0.43], [0.42, 0.04], [0.42, 0.37], [0.42, 0.46], [0.44, 0.02], [0.45, 0.31], [0.46, 0.03], [0.46, 0.03], [0.46, 0.05], [0.46, 0.34], [0.46, 0.37], [0.46, 0.93], [0.47, 0.04], [0.48, 0.14], [0.48, 0.15], [0.48, 0.35], [0.48, 0.4], [0.49, 0.06], [0.49, 0.13], [0.49, 0.17], [0.49, 0.51], [0.49, 0.71], [0.5, 0.02], [0.5, 0.35], [0.51, 0.21], [0.51, 0.3], [0.53, 0.05], [0.53, 0.1], [0.54, 0.04], [0.54, 0.26], [0.55, 0.08], [0.55, 0.09], [0.55, 0.16], [0.56, 0.23], [0.57, 0.13], [0.59, 0.01], [0.6, 0.04], [0.6, 0.07], [0.6, 0.29], [0.6, 0.61], [0.61, 0.05], [0.61, 0.38], [0.62, 0.04], [0.63, 0.05], [0.63, 0.07], [0.64, 0.02], [0.64, 0.14], [0.64, 0.17], [0.64, 0.44], [0.65, 0.06], [0.65, 0.15], [0.65, 0.27], [0.66, 0.04], [0.68, 0.0], [0.68, 0.17], [0.68, 0.19], [0.69, 0.06], [0.69, 0.3], [0.7, 0.01], [0.7, 0.03], [0.7, 0.05], [0.72, 0.01], [0.72, 0.09], [0.72, 0.24], [0.73, 0.32], [0.74, 0.42], [0.75, 0.05], [0.76, 0.0], [0.76, 0.07], [0.76, 0.09], [0.76, 0.11], [0.77, 0.28], [0.77, 0.29], [0.78, 0.29], [0.79, 0.04], [0.79, 0.3], [0.8, 0.07], [0.81, 0.0], [0.81, 0.23], [0.81, 0.27], [0.82, 0.35], [0.82, 0.38], [0.83, 0.0], [0.83, 0.19], [0.83, 0.25], [0.83, 0.25], [0.83, 0.38], [0.83, 0.41], [0.83, 0.43], [0.87, 0.43], [0.88, 0.26], [0.88, 0.7], [0.89, 0.36], [0.89, 0.54], [0.9, 0.1], [0.9, 0.27], [0.92, 0.07], [0.92, 0.46], [0.92, 0.83], [0.93, 0.0], [0.93, 0.16], [0.93, 0.16], [0.94, 0.63], [0.95, 0.09], [0.95, 0.24], [0.95, 0.75], [0.97, 0.1], [0.97, 0.33], [0.99, 0.0], [1.0, 0.02], [1.0, 0.15], [1.0, 0.2], [1.01, 0.18], [1.01, 0.27], [1.02, 0.16], [1.02, 0.17], [1.02, 0.41], [1.02, 0.68], [1.03, 0.07], [1.03, 0.2], [1.03, 0.33], [1.03, 0.36], [1.03, 0.37], [1.04, 0.27], [1.05, 0.07], [1.05, 0.5], [1.06, 0.0], [1.07, 0.13], [1.07, 0.29], [1.08, 0.17], [1.08, 0.19], [1.09, 0.18], [1.1, 0.09], [1.1, 0.09], [1.1, 0.11], [1.1, 0.34], [1.1, 0.47], [1.1, 0.85], [1.12, 0.3], [1.13, 0.24], [1.14, 0.3], [1.15, 0.11], [1.16, 0.06], [1.16, 0.21], [1.16, 0.46], [1.17, 0.03], [1.17, 0.52], [1.17, 0.82], [1.18, 0.32], [1.19, 0.04], [1.19, 0.1], [1.19, 0.13], [1.19, 0.14], [1.19, 0.15], [1.19, 0.2], [1.19, 0.38], [1.19, 0.61], [1.19, 0.67], [1.2, 0.07], [1.2, 0.09], [1.2, 0.1], [1.2, 0.1], [1.2, 0.13], [1.2, 0.25], [1.22, 0.01], [1.22, 0.04], [1.22, 0.11], [1.23, 0.0], [1.24, 0.14], [1.24, 0.17], [1.25, 0.08], [1.25, 0.23], [1.26, 0.3], [1.27, 0.17], [1.27, 0.71], [1.28, 0.11], [1.28, 0.34], [1.28, 0.49], [1.28, 0.9], [1.29, 0.02], [1.29, 0.17], [1.29, 0.23], [1.29, 0.35], [1.29, 0.46], [1.3, 0.11], [1.3, 0.21], [1.3, 0.64], [1.3, 0.71], [1.31, 0.1], [1.32, 0.09], [1.32, 0.13], [1.32, 0.26], [1.32, 0.26], [1.32, 0.59], [1.33, 0.09], [1.33, 0.15], [1.34, 0.54], [1.35, 0.03], [1.35, 0.72], [1.36, 0.13], [1.36, 0.19], [1.37, 0.05], [1.37, 0.41], [1.37, 0.46], [1.39, 0.09], [1.4, 0.0], [1.4, 0.18], [1.4, 0.19], [1.4, 0.26], [1.4, 0.3], [1.4, 0.96], [1.42, 0.03], [1.42, 0.3], [1.45, 0.15], [1.46, 0.1], [1.48, 0.0], [1.48, 0.08], [1.48, 0.29], [1.49, 0.37], [1.5, 0.02], [1.5, 0.13], [1.51, 0.16], [1.51, 0.18], [1.52, 0.09], [1.52, 0.41], [1.52, 0.41], [1.54, 0.08], [1.57, 0.68], [1.58, 0.04], [1.59, 0.16], [1.6, 0.04], [1.6, 0.14], [1.65, 0.0], [1.65, 0.23], [1.67, 0.02], [1.68, 0.18], [1.68, 0.23], [1.69, 0.02], [1.7, 0.0], [1.7, 0.0], [1.7, 0.04], [1.7, 0.08], [1.7, 0.74], [1.71, 0.12], [1.72, 0.69], [1.73, 0.0], [1.76, 0.0], [1.76, 0.28], [1.76, 0.4], [1.78, 0.18], [1.78, 0.26], [1.8, 0.33], [1.81, 0.13], [1.85, 0.27], [1.88, 0.22], [1.89, 0.17], [1.89, 0.3], [1.9, 0.0], [1.9, 0.13], [1.9, 0.19], [1.9, 0.4], [1.92, 0.0], [1.92, 0.13], [1.92, 0.78], [1.93, 0.0], [1.93, 0.02], [1.93, 0.15], [1.93, 0.22], [1.94, 0.53], [1.95, 0.18], [1.97, 0.2], [1.98, 0.34], [2.0, 0.0], [2.0, 0.15], [2.0, 0.4], [2.0, 0.85], [2.01, 0.18], [2.01, 0.21], [2.02, 0.15], [2.03, 0.12], [2.03, 0.45], [2.05, 0.05], [2.05, 0.47], [2.07, 0.03], [2.07, 0.15], [2.07, 0.18], [2.07, 0.22], [2.07, 0.27], [2.08, 0.29], [2.08, 0.32], [2.09, 0.16], [2.1, 0.03], [2.1, 0.08], [2.1, 0.12], [2.1, 0.21], [2.1, 0.59], [2.11, 0.05], [2.11, 0.27], [2.13, 0.06], [2.14, 0.36], [2.15, 0.81], [2.16, 0.1], [2.18, 0.06], [2.2, 0.26], [2.2, 0.67], [2.23, 0.75], [2.24, 0.11], [2.25, 0.01], [2.25, 0.09], [2.28, 0.05], [2.31, 0.26], [2.31, 0.78], [2.32, 0.29], [2.33, 0.11], [2.33, 0.8], [2.35, 0.41], [2.36, 0.1], [2.38, 0.19], [2.38, 0.4], [2.39, 0.04], [2.39, 0.21], [2.4, 0.25], [2.4, 0.44], [2.4, 0.54], [2.41, 0.21], [2.41, 0.5], [2.42, 0.12], [2.44, 0.2], [2.45, 0.15], [2.45, 0.52], [2.47, 0.21], [2.5, 0.21], [2.53, 0.25], [2.54, 0.4], [2.55, 0.27], [2.55, 0.61], [2.56, 0.03], [2.56, 0.07], [2.56, 0.37], [2.6, 0.07], [2.6, 0.08], [2.6, 0.22], [2.6, 0.48], [2.62, 0.22], [2.68, 0.25], [2.69, 0.18], [2.7, 0.47], [2.71, 0.37], [2.72, 0.06], [2.75, 0.1], [2.77, 0.0], [2.8, 0.05], [2.81, 0.13], [2.81, 0.16], [2.84, 0.15], [2.84, 0.21], [2.86, 0.36], [2.86, 0.7], [2.88, 0.29], [2.9, 0.49], [2.9, 0.52], [2.9, 0.7], [3.0, 0.48], [3.02, 0.08], [3.02, 0.72], [3.03, 0.53], [3.04, 0.23], [3.11, 0.06], [3.13, 0.59], [3.15, 0.05], [3.16, 0.04], [3.17, 0.64], [3.2, 0.4], [3.2, 0.6], [3.25, 0.12], [3.28, 0.61], [3.3, 0.1], [3.34, 0.25], [3.36, 0.16], [3.36, 0.22], [3.39, 0.19], [3.41, 0.07], [3.43, 0.08], [3.47, 0.44], [3.49, 0.18], [3.51, 0.4], [3.52, 0.1], [3.53, 0.26], [3.56, 0.1], [3.6, 0.02], [3.6, 0.08], [3.6, 0.08], [3.6, 0.1], [3.6, 0.33], [3.6, 0.53], [3.69, 0.36], [3.78, 0.16], [3.82, 0.01], [3.82, 0.17], [3.82, 0.38], [3.86, 0.23], [3.86, 0.76], [3.9, 0.13], [3.92, 0.34], [3.93, 0.28], [4.2, 0.28], [4.2, 0.35], [4.3, 0.26], [4.3, 0.4], [4.3, 0.66], [4.42, 0.28], [4.43, 0.4], [4.48, 0.0], [4.5, 0.15], [4.5, 0.37], [4.59, 0.57], [4.6, 0.05], [4.6, 0.23], [4.64, 0.05], [4.69, 0.4], [4.74, 0.22], [4.8, 0.1], [4.82, 0.09], [4.9, 0.0], [4.94, 0.51], [4.96, 0.53], [5.02, 0.66], [5.1, 0.16], [5.15, 0.02], [5.16, 0.25], [5.2, 0.05], [5.2, 0.06], [5.2, 0.2], [5.24, 0.1], [5.25, 0.01], [5.3, 0.0], [5.36, 0.06], [5.39, 0.14], [5.4, 0.1], [5.42, 0.73], [5.5, 0.02], [5.5, 0.57], [5.6, 0.85], [5.69, 0.05], [5.8, 0.12], [5.8, 0.7], [6.07, 0.38], [6.1, 0.17], [6.22, 0.77], [6.56, 0.14], [6.7, 0.38], [6.8, 0.21], [6.95, 0.24], [7.7, 0.14], [8.19, 0.39], [9.04, 0.18], [9.25, 0.07], [9.54, 0.06], [10.0, 0.6], [11.6, 0.16], [12.89, 0.02], [14.0, 0.21], [16.99, 0.0], [19.19, 0.05], [20.0, 0.13], [26.97, 0.0], [30.0, 0.81], [30.07, 0.01], [39.49, 0.25], [42.81, 0.0], [67.96, 0.0], [80.0, 0.35], [177.0, 0.8]]\n"
     ]
    }
   ],
   "source": [
    "masterList = []\n",
    "for n in range(len(data)):\n",
    "    sma = data[n][col['sma']]\n",
    "    eccentricity = data[n][col['ecc']]\n",
    "    if sma != '' and eccentricity != '':\n",
    "        sma = float(sma)\n",
    "        eccentricity = float(eccentricity)\n",
    "        masterList += [[round(sma,2),round(eccentricity,2)]]\n",
    "\n",
    "masterList.sort()\n",
    "print('SEMI-MAJOR AXIS (AU), ECCENTRICITY')\n",
    "print(masterList)"
   ]
  },
  {
   "cell_type": "code",
   "execution_count": 8,
   "id": "8a2417bc",
   "metadata": {},
   "outputs": [
    {
     "data": {
      "text/html": [
       "<div>\n",
       "<style scoped>\n",
       "    .dataframe tbody tr th:only-of-type {\n",
       "        vertical-align: middle;\n",
       "    }\n",
       "\n",
       "    .dataframe tbody tr th {\n",
       "        vertical-align: top;\n",
       "    }\n",
       "\n",
       "    .dataframe thead th {\n",
       "        text-align: right;\n",
       "    }\n",
       "</style>\n",
       "<table border=\"1\" class=\"dataframe\">\n",
       "  <thead>\n",
       "    <tr style=\"text-align: right;\">\n",
       "      <th></th>\n",
       "      <th>SemiMajorAxis</th>\n",
       "      <th>Eccentricity</th>\n",
       "    </tr>\n",
       "  </thead>\n",
       "  <tbody>\n",
       "    <tr>\n",
       "      <th>0</th>\n",
       "      <td>0.01</td>\n",
       "      <td>0.00</td>\n",
       "    </tr>\n",
       "    <tr>\n",
       "      <th>1</th>\n",
       "      <td>0.02</td>\n",
       "      <td>0.00</td>\n",
       "    </tr>\n",
       "    <tr>\n",
       "      <th>2</th>\n",
       "      <td>0.02</td>\n",
       "      <td>0.00</td>\n",
       "    </tr>\n",
       "    <tr>\n",
       "      <th>3</th>\n",
       "      <td>0.02</td>\n",
       "      <td>0.00</td>\n",
       "    </tr>\n",
       "    <tr>\n",
       "      <th>4</th>\n",
       "      <td>0.02</td>\n",
       "      <td>0.00</td>\n",
       "    </tr>\n",
       "    <tr>\n",
       "      <th>...</th>\n",
       "      <td>...</td>\n",
       "      <td>...</td>\n",
       "    </tr>\n",
       "    <tr>\n",
       "      <th>970</th>\n",
       "      <td>39.49</td>\n",
       "      <td>0.25</td>\n",
       "    </tr>\n",
       "    <tr>\n",
       "      <th>971</th>\n",
       "      <td>42.81</td>\n",
       "      <td>0.00</td>\n",
       "    </tr>\n",
       "    <tr>\n",
       "      <th>972</th>\n",
       "      <td>67.96</td>\n",
       "      <td>0.00</td>\n",
       "    </tr>\n",
       "    <tr>\n",
       "      <th>973</th>\n",
       "      <td>80.00</td>\n",
       "      <td>0.35</td>\n",
       "    </tr>\n",
       "    <tr>\n",
       "      <th>974</th>\n",
       "      <td>177.00</td>\n",
       "      <td>0.80</td>\n",
       "    </tr>\n",
       "  </tbody>\n",
       "</table>\n",
       "<p>975 rows × 2 columns</p>\n",
       "</div>"
      ],
      "text/plain": [
       "     SemiMajorAxis  Eccentricity\n",
       "0             0.01          0.00\n",
       "1             0.02          0.00\n",
       "2             0.02          0.00\n",
       "3             0.02          0.00\n",
       "4             0.02          0.00\n",
       "..             ...           ...\n",
       "970          39.49          0.25\n",
       "971          42.81          0.00\n",
       "972          67.96          0.00\n",
       "973          80.00          0.35\n",
       "974         177.00          0.80\n",
       "\n",
       "[975 rows x 2 columns]"
      ]
     },
     "execution_count": 8,
     "metadata": {},
     "output_type": "execute_result"
    }
   ],
   "source": [
    "df = pd.DataFrame(masterList,columns=['SemiMajorAxis','Eccentricity'])\n",
    "df"
   ]
  },
  {
   "cell_type": "code",
   "execution_count": 34,
   "id": "28967f64",
   "metadata": {},
   "outputs": [
    {
     "data": {
      "image/png": "[encoded data removed]",
      "text/plain": [
       "<Figure size 432x288 with 1 Axes>"
      ]
     },
     "metadata": {
      "needs_background": "light"
     },
     "output_type": "display_data"
    }
   ],
   "source": [
    "x = df.Eccentricity\n",
    "y = df.SemiMajorAxis\n",
    "plt.scatter(x,y,s=15,c='y')\n",
    "plt.title('Exoplanet Semi Major Axis vs. Eccentricity',fontweight='bold',fontsize=15,y=1.05)\n",
    "plt.xlabel('Eccentricity',fontweight='bold')\n",
    "plt.xlim(0,0.8)\n",
    "plt.ylabel('Semi Major Axis (AU)',fontweight='bold')\n",
    "plt.ylim(0,5)\n",
    "m,b = np.polyfit(x,y,1)\n",
    "fitEquasion = m * x + b\n",
    "plt.plot(x,fitEquasion,color='red')\n",
    "plt.show()"
   ]
  },
  {
   "cell_type": "code",
   "execution_count": null,
   "id": "a382bffd",
   "metadata": {},
   "outputs": [],
   "source": []
  }
 ],
 "metadata": {
  "kernelspec": {
   "display_name": "Python 3 (ipykernel)",
   "language": "python",
   "name": "python3"
  },
  "language_info": {
   "codemirror_mode": {
    "name": "ipython",
    "version": 3
   },
   "file_extension": ".py",
   "mimetype": "text/x-python",
   "name": "python",
   "nbconvert_exporter": "python",
   "pygments_lexer": "ipython3",
   "version": "3.9.1"
  }
 },
 "nbformat": 4,
 "nbformat_minor": 5
}
