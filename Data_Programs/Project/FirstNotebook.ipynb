{
 "cells": [
  {
   "cell_type": "code",
   "execution_count": 23,
   "id": "fcdaa6f1",
   "metadata": {},
   "outputs": [
    {
     "name": "stdout",
     "output_type": "stream",
     "text": [
      "Hello World!\n"
     ]
    }
   ],
   "source": [
    "print(\"Hello World!\")\n",
    "import random"
   ]
  },
  {
   "cell_type": "code",
   "execution_count": 24,
   "id": "7c57ead6",
   "metadata": {},
   "outputs": [],
   "source": [
    "import library\n",
    "import csv\n",
    "import matplotlib.pyplot as plt\n",
    "import pandas as pd"
   ]
  },
  {
   "cell_type": "code",
   "execution_count": 25,
   "id": "938a2de8",
   "metadata": {},
   "outputs": [],
   "source": [
    "data = library.loadList('exoplanet.csv')"
   ]
  },
  {
   "cell_type": "code",
   "execution_count": 26,
   "id": "682c0361",
   "metadata": {},
   "outputs": [],
   "source": [
    "col = {'mt':21,'age':23}"
   ]
  },
  {
   "cell_type": "code",
   "execution_count": 27,
   "id": "0bdd9433",
   "metadata": {},
   "outputs": [
    {
     "name": "stdout",
     "output_type": "stream",
     "text": [
      "[['3.66', '0.12'], ['3.66', '0.12'], ['6', '-0.22'], ['11', '0.3'], ['11', '0.3'], ['6.4', '0.05'], ['2.5', '-0.24'], ['1.3', '0.12'], ['2.95', '-0.27'], ['6.8', '0.08'], ['3.5', '-0.07'], ['3.5', '-0.07'], ['5.8', '0.42'], ['1.41', '0.34'], ['1.41', '0.34'], ['1.3', '-0.08'], ['2.4', '0.32'], ['4.4', '-0.12'], ['8.9', '-0.13'], ['0.6', '0.02'], ['4.2', '-0.03'], ['13.9', '0.08'], ['1.5', '0.13'], ['2.75', '0.11'], ['2.75', '0.11'], ['2.75', '0.11'], ['9.5', '-0.006'], ['2.3', '-0.19'], ['1.41', '0.08'], ['1.41', '0.08'], ['1.41', '0.08'], ['1.41', '0.08'], ['1.41', '0.08'], ['1.76', '0.37'], ['3.3', '0.15'], ['3.6', '0.19'], ['2.2', '0.28'], ['3.8', '-0.41'], ['4.57', '0.00000001'], ['4.57', '0.00000001'], ['4.57', '0.00000001'], ['4.57', '0.00000001'], ['4.57', '0.00000001'], ['4.57', '0.00000001'], ['4.57', '0.00000001'], ['4.57', '0.00000001'], ['4.57', '0.00000001'], ['0.033', '-0.47'], ['0.033', '-0.47'], ['0.033', '-0.47'], ['0.033', '-0.47'], ['11', '-0.86'], ['11', '-0.86'], ['4', '0.36'], ['4', '0.36'], ['6.89', '0.05'], ['6.89', '0.05'], ['5.23', '0.27'], ['5.23', '0.27'], ['5.23', '0.27'], ['3.6', '0.14'], ['1', '-0.01'], ['1', '-0.01'], ['9.4', '0.28'], ['5.1', '0.27'], ['13.1', '0.17'], ['13.1', '0.17'], ['4', '0.02'], ['2.3', '0.4'], ['4.8', '0.13'], ['3', '-0.07'], ['3', '-0.07'], ['1.45', '0.25'], ['1.45', '0.25'], ['1', '0.09'], ['2.79', '0.18'], ['3', '0.32'], ['0.1', '0.14'], ['7.3', '0.1'], ['7.3', '0.1'], ['2.6', '-0.22'], ['1.3', '-0.3'], ['7.2', '0.02'], ['10.32', '-0.62'], ['10.32', '-0.62'], ['0.15', '0.07'], ['5', '0.24'], ['4.3', '-0.24'], ['4.3', '-0.24'], ['4', '-0.09'], ['4.5', '0.2'], ['12.9', '0.11'], ['12.9', '0.11'], ['12.9', '0.11'], ['12.9', '0.11'], ['12.9', '0.11'], ['12.9', '0.11'], ['6.3', '0.05'], ['6.3', '0.05'], ['6.3', '0.05'], ['6', '0.21'], ['7.6', '-0.135'], ['11.9', '0.23'], ['3', '0.16'], ['4.59', '0.21'], ['4.59', '0.21'], ['9.5', '0.1'], ['0.9', '0.26'], ['1', '0.012'], ['3.8', '0.03'], ['3.8', '0.03'], ['9.49', '-0.46'], ['1.5', '0.05'], ['12.2', '0.44'], ['12.2', '0.44'], ['6.46', '0.02'], ['6.46', '0.02'], ['6.46', '0.02'], ['5.84', '0.18'], ['5.84', '0.18'], ['4.9', '0.04'], ['6.6', '-0.27'], ['2.4', '0.23'], ['5.5', '-0.18'], ['11.7', '0.03'], ['3.3', '0.18'], ['1.5', '0.23'], ['6.1', '-0.23'], ['4.9', '-0.27'], ['4.9', '-0.27'], ['7.1', '0.39'], ['7.1', '0.39'], ['7.9', '0.43'], ['7.9', '0.43'], ['1.88', '0.27'], ['1.88', '0.27'], ['8.5', '0.38'], ['3.4', '0.23'], ['2.9', '0.01'], ['2.9', '0.01'], ['0.7', '-0.07'], ['2.3', '0.02'], ['4.5', '0.04'], ['7.4', '0.03'], ['0.79', '0.18'], ['0.79', '0.18'], ['3.07', '-0.13'], ['0.625', '0.13'], ['7', '-0.37'], ['7', '-0.37'], ['7', '-0.37'], ['7', '-0.37'], ['7', '-0.37'], ['3.35', '0.36'], ['4', '-0.059'], ['7', '-0.19'], ['2', '-0.43'], ['2', '-0.43'], ['0.91', '0.07'], ['1.85', '-0.29'], ['6.2', '0.3'], ['12', '0.15'], ['5', '0.29'], ['0.9', '0.2'], ['2.3', '0.21'], ['2.3', '0.21'], ['4.3', '-0.03'], ['11.23', '-0.55'], ['11.23', '-0.55'], ['11.23', '-0.55'], ['11.23', '-0.55'], ['11.23', '-0.55'], ['3', '0.14'], ['0.22', '-0.36'], ['4.67', '0'], ['2.5', '0'], ['10', '0.41'], ['7.5', '0.2'], ['2.1', '0.43'], ['2.1', '0.3'], ['3.1', '-0.157'], ['2', '0.07'], ['4.99', '0.11'], ['1.25', '0.05'], ['1.25', '0.05'], ['3.6', '-0.07'], ['6.48', '-0.019'], ['6.48', '-0.019'], ['6.48', '-0.019'], ['11.27', '-0.48'], ['3.8', '-0.02'], ['3.5', '0'], ['7.5', '-0.17'], ['7.5', '-0.17'], ['0.7', '0.29'], ['8.1', '0.2'], ['7', '-0.09'], ['2', '0.39'], ['4.1', '0.06'], ['5', '-0.29'], ['1.4', '0.21'], ['8', '0.14'], ['5.53', '0.01'], ['3.37', '-0.18'], ['0.708', '0.2'], ['4.3', '0.01'], ['2.4', '-0.36'], ['2.5', '0.05'], ['2.5', '0.3'], ['2.5', '0.3'], ['4.5', '-0.07'], ['4.5', '-0.07'], ['6.8', '0.052'], ['5.63', '0.3'], ['10.6', '-0.15'], ['10.6', '-0.15'], ['2.9', '-0.37'], ['5.1', '0.21'], ['4.5', '0.2'], ['7.77', '-0.09'], ['3.2', '-0.01'], ['6', '-0.32'], ['6', '-0.32'], ['6', '-0.32'], ['6', '-0.32'], ['3', '-0.21'], ['1.9', '-0.57'], ['8.42', '-0.2'], ['8.42', '-0.2'], ['7.1', '0.28'], ['3.5', '0.2'], ['3.5', '0.2'], ['3.5', '0.2'], ['1', '0.1'], ['8.2', '0.27'], ['8.4', '0.03'], ['0.53', '-0.12'], ['0.53', '-0.12'], ['0.53', '-0.12'], ['0.53', '-0.12'], ['0.53', '-0.12'], ['0.53', '-0.12'], ['0.53', '-0.12'], ['0.625', '-0.08'], ['4.3', '0.04'], ['4.3', '0.04'], ['4.9', '0.28'], ['11', '0'], ['2.5', '0.074'], ['7.47', '0.33'], ['7.47', '0.33'], ['6.6', '-0.18'], ['6.6', '-0.18'], ['3.41', '-0.12'], ['10.6', '-0.64'], ['7.2', '0.56'], ['2.9', '0'], ['1.22', '0.14'], ['9.7', '0.15'], ['2.7', '-0.03'], ['2.7', '-0.03'], ['1', '0.13'], ['3.56', '-0.03'], ['3.9', '-0.127'], ['1', '-0.25'], ['3', '0.32'], ['3', '0.32'], ['4.21', '0.1'], ['1.5', '0.09'], ['4.83', '-0.12'], ['4.83', '-0.12'], ['4.83', '-0.12'], ['4.83', '-0.12'], ['7.38', '0.2'], ['4.4', '0.29'], ['4', '0.25'], ['7', '-0.009'], ['3.1', '0.09'], ['3.1', '0.09'], ['3.1', '0.09'], ['3.1', '0.09'], ['13.2', '0.09'], ['1.47', '0.18'], ['0.1', '0.1'], ['8.6', '-0.06'], ['4.6', '-0.11'], ['5.73', '-0.08'], ['5.73', '-0.08'], ['0.25', '0.4'], ['7.8', '0.25'], ['4.27', '0.025'], ['4.27', '0.025'], ['4.27', '0.025'], ['4.27', '0.025'], ['4.27', '0.025'], ['5.59', '0.25'], ['5.59', '0.25'], ['10.8', '0.34'], ['0.16', '0.28'], ['2.9', '0.17'], ['2.9', '0.17'], ['2.9', '0.17'], ['1.9', '-0.13'], ['1.9', '-0.13'], ['3.3', '0.17'], ['9.3', '0.27'], ['3.16', '0.02'], ['3.16', '0.02'], ['3.16', '0.02'], ['3.16', '0.02'], ['5.7', '0.23'], ['4.2', '0.11'], ['7.63', '0.43'], ['5.3', '-0.04'], ['5.3', '-0.04'], ['2.45', '0.37'], ['2.45', '0.37'], ['4.4', '0.16'], ['0.8', '0.1'], ['5', '0.09'], ['3.6', '0.29'], ['8.5', '0.14'], ['2.34', '0.04'], ['5.5', '-0.2'], ['1', '0.012'], ['4', '-0.25'], ['11', '-0.1'], ['6.7', '0.24'], ['6.7', '0.24'], ['2.1', '-0.11'], ['2.1', '-0.11'], ['2', '0.15'], ['0.5', '0.29'], ['8.9', '0.33'], ['8.9', '0.33'], ['3', '-0.15'], ['3', '-0.15'], ['5.5', '0.23'], ['1.9', '-0.2'], ['1.3', '0.139'], ['9.77', '0.15'], ['9.77', '0.15'], ['1.77', '0.32'], ['3', '0.01'], ['3', '0.01'], ['1.4', '0'], ['3.6', '0.16'], ['5.7', '0.07'], ['5.7', '0.07'], ['2.6', '0.08'], ['0.8', '0.42'], ['3.55', '0.23'], ['1', '0.194'], ['6.3', '0.12'], ['6.3', '0.12'], ['6.3', '0.12'], ['3.8', '-0.17'], ['5.8', '-0.55'], ['5.8', '-0.55'], ['5.8', '-0.55'], ['5.8', '-0.55'], ['5.8', '-0.55'], ['2.42', '-0.13'], ['3.5', '0.21'], ['1.74', '-0.094'], ['1.3', '0.15'], ['4.4', '-0.48'], ['0.02', '-0.027'], ['4.604', '-0.25'], ['5.1', '0.27'], ['5', '0.32']]\n"
     ]
    }
   ],
   "source": [
    "masterList = []\n",
    "mtList = []\n",
    "ageList = []\n",
    "for n in range(len(data)):\n",
    "    metallicity = data[n][col['mt']]\n",
    "    age = data[n][col['age']]\n",
    "    if metallicity != '' and age != '':\n",
    "        ageList.append(float(age))\n",
    "        mtList.append(float(metallicity))\n",
    "        masterList += [[age,metallicity]]\n",
    "\n",
    "print(masterList)"
   ]
  },
  {
   "cell_type": "code",
   "execution_count": 28,
   "id": "8786b742",
   "metadata": {},
   "outputs": [
    {
     "data": {
      "text/html": [
       "<div>\n",
       "<style scoped>\n",
       "    .dataframe tbody tr th:only-of-type {\n",
       "        vertical-align: middle;\n",
       "    }\n",
       "\n",
       "    .dataframe tbody tr th {\n",
       "        vertical-align: top;\n",
       "    }\n",
       "\n",
       "    .dataframe thead th {\n",
       "        text-align: right;\n",
       "    }\n",
       "</style>\n",
       "<table border=\"1\" class=\"dataframe\">\n",
       "  <thead>\n",
       "    <tr style=\"text-align: right;\">\n",
       "      <th></th>\n",
       "      <th>Age (Ga)</th>\n",
       "      <th>Metallicity</th>\n",
       "    </tr>\n",
       "  </thead>\n",
       "  <tbody>\n",
       "    <tr>\n",
       "      <th>0</th>\n",
       "      <td>3.66</td>\n",
       "      <td>0.12</td>\n",
       "    </tr>\n",
       "    <tr>\n",
       "      <th>1</th>\n",
       "      <td>3.66</td>\n",
       "      <td>0.12</td>\n",
       "    </tr>\n",
       "    <tr>\n",
       "      <th>2</th>\n",
       "      <td>6</td>\n",
       "      <td>-0.22</td>\n",
       "    </tr>\n",
       "    <tr>\n",
       "      <th>3</th>\n",
       "      <td>11</td>\n",
       "      <td>0.3</td>\n",
       "    </tr>\n",
       "    <tr>\n",
       "      <th>4</th>\n",
       "      <td>11</td>\n",
       "      <td>0.3</td>\n",
       "    </tr>\n",
       "    <tr>\n",
       "      <th>...</th>\n",
       "      <td>...</td>\n",
       "      <td>...</td>\n",
       "    </tr>\n",
       "    <tr>\n",
       "      <th>366</th>\n",
       "      <td>4.4</td>\n",
       "      <td>-0.48</td>\n",
       "    </tr>\n",
       "    <tr>\n",
       "      <th>367</th>\n",
       "      <td>0.02</td>\n",
       "      <td>-0.027</td>\n",
       "    </tr>\n",
       "    <tr>\n",
       "      <th>368</th>\n",
       "      <td>4.604</td>\n",
       "      <td>-0.25</td>\n",
       "    </tr>\n",
       "    <tr>\n",
       "      <th>369</th>\n",
       "      <td>5.1</td>\n",
       "      <td>0.27</td>\n",
       "    </tr>\n",
       "    <tr>\n",
       "      <th>370</th>\n",
       "      <td>5</td>\n",
       "      <td>0.32</td>\n",
       "    </tr>\n",
       "  </tbody>\n",
       "</table>\n",
       "<p>371 rows × 2 columns</p>\n",
       "</div>"
      ],
      "text/plain": [
       "    Age (Ga) Metallicity\n",
       "0       3.66        0.12\n",
       "1       3.66        0.12\n",
       "2          6       -0.22\n",
       "3         11         0.3\n",
       "4         11         0.3\n",
       "..       ...         ...\n",
       "366      4.4       -0.48\n",
       "367     0.02      -0.027\n",
       "368    4.604       -0.25\n",
       "369      5.1        0.27\n",
       "370        5        0.32\n",
       "\n",
       "[371 rows x 2 columns]"
      ]
     },
     "execution_count": 28,
     "metadata": {},
     "output_type": "execute_result"
    }
   ],
   "source": [
    "df = pd.DataFrame(masterList,columns=['Age (Ga)','Metallicity'])\n",
    "df"
   ]
  },
  {
   "cell_type": "code",
   "execution_count": 29,
   "id": "f909fd94",
   "metadata": {},
   "outputs": [
    {
     "ename": "ValueError",
     "evalue": "'c' argument must be a color, a sequence of colors, or a sequence of numbers, not o",
     "output_type": "error",
     "traceback": [
      "\u001b[0;31m---------------------------------------------------------------------------\u001b[0m",
      "\u001b[0;31mValueError\u001b[0m                                Traceback (most recent call last)",
      "\u001b[0;32m/Library/Frameworks/Python.framework/Versions/3.9/lib/python3.9/site-packages/matplotlib/axes/_axes.py\u001b[0m in \u001b[0;36m_parse_scatter_color_args\u001b[0;34m(c, edgecolors, kwargs, xsize, get_next_color_func)\u001b[0m\n\u001b[1;32m   4349\u001b[0m             \u001b[0;32mtry\u001b[0m\u001b[0;34m:\u001b[0m  \u001b[0;31m# Is 'c' acceptable as PathCollection facecolors?\u001b[0m\u001b[0;34m\u001b[0m\u001b[0;34m\u001b[0m\u001b[0m\n\u001b[0;32m-> 4350\u001b[0;31m                 \u001b[0mcolors\u001b[0m \u001b[0;34m=\u001b[0m \u001b[0mmcolors\u001b[0m\u001b[0;34m.\u001b[0m\u001b[0mto_rgba_array\u001b[0m\u001b[0;34m(\u001b[0m\u001b[0mc\u001b[0m\u001b[0;34m)\u001b[0m\u001b[0;34m\u001b[0m\u001b[0;34m\u001b[0m\u001b[0m\n\u001b[0m\u001b[1;32m   4351\u001b[0m             \u001b[0;32mexcept\u001b[0m \u001b[0;34m(\u001b[0m\u001b[0mTypeError\u001b[0m\u001b[0;34m,\u001b[0m \u001b[0mValueError\u001b[0m\u001b[0;34m)\u001b[0m \u001b[0;32mas\u001b[0m \u001b[0merr\u001b[0m\u001b[0;34m:\u001b[0m\u001b[0;34m\u001b[0m\u001b[0;34m\u001b[0m\u001b[0m\n",
      "\u001b[0;32m/Library/Frameworks/Python.framework/Versions/3.9/lib/python3.9/site-packages/matplotlib/colors.py\u001b[0m in \u001b[0;36mto_rgba_array\u001b[0;34m(c, alpha)\u001b[0m\n\u001b[1;32m    366\u001b[0m     \u001b[0;32mif\u001b[0m \u001b[0misinstance\u001b[0m\u001b[0;34m(\u001b[0m\u001b[0mc\u001b[0m\u001b[0;34m,\u001b[0m \u001b[0mstr\u001b[0m\u001b[0;34m)\u001b[0m\u001b[0;34m:\u001b[0m\u001b[0;34m\u001b[0m\u001b[0;34m\u001b[0m\u001b[0m\n\u001b[0;32m--> 367\u001b[0;31m         raise ValueError(\"Using a string of single character colors as \"\n\u001b[0m\u001b[1;32m    368\u001b[0m                          \u001b[0;34m\"a color sequence is not supported. The colors can \"\u001b[0m\u001b[0;34m\u001b[0m\u001b[0;34m\u001b[0m\u001b[0m\n",
      "\u001b[0;31mValueError\u001b[0m: Using a string of single character colors as a color sequence is not supported. The colors can be passed as an explicit list instead.",
      "\nThe above exception was the direct cause of the following exception:\n",
      "\u001b[0;31mValueError\u001b[0m                                Traceback (most recent call last)",
      "\u001b[0;32m/var/folders/1z/9_8zm1jd2h7dyhpwxvmwwt800000gp/T/ipykernel_38559/2683392930.py\u001b[0m in \u001b[0;36m<module>\u001b[0;34m\u001b[0m\n\u001b[1;32m      2\u001b[0m \u001b[0mplt\u001b[0m\u001b[0;34m.\u001b[0m\u001b[0mxlabel\u001b[0m\u001b[0;34m(\u001b[0m\u001b[0;34m'Age (Ga)'\u001b[0m\u001b[0;34m)\u001b[0m\u001b[0;34m\u001b[0m\u001b[0;34m\u001b[0m\u001b[0m\n\u001b[1;32m      3\u001b[0m \u001b[0mplt\u001b[0m\u001b[0;34m.\u001b[0m\u001b[0mylabel\u001b[0m\u001b[0;34m(\u001b[0m\u001b[0;34m'Metallicity'\u001b[0m\u001b[0;34m)\u001b[0m\u001b[0;34m\u001b[0m\u001b[0;34m\u001b[0m\u001b[0m\n\u001b[0;32m----> 4\u001b[0;31m \u001b[0mplt\u001b[0m\u001b[0;34m.\u001b[0m\u001b[0mscatter\u001b[0m\u001b[0;34m(\u001b[0m\u001b[0mageList\u001b[0m\u001b[0;34m,\u001b[0m\u001b[0mmtList\u001b[0m\u001b[0;34m,\u001b[0m\u001b[0ms\u001b[0m\u001b[0;34m=\u001b[0m\u001b[0;36m10\u001b[0m\u001b[0;34m,\u001b[0m\u001b[0mc\u001b[0m\u001b[0;34m=\u001b[0m\u001b[0;34m'o'\u001b[0m\u001b[0;34m)\u001b[0m\u001b[0;34m\u001b[0m\u001b[0;34m\u001b[0m\u001b[0m\n\u001b[0m\u001b[1;32m      5\u001b[0m \u001b[0mplt\u001b[0m\u001b[0;34m.\u001b[0m\u001b[0mshow\u001b[0m\u001b[0;34m(\u001b[0m\u001b[0;34m)\u001b[0m\u001b[0;34m\u001b[0m\u001b[0;34m\u001b[0m\u001b[0m\n",
      "\u001b[0;32m/Library/Frameworks/Python.framework/Versions/3.9/lib/python3.9/site-packages/matplotlib/pyplot.py\u001b[0m in \u001b[0;36mscatter\u001b[0;34m(x, y, s, c, marker, cmap, norm, vmin, vmax, alpha, linewidths, edgecolors, plotnonfinite, data, **kwargs)\u001b[0m\n\u001b[1;32m   3066\u001b[0m         \u001b[0mvmin\u001b[0m\u001b[0;34m=\u001b[0m\u001b[0;32mNone\u001b[0m\u001b[0;34m,\u001b[0m \u001b[0mvmax\u001b[0m\u001b[0;34m=\u001b[0m\u001b[0;32mNone\u001b[0m\u001b[0;34m,\u001b[0m \u001b[0malpha\u001b[0m\u001b[0;34m=\u001b[0m\u001b[0;32mNone\u001b[0m\u001b[0;34m,\u001b[0m \u001b[0mlinewidths\u001b[0m\u001b[0;34m=\u001b[0m\u001b[0;32mNone\u001b[0m\u001b[0;34m,\u001b[0m \u001b[0;34m*\u001b[0m\u001b[0;34m,\u001b[0m\u001b[0;34m\u001b[0m\u001b[0;34m\u001b[0m\u001b[0m\n\u001b[1;32m   3067\u001b[0m         edgecolors=None, plotnonfinite=False, data=None, **kwargs):\n\u001b[0;32m-> 3068\u001b[0;31m     __ret = gca().scatter(\n\u001b[0m\u001b[1;32m   3069\u001b[0m         \u001b[0mx\u001b[0m\u001b[0;34m,\u001b[0m \u001b[0my\u001b[0m\u001b[0;34m,\u001b[0m \u001b[0ms\u001b[0m\u001b[0;34m=\u001b[0m\u001b[0ms\u001b[0m\u001b[0;34m,\u001b[0m \u001b[0mc\u001b[0m\u001b[0;34m=\u001b[0m\u001b[0mc\u001b[0m\u001b[0;34m,\u001b[0m \u001b[0mmarker\u001b[0m\u001b[0;34m=\u001b[0m\u001b[0mmarker\u001b[0m\u001b[0;34m,\u001b[0m \u001b[0mcmap\u001b[0m\u001b[0;34m=\u001b[0m\u001b[0mcmap\u001b[0m\u001b[0;34m,\u001b[0m \u001b[0mnorm\u001b[0m\u001b[0;34m=\u001b[0m\u001b[0mnorm\u001b[0m\u001b[0;34m,\u001b[0m\u001b[0;34m\u001b[0m\u001b[0;34m\u001b[0m\u001b[0m\n\u001b[1;32m   3070\u001b[0m         \u001b[0mvmin\u001b[0m\u001b[0;34m=\u001b[0m\u001b[0mvmin\u001b[0m\u001b[0;34m,\u001b[0m \u001b[0mvmax\u001b[0m\u001b[0;34m=\u001b[0m\u001b[0mvmax\u001b[0m\u001b[0;34m,\u001b[0m \u001b[0malpha\u001b[0m\u001b[0;34m=\u001b[0m\u001b[0malpha\u001b[0m\u001b[0;34m,\u001b[0m \u001b[0mlinewidths\u001b[0m\u001b[0;34m=\u001b[0m\u001b[0mlinewidths\u001b[0m\u001b[0;34m,\u001b[0m\u001b[0;34m\u001b[0m\u001b[0;34m\u001b[0m\u001b[0m\n",
      "\u001b[0;32m/Library/Frameworks/Python.framework/Versions/3.9/lib/python3.9/site-packages/matplotlib/__init__.py\u001b[0m in \u001b[0;36minner\u001b[0;34m(ax, data, *args, **kwargs)\u001b[0m\n\u001b[1;32m   1359\u001b[0m     \u001b[0;32mdef\u001b[0m \u001b[0minner\u001b[0m\u001b[0;34m(\u001b[0m\u001b[0max\u001b[0m\u001b[0;34m,\u001b[0m \u001b[0;34m*\u001b[0m\u001b[0margs\u001b[0m\u001b[0;34m,\u001b[0m \u001b[0mdata\u001b[0m\u001b[0;34m=\u001b[0m\u001b[0;32mNone\u001b[0m\u001b[0;34m,\u001b[0m \u001b[0;34m**\u001b[0m\u001b[0mkwargs\u001b[0m\u001b[0;34m)\u001b[0m\u001b[0;34m:\u001b[0m\u001b[0;34m\u001b[0m\u001b[0;34m\u001b[0m\u001b[0m\n\u001b[1;32m   1360\u001b[0m         \u001b[0;32mif\u001b[0m \u001b[0mdata\u001b[0m \u001b[0;32mis\u001b[0m \u001b[0;32mNone\u001b[0m\u001b[0;34m:\u001b[0m\u001b[0;34m\u001b[0m\u001b[0;34m\u001b[0m\u001b[0m\n\u001b[0;32m-> 1361\u001b[0;31m             \u001b[0;32mreturn\u001b[0m \u001b[0mfunc\u001b[0m\u001b[0;34m(\u001b[0m\u001b[0max\u001b[0m\u001b[0;34m,\u001b[0m \u001b[0;34m*\u001b[0m\u001b[0mmap\u001b[0m\u001b[0;34m(\u001b[0m\u001b[0msanitize_sequence\u001b[0m\u001b[0;34m,\u001b[0m \u001b[0margs\u001b[0m\u001b[0;34m)\u001b[0m\u001b[0;34m,\u001b[0m \u001b[0;34m**\u001b[0m\u001b[0mkwargs\u001b[0m\u001b[0;34m)\u001b[0m\u001b[0;34m\u001b[0m\u001b[0;34m\u001b[0m\u001b[0m\n\u001b[0m\u001b[1;32m   1362\u001b[0m \u001b[0;34m\u001b[0m\u001b[0m\n\u001b[1;32m   1363\u001b[0m         \u001b[0mbound\u001b[0m \u001b[0;34m=\u001b[0m \u001b[0mnew_sig\u001b[0m\u001b[0;34m.\u001b[0m\u001b[0mbind\u001b[0m\u001b[0;34m(\u001b[0m\u001b[0max\u001b[0m\u001b[0;34m,\u001b[0m \u001b[0;34m*\u001b[0m\u001b[0margs\u001b[0m\u001b[0;34m,\u001b[0m \u001b[0;34m**\u001b[0m\u001b[0mkwargs\u001b[0m\u001b[0;34m)\u001b[0m\u001b[0;34m\u001b[0m\u001b[0;34m\u001b[0m\u001b[0m\n",
      "\u001b[0;32m/Library/Frameworks/Python.framework/Versions/3.9/lib/python3.9/site-packages/matplotlib/axes/_axes.py\u001b[0m in \u001b[0;36mscatter\u001b[0;34m(self, x, y, s, c, marker, cmap, norm, vmin, vmax, alpha, linewidths, edgecolors, plotnonfinite, **kwargs)\u001b[0m\n\u001b[1;32m   4514\u001b[0m             \u001b[0morig_edgecolor\u001b[0m \u001b[0;34m=\u001b[0m \u001b[0mkwargs\u001b[0m\u001b[0;34m.\u001b[0m\u001b[0mget\u001b[0m\u001b[0;34m(\u001b[0m\u001b[0;34m'edgecolor'\u001b[0m\u001b[0;34m,\u001b[0m \u001b[0;32mNone\u001b[0m\u001b[0;34m)\u001b[0m\u001b[0;34m\u001b[0m\u001b[0;34m\u001b[0m\u001b[0m\n\u001b[1;32m   4515\u001b[0m         \u001b[0mc\u001b[0m\u001b[0;34m,\u001b[0m \u001b[0mcolors\u001b[0m\u001b[0;34m,\u001b[0m \u001b[0medgecolors\u001b[0m \u001b[0;34m=\u001b[0m\u001b[0;31m \u001b[0m\u001b[0;31m\\\u001b[0m\u001b[0;34m\u001b[0m\u001b[0;34m\u001b[0m\u001b[0m\n\u001b[0;32m-> 4516\u001b[0;31m             self._parse_scatter_color_args(\n\u001b[0m\u001b[1;32m   4517\u001b[0m                 \u001b[0mc\u001b[0m\u001b[0;34m,\u001b[0m \u001b[0medgecolors\u001b[0m\u001b[0;34m,\u001b[0m \u001b[0mkwargs\u001b[0m\u001b[0;34m,\u001b[0m \u001b[0mx\u001b[0m\u001b[0;34m.\u001b[0m\u001b[0msize\u001b[0m\u001b[0;34m,\u001b[0m\u001b[0;34m\u001b[0m\u001b[0;34m\u001b[0m\u001b[0m\n\u001b[1;32m   4518\u001b[0m                 get_next_color_func=self._get_patches_for_fill.get_next_color)\n",
      "\u001b[0;32m/Library/Frameworks/Python.framework/Versions/3.9/lib/python3.9/site-packages/matplotlib/axes/_axes.py\u001b[0m in \u001b[0;36m_parse_scatter_color_args\u001b[0;34m(c, edgecolors, kwargs, xsize, get_next_color_func)\u001b[0m\n\u001b[1;32m   4357\u001b[0m                     \u001b[0;31m# Both the mapping *and* the RGBA conversion failed: pretty\u001b[0m\u001b[0;34m\u001b[0m\u001b[0;34m\u001b[0m\u001b[0;34m\u001b[0m\u001b[0m\n\u001b[1;32m   4358\u001b[0m                     \u001b[0;31m# severe failure => one may appreciate a verbose feedback.\u001b[0m\u001b[0;34m\u001b[0m\u001b[0;34m\u001b[0m\u001b[0;34m\u001b[0m\u001b[0m\n\u001b[0;32m-> 4359\u001b[0;31m                     raise ValueError(\n\u001b[0m\u001b[1;32m   4360\u001b[0m                         \u001b[0;34mf\"'c' argument must be a color, a sequence of colors, \"\u001b[0m\u001b[0;34m\u001b[0m\u001b[0;34m\u001b[0m\u001b[0m\n\u001b[1;32m   4361\u001b[0m                         f\"or a sequence of numbers, not {c}\") from err\n",
      "\u001b[0;31mValueError\u001b[0m: 'c' argument must be a color, a sequence of colors, or a sequence of numbers, not o"
     ]
    },
    {
     "data": {
      "image/png": "[encoded data removed]",
      "text/plain": [
       "<Figure size 432x288 with 1 Axes>"
      ]
     },
     "metadata": {
      "needs_background": "light"
     },
     "output_type": "display_data"
    }
   ],
   "source": [
    "plt.title('Age vs. Metallicity in Exoplanets')\n",
    "plt.xlabel('Age (Ga)')\n",
    "plt.ylabel('Metallicity')\n",
    "plt.scatter(ageList,mtList,s=10)\n",
    "plt.show()"
   ]
  },
  {
   "cell_type": "code",
   "execution_count": null,
   "id": "c7d0734a",
   "metadata": {},
   "outputs": [],
   "source": []
  }
 ],
 "metadata": {
  "kernelspec": {
   "display_name": "Python 3 (ipykernel)",
   "language": "python",
   "name": "python3"
  },
  "language_info": {
   "codemirror_mode": {
    "name": "ipython",
    "version": 3
   },
   "file_extension": ".py",
   "mimetype": "text/x-python",
   "name": "python",
   "nbconvert_exporter": "python",
   "pygments_lexer": "ipython3",
   "version": "3.9.1"
  }
 },
 "nbformat": 4,
 "nbformat_minor": 5
}
