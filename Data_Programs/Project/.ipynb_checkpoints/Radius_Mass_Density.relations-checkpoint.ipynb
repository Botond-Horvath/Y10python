{
 "cells": [
  {
   "cell_type": "code",
   "execution_count": 43,
   "id": "e836c489",
   "metadata": {},
   "outputs": [],
   "source": [
    "import library\n",
    "import matplotlib.pyplot as plt\n",
    "import pandas as pd\n",
    "import numpy as np\n",
    "import math"
   ]
  },
  {
   "cell_type": "code",
   "execution_count": 44,
   "id": "8e4efca0",
   "metadata": {},
   "outputs": [],
   "source": [
    "data = library.loadList('exoplanet.csv')"
   ]
  },
  {
   "cell_type": "code",
   "execution_count": 45,
   "id": "5c446cdb",
   "metadata": {},
   "outputs": [],
   "source": [
    "col = {'mass':2,'radius':3}"
   ]
  },
  {
   "cell_type": "code",
   "execution_count": 46,
   "id": "2ef23048",
   "metadata": {},
   "outputs": [],
   "source": [
    "def getDensity(mass,radius):\n",
    "    mass = float(mass)\n",
    "    radius = float(radius)\n",
    "    mass *= 1.898*(10**30)\n",
    "    radius *= 6991100000\n",
    "    density = mass / (4/3*(pi*radius**3))\n",
    "    cleanDensity = round(density,2)\n",
    "    return cleanDensity"
   ]
  },
  {
   "cell_type": "code",
   "execution_count": 47,
   "id": "a63f3e38",
   "metadata": {},
   "outputs": [
    {
     "name": "stdout",
     "output_type": "stream",
     "text": [
      "MASS, RADIUS, DENSITY:\n",
      "[[0.0014, 0.054, 11.79], [0.25, 0.84, 0.56], [0.17, 0.82, 0.41], [0.022, 0.147, 9.18], [0.6, 1.24, 0.42], [1.24, 1.67, 0.35], [0.0195, 0.2525, 1.61], [0.05074, 0.219624, 6.35], [0.025952, 0.076549, 76.72], [0.088, 0.44, 1.37], [0.892, 1.284, 0.56], [0.161, 0.515, 1.56], [0.68, 1.72, 0.18], [0.00409, 0.10298, 4.97], [0.00472, 0.10298, 5.73], [0.46, 1.045, 0.53], [0.57, 1.39, 0.28], [7.341, 1.281, 4.63], [4.87, 1.12, 4.6], [0.22, 0.764, 0.65], [0.679, 1.399, 0.33], [0.59, 1.42, 0.27], [2.18, 1.466, 0.92], [0.378, 1.115, 0.36], [1.0, 1.09, 1.02], [0.034099, 0.319867, 1.38], [2.26, 1.3, 1.36], [4.59, 1.438, 2.05], [0.66, 1.4, 0.32], [0.27619, 0.2661, 19.44], [0.20856, 0.3062, 9.63], [0.5, 1.407, 0.24], [1.9, 1.3, 1.15], [0.582, 1.182, 0.47], [0.505, 0.96, 0.76], [1.183, 1.807, 0.27], [0.59, 1.164, 0.5], [4.01, 1.49, 1.61], [3.31, 1.465, 1.4], [1.077, 1.03, 1.31], [0.0264, 0.194, 4.79], [2.487, 1.144, 2.2], [0.028091, 0.202309, 4.5], [0.011954, 0.107534, 12.75], [1.169, 1.178, 0.95], [2.244, 1.038, 2.66], [0.778, 1.107, 0.76], [2.86, 1.13, 2.63], [2.147, 1.08, 2.26], [0.526, 0.969, 0.77], [0.237, 0.912, 0.41], [2.82, 1.45, 1.23], [0.83, 1.1, 0.83], [0.494, 1.838, 0.11], [22.0, 1.05, 25.2], [3.191, 1.095, 3.22], [0.478, 1.537, 0.17], [0.884, 0.962, 1.32], [0.52, 1.26, 0.34], [2.18, 1.385, 1.09], [0.0001738742, 0.034901518, 5.42], [0.0025637401, 0.08656491, 5.24], [0.0031457007, 0.091130294, 5.51], [0.0003379953, 0.048489079, 3.93], [1.0, 1.0, 1.33], [0.299, 0.832944, 0.69], [0.0457, 0.362775, 1.27], [0.053953, 0.35221925, 1.64], [7.7581378e-06, 0.0164379, 2.32], [0.72, 1.32, 0.42], [5.0, 0.7, 19.33], [7.0, 1.0, 9.28], [7.0, 1.1, 6.97], [7.0, 1.0, 9.28], [1.832, 1.264, 1.2], [0.66, 0.96, 0.99], [1.057, 1.33, 0.6], [0.036805, 0.165857, 10.7], [0.02152, 0.2114, 3.02], [0.62, 1.02, 0.77], [0.014184, 0.328069, 0.53], [0.012579, 0.26427, 0.9], [3.25, 0.882, 6.28], [2.03, 1.69, 0.56], [0.818, 1.009, 1.06], [0.975, 1.277, 0.62], [0.53, 1.17, 0.44], [1.47, 1.15, 1.28], [0.714, 1.38, 0.36], [3.23, 1.22, 2.36], [1.41, 1.01, 1.81], [1.404, 1.736, 0.36], [1.17, 1.227, 0.84], [0.7, 0.975, 1.0], [0.011167, 0.181349, 2.48], [1.272, 1.137, 1.15], [4.24, 0.84, 9.49], [1.253, 1.169, 1.04], [0.914, 1.117, 0.87], [0.91, 1.443, 0.4], [11.0, 1.65, 3.25], [0.356, 0.718, 1.28], [0.63, 1.63, 0.19], [6.5, 1.53, 2.41], [0.18, 0.66, 0.83], [0.25, 0.978, 0.35], [10.43, 1.165, 8.75], [1.55, 1.112, 1.49], [0.96, 1.33, 0.54], [1.33, 1.164, 1.12], [1.265, 1.24, 0.88], [0.012, 0.1433, 5.41], [0.00535, 0.26428, 0.38], [0.01982, 0.64703, 0.1], [1.308, 0.885, 2.5], [0.452, 1.72, 0.12], [1.32, 1.13, 1.21], [2.31, 0.941, 3.68], [0.07046, 0.2096, 10.15], [0.10286, 0.4921, 1.14], [0.588, 1.158, 0.5], [0.94, 1.18, 0.76], [13.9, 1.44, 6.17], [0.003828, 0.100243, 5.04], [0.012848, 0.180438, 2.9], [0.763, 1.827, 0.17], [0.005096, 0.105711, 5.72], [0.672, 0.916, 1.16], [0.46, 1.27, 0.3], [3.27, 1.3, 1.97], [2.96, 1.166, 2.48], [2.5, 1.2, 1.92], [0.015963, 0.155832, 5.59], [0.026041, 0.1977527, 4.47], [1.03, 0.89, 1.94], [7.6, 1.09, 7.78], [1.07, 1.27, 0.69], [0.91, 1.443, 0.4], [0.0231, 0.120292, 17.6], [0.019975, 0.130316, 11.97], [0.008525, 0.077461, 24.32], [0.636, 1.653, 0.19], [2.101, 1.31, 1.24], [1.696, 1.136, 1.53], [0.44, 1.62, 0.14], [2.2, 1.2, 1.69], [0.085, 0.3426, 2.8], [0.006197, 0.109083, 6.33], [0.002013, 0.11045, 1.98], [0.000208, 0.04757, 2.56], [0.43, 1.15, 0.37], [0.023754977, 0.213245, 3.25], [0.56, 1.7, 0.15], [0.333, 0.7538, 1.03], [0.442, 1.18, 0.36], [4.193, 1.19, 3.3], [0.597, 0.973, 0.86], [0.54, 1.077, 0.57], [0.854, 1.483, 0.35], [0.019503, 0.561818, 0.15], [0.92, 1.83, 0.2], [0.059, 0.565, 0.43], [12.0, 1.55, 4.27], [2.06, 1.454, 0.89], [0.685, 1.242, 0.47], [0.0151, 0.15, 5.93], [30.0, 1.3, 18.11], [0.92, 1.327, 0.52], [0.85, 1.28, 0.54], [0.67, 1.3, 0.4], [1.462, 1.358, 0.77], [1.31, 1.525, 0.49], [0.29, 1.23, 0.21], [0.599, 1.571, 0.2], [2.5, 0.964, 3.7], [2.8, 1.05, 3.21], [0.503, 1.224, 0.36], [0.210762, 0.396143, 4.5], [1.168, 1.386, 0.58], [10.1, 1.05, 11.57], [0.484, 0.955, 0.74], [0.67, 1.4, 0.32], [0.3, 1.04, 0.35], [0.534, 1.01, 0.69], [0.5, 1.41, 0.24], [0.005977, 0.164035, 1.8], [0.009028, 0.261544, 0.67], [0.022964, 0.283415, 1.34], [0.025166, 0.380925, 0.6], [0.006291, 0.226003, 0.72], [1.23, 1.4, 0.59], [0.015079, 0.195019, 2.7], [0.033219, 0.286149, 1.88], [0.024945, 0.185906, 5.15], [1.13, 1.21, 0.85], [1.484, 1.318, 0.86], [0.43, 0.96, 0.64], [1.323, 1.02, 1.65], [1.338, 0.777, 3.78], [17.5, 6.0, 0.11], [1.138, 1.697, 0.31], [0.892, 1.426, 0.41], [0.0129, 0.196, 2.27], [0.0151, 0.212, 2.1], [0.012, 0.232382, 1.27], [3.06, 1.08, 3.22], [1.12, 1.363, 0.59], [1.47, 1.603, 0.47], [11.79, 1.217, 8.67], [1.054, 1.332, 0.59], [1.06, 1.252, 0.72], [0.5, 1.08, 0.53], [0.9, 1.7, 0.24], [2.47, 1.33, 1.39], [1.032, 1.104, 1.02], [0.514, 0.86, 1.07], [1.3, 1.2, 1.0], [0.486, 1.991, 0.08], [1.02, 1.2, 0.78], [0.020132, 0.55954, 0.15], [0.319, 0.998, 0.43], [1.925, 1.085, 2.0], [0.9, 1.184, 0.72], [0.95, 1.56, 0.33], [0.869, 1.002, 1.15], [9.7, 1.13, 8.91], [0.907, 1.213, 0.67], [0.037182, 0.23056, 4.02], [0.626, 1.212, 0.47], [2.78, 1.1, 2.77], [0.48, 1.2, 0.37], [0.57, 1.3, 0.34], [0.855, 1.008, 1.11], [1.35, 1.288, 0.84], [9.28, 1.51, 3.57], [0.542, 1.428, 0.25], [1.275, 1.321, 0.73], [7.246, 0.867, 14.74], [0.543, 1.212, 0.4], [0.493, 1.284, 0.31], [0.040894, 0.311666, 1.79], [0.010475, 0.133962, 5.78], [0.054106, 0.214156, 7.31], [0.138, 0.873, 0.28], [0.59, 1.22, 0.43], [0.85, 0.9, 1.55], [1.1215, 1.363, 0.59], [0.761, 1.099, 0.76], [0.127, 0.728, 0.44], [0.276, 1.162, 0.23], [1.615, 1.615, 0.51], [0.0727, 0.3767, 1.8], [0.0008807961, 0.06014599, 5.37], [0.38, 1.43, 0.17], [0.0066, 0.633, 0.03], [0.0126, 0.803, 0.03], [0.0239, 0.865, 0.05], [0.34, 1.09, 0.35], [0.011041, 0.134873, 5.97], [1.91, 1.305, 1.14], [0.0695, 0.581, 0.47], [0.569, 0.874, 1.13], [0.014483, 0.14672, 6.08], [19.1, 1.11, 18.52], [4.2, 1.97, 0.73], [0.309, 1.293, 0.19], [0.43, 1.75, 0.11], [0.95, 1.24, 0.66], [12.5, 1.1, 12.45], [0.68, 1.27, 0.44], [0.867, 1.86, 0.18], [1.271, 1.271, 0.82], [0.244, 0.792, 0.65], [0.84, 1.05, 0.96], [0.005882, 0.109356, 5.96], [0.066, 0.52, 0.62], [0.085, 0.723, 0.3], [0.0432, 0.346, 1.38], [0.0254, 0.1746, 6.33], [0.027, 0.17, 7.29], [0.051, 0.27, 3.44], [0.06, 0.25, 5.09], [8.74, 0.951, 13.48], [0.267, 0.825, 0.63], [8.4, 1.136, 7.6], [0.023403, 0.29162, 1.25], [0.011468, 0.25516, 0.92], [1.07, 1.04, 1.26], [2.17, 1.105, 2.13], [1.73, 1.413, 0.81], [0.0126, 0.1319, 7.28], [21.5, 1.8, 4.89], [2.71, 1.09, 2.77], [0.88, 1.191, 0.69], [1.855, 1.302, 1.11], [1.16, 1.75, 0.29], [0.27, 1.08, 0.28], [1.345, 1.168, 1.12], [0.711, 1.34, 0.39], [2.32, 1.39, 1.15], [0.76, 0.944, 1.2], [0.72, 1.19, 0.57], [10.39, 1.007, 13.49], [0.567, 1.19, 0.45], [1.06, 1.47, 0.44], [0.032841, 0.227826, 3.68], [0.035137, 0.233294, 3.67], [20.0, 0.92, 34.06], [1.778, 1.209, 1.33], [0.28, 1.27, 0.18], [1.52, 1.05932, 1.7], [1.88, 1.16, 1.6], [0.015814, 0.199575, 2.64], [0.007759, 0.141252, 3.65], [0.56, 1.04, 0.66], [0.89, 1.37, 0.46], [0.313, 1.458, 0.13], [1.26, 1.051, 1.44], [0.023, 0.192, 4.31], [0.013, 0.239, 1.26], [0.415, 1.034, 0.5], [0.941, 2.037, 0.15], [0.524, 1.217, 0.39], [0.211, 0.959, 0.32], [0.019346, 0.134873, 10.46], [0.615, 1.73, 0.16], [3.47, 1.31, 2.05], [2.75, 0.97, 4.0], [0.09156, 0.397, 1.94], [0.05, 0.434, 0.81], [0.138, 0.691, 0.55], [1.028, 1.281, 0.65], [0.51, 1.238, 0.36], [0.2755, 1.021, 0.34], [2.034, 1.036, 2.43], [2.2, 0.95, 3.4], [2.49, 1.39, 1.23], [0.0014, 0.068, 5.9], [0.0021, 0.078, 5.87], [0.12, 0.563, 0.89], [1.138, 1.138, 1.02], [0.554, 0.952, 0.85], [0.00252, 0.2916, 0.13], [0.01478, 0.487547, 0.17], [0.02108, 0.366343, 0.57], [0.03618, 0.406441, 0.71], [2.171, 1.07, 2.35], [0.837, 1.065, 0.92], [1.0, 0.93, 1.65], [0.035546, 0.355, 1.05], [2.013248, 1.120903, 1.9], [0.072666, 0.801947, 0.19], [0.081, 0.452, 1.16], [1.164, 1.139, 1.04], [0.0384, 0.1631, 11.74], [0.0328, 0.324, 1.28], [0.0383853003, 0.4353652161, 0.62], [1.45, 0.94, 2.32], [0.0330298, 0.1558328, 11.57], [0.04907293, 0.39368287, 1.07], [0.33, 1.0, 0.44], [0.11009952, 0.59781473, 0.68], [0.66, 1.283, 0.41], [1.007, 1.16, 0.86], [3.94, 0.921, 6.69], [1.84, 1.101, 1.83], [0.094, 0.719, 0.34], [0.0055264, 0.37647, 0.14], [0.016097, 0.26792, 1.11], [0.019492, 0.26792, 1.34], [1.27, 1.08, 1.34], [21.66, 1.01, 27.88], [2.242, 1.46, 0.96], [0.13, 0.66, 0.6], [0.01346359, 0.13778, 6.83], [0.02541726, 0.33526835, 0.89], [0.58, 1.26, 0.38], [0.0963, 0.22236, 11.62], [0.027, 0.139, 13.33], [0.595, 1.192, 0.47], [0.467, 1.388, 0.23], [0.26, 1.057, 0.29], [0.0217, 0.179, 5.02], [0.054, 0.49, 0.61], [0.052, 0.62, 0.29], [0.392, 1.28, 0.25], [0.292, 1.109, 0.28], [0.0378, 0.138, 19.07], [0.031, 0.216, 4.08], [0.077, 0.357, 2.24], [1.28, 1.533, 0.47], [1.16, 1.21, 0.87], [1.709, 1.4588, 0.73], [0.591, 0.827, 1.39], [0.917, 1.44, 0.41], [0.196, 0.947, 0.31], [1.11, 1.45, 0.48], [1.37, 1.65, 0.4], [1.83, 1.442, 0.81], [0.63, 0.96, 0.94], [0.863, 0.775, 2.46], [0.28, 0.96, 0.42], [2.114, 1.431, 0.96], [1.76, 1.21, 1.32], [0.571, 1.092, 0.58], [1.03, 1.49, 0.41], [0.026, 0.206, 3.94], [0.015, 0.085, 32.39], [5.01, 1.515, 1.91], [2.01, 1.36, 1.06], [2.45, 1.02, 3.06], [0.81, 0.89, 1.52], [3.6, 1.19, 2.83], [30.0, 0.97, 43.59], [1.946, 1.072, 2.09], [2.2, 1.17, 1.82], [2.06, 1.24, 1.43], [5.9, 1.04, 6.96], [2.279, 1.269, 1.48], [0.42, 1.4, 0.2], [0.84, 1.99, 0.14], [2.0, 1.0, 2.65], [1.524, 1.29, 0.94], [0.902, 1.699, 0.24], [4.34, 1.614, 1.37], [0.8, 1.685, 0.22], [0.98, 1.67, 0.28], [1.637, 1.171, 1.35], [2.09, 1.368, 1.08], [0.939, 1.325, 0.54], [0.75, 1.26, 0.5], [0.22, 0.57, 1.58], [1.372, 1.972, 0.24], [4.063, 1.024, 5.02], [3.328, 1.197, 2.57]]\n"
     ]
    }
   ],
   "source": [
    "massList = []\n",
    "radiusList = []\n",
    "densityList = []\n",
    "masterList = []\n",
    "for n in range(len(data)):\n",
    "    mass = data[n][col['mass']]\n",
    "    radius = data[n][col['radius']]\n",
    "    if mass != '' and radius != '':\n",
    "        density = getDensity(mass,radius)\n",
    "        densityList.append(density)\n",
    "        masterList += [[float(mass), float(radius), density]]\n",
    "\n",
    "print('MASS, RADIUS, DENSITY:')\n",
    "print(masterList)"
   ]
  },
  {
   "cell_type": "code",
   "execution_count": 48,
   "id": "4eee9bda",
   "metadata": {},
   "outputs": [
    {
     "data": {
      "text/html": [
       "<div>\n",
       "<style scoped>\n",
       "    .dataframe tbody tr th:only-of-type {\n",
       "        vertical-align: middle;\n",
       "    }\n",
       "\n",
       "    .dataframe tbody tr th {\n",
       "        vertical-align: top;\n",
       "    }\n",
       "\n",
       "    .dataframe thead th {\n",
       "        text-align: right;\n",
       "    }\n",
       "</style>\n",
       "<table border=\"1\" class=\"dataframe\">\n",
       "  <thead>\n",
       "    <tr style=\"text-align: right;\">\n",
       "      <th></th>\n",
       "      <th>Mass</th>\n",
       "      <th>Radius</th>\n",
       "      <th>Density</th>\n",
       "    </tr>\n",
       "  </thead>\n",
       "  <tbody>\n",
       "    <tr>\n",
       "      <th>0</th>\n",
       "      <td>0.0014</td>\n",
       "      <td>0.054</td>\n",
       "      <td>11.79</td>\n",
       "    </tr>\n",
       "    <tr>\n",
       "      <th>1</th>\n",
       "      <td>0.2500</td>\n",
       "      <td>0.840</td>\n",
       "      <td>0.56</td>\n",
       "    </tr>\n",
       "    <tr>\n",
       "      <th>2</th>\n",
       "      <td>0.1700</td>\n",
       "      <td>0.820</td>\n",
       "      <td>0.41</td>\n",
       "    </tr>\n",
       "    <tr>\n",
       "      <th>3</th>\n",
       "      <td>0.0220</td>\n",
       "      <td>0.147</td>\n",
       "      <td>9.18</td>\n",
       "    </tr>\n",
       "    <tr>\n",
       "      <th>4</th>\n",
       "      <td>0.6000</td>\n",
       "      <td>1.240</td>\n",
       "      <td>0.42</td>\n",
       "    </tr>\n",
       "    <tr>\n",
       "      <th>...</th>\n",
       "      <td>...</td>\n",
       "      <td>...</td>\n",
       "      <td>...</td>\n",
       "    </tr>\n",
       "    <tr>\n",
       "      <th>430</th>\n",
       "      <td>0.7500</td>\n",
       "      <td>1.260</td>\n",
       "      <td>0.50</td>\n",
       "    </tr>\n",
       "    <tr>\n",
       "      <th>431</th>\n",
       "      <td>0.2200</td>\n",
       "      <td>0.570</td>\n",
       "      <td>1.58</td>\n",
       "    </tr>\n",
       "    <tr>\n",
       "      <th>432</th>\n",
       "      <td>1.3720</td>\n",
       "      <td>1.972</td>\n",
       "      <td>0.24</td>\n",
       "    </tr>\n",
       "    <tr>\n",
       "      <th>433</th>\n",
       "      <td>4.0630</td>\n",
       "      <td>1.024</td>\n",
       "      <td>5.02</td>\n",
       "    </tr>\n",
       "    <tr>\n",
       "      <th>434</th>\n",
       "      <td>3.3280</td>\n",
       "      <td>1.197</td>\n",
       "      <td>2.57</td>\n",
       "    </tr>\n",
       "  </tbody>\n",
       "</table>\n",
       "<p>435 rows × 3 columns</p>\n",
       "</div>"
      ],
      "text/plain": [
       "       Mass  Radius  Density\n",
       "0    0.0014   0.054    11.79\n",
       "1    0.2500   0.840     0.56\n",
       "2    0.1700   0.820     0.41\n",
       "3    0.0220   0.147     9.18\n",
       "4    0.6000   1.240     0.42\n",
       "..      ...     ...      ...\n",
       "430  0.7500   1.260     0.50\n",
       "431  0.2200   0.570     1.58\n",
       "432  1.3720   1.972     0.24\n",
       "433  4.0630   1.024     5.02\n",
       "434  3.3280   1.197     2.57\n",
       "\n",
       "[435 rows x 3 columns]"
      ]
     },
     "execution_count": 48,
     "metadata": {},
     "output_type": "execute_result"
    }
   ],
   "source": [
    "df = pd.DataFrame(masterList,columns=['Mass','Radius','Density'])\n",
    "df"
   ]
  },
  {
   "cell_type": "code",
   "execution_count": 49,
   "id": "6af045ac",
   "metadata": {},
   "outputs": [
    {
     "ename": "TypeError",
     "evalue": "cannot convert the series to <class 'float'>",
     "output_type": "error",
     "traceback": [
      "\u001b[0;31m---------------------------------------------------------------------------\u001b[0m",
      "\u001b[0;31mTypeError\u001b[0m                                 Traceback (most recent call last)",
      "\u001b[0;32m/var/folders/1z/9_8zm1jd2h7dyhpwxvmwwt800000gp/T/ipykernel_12567/926244191.py\u001b[0m in \u001b[0;36m<module>\u001b[0;34m\u001b[0m\n\u001b[1;32m     12\u001b[0m \u001b[0mplt\u001b[0m\u001b[0;34m.\u001b[0m\u001b[0mylim\u001b[0m\u001b[0;34m(\u001b[0m\u001b[0;36m0\u001b[0m\u001b[0;34m,\u001b[0m\u001b[0;36m2\u001b[0m\u001b[0;34m)\u001b[0m\u001b[0;34m\u001b[0m\u001b[0;34m\u001b[0m\u001b[0m\n\u001b[1;32m     13\u001b[0m \u001b[0ma\u001b[0m\u001b[0;34m,\u001b[0m\u001b[0mb\u001b[0m \u001b[0;34m=\u001b[0m \u001b[0mnp\u001b[0m\u001b[0;34m.\u001b[0m\u001b[0mpolyfit\u001b[0m\u001b[0;34m(\u001b[0m\u001b[0mx\u001b[0m\u001b[0;34m,\u001b[0m\u001b[0my\u001b[0m\u001b[0;34m,\u001b[0m\u001b[0;36m1\u001b[0m\u001b[0;34m)\u001b[0m\u001b[0;34m\u001b[0m\u001b[0;34m\u001b[0m\u001b[0m\n\u001b[0;32m---> 14\u001b[0;31m \u001b[0mfitEquasion\u001b[0m \u001b[0;34m=\u001b[0m \u001b[0ma\u001b[0m \u001b[0;34m*\u001b[0m \u001b[0mmath\u001b[0m\u001b[0;34m.\u001b[0m\u001b[0msqrt\u001b[0m\u001b[0;34m(\u001b[0m\u001b[0mx\u001b[0m\u001b[0;34m)\u001b[0m \u001b[0;34m+\u001b[0m \u001b[0mb\u001b[0m\u001b[0;34m\u001b[0m\u001b[0;34m\u001b[0m\u001b[0m\n\u001b[0m\u001b[1;32m     15\u001b[0m \u001b[0mplt\u001b[0m\u001b[0;34m.\u001b[0m\u001b[0mplot\u001b[0m\u001b[0;34m(\u001b[0m\u001b[0mx\u001b[0m\u001b[0;34m,\u001b[0m\u001b[0mfitEquasion\u001b[0m\u001b[0;34m,\u001b[0m\u001b[0mcolor\u001b[0m\u001b[0;34m=\u001b[0m\u001b[0;34m'red'\u001b[0m\u001b[0;34m)\u001b[0m\u001b[0;34m\u001b[0m\u001b[0;34m\u001b[0m\u001b[0m\n\u001b[1;32m     16\u001b[0m \u001b[0;34m\u001b[0m\u001b[0m\n",
      "\u001b[0;32m/Library/Frameworks/Python.framework/Versions/3.9/lib/python3.9/site-packages/pandas/core/series.py\u001b[0m in \u001b[0;36mwrapper\u001b[0;34m(self)\u001b[0m\n\u001b[1;32m    183\u001b[0m         \u001b[0;32mif\u001b[0m \u001b[0mlen\u001b[0m\u001b[0;34m(\u001b[0m\u001b[0mself\u001b[0m\u001b[0;34m)\u001b[0m \u001b[0;34m==\u001b[0m \u001b[0;36m1\u001b[0m\u001b[0;34m:\u001b[0m\u001b[0;34m\u001b[0m\u001b[0;34m\u001b[0m\u001b[0m\n\u001b[1;32m    184\u001b[0m             \u001b[0;32mreturn\u001b[0m \u001b[0mconverter\u001b[0m\u001b[0;34m(\u001b[0m\u001b[0mself\u001b[0m\u001b[0;34m.\u001b[0m\u001b[0miloc\u001b[0m\u001b[0;34m[\u001b[0m\u001b[0;36m0\u001b[0m\u001b[0;34m]\u001b[0m\u001b[0;34m)\u001b[0m\u001b[0;34m\u001b[0m\u001b[0;34m\u001b[0m\u001b[0m\n\u001b[0;32m--> 185\u001b[0;31m         \u001b[0;32mraise\u001b[0m \u001b[0mTypeError\u001b[0m\u001b[0;34m(\u001b[0m\u001b[0;34mf\"cannot convert the series to {converter}\"\u001b[0m\u001b[0;34m)\u001b[0m\u001b[0;34m\u001b[0m\u001b[0;34m\u001b[0m\u001b[0m\n\u001b[0m\u001b[1;32m    186\u001b[0m \u001b[0;34m\u001b[0m\u001b[0m\n\u001b[1;32m    187\u001b[0m     \u001b[0mwrapper\u001b[0m\u001b[0;34m.\u001b[0m\u001b[0m__name__\u001b[0m \u001b[0;34m=\u001b[0m \u001b[0;34mf\"__{converter.__name__}__\"\u001b[0m\u001b[0;34m\u001b[0m\u001b[0;34m\u001b[0m\u001b[0m\n",
      "\u001b[0;31mTypeError\u001b[0m: cannot convert the series to <class 'float'>"
     ]
    },
    {
     "data": {
      "image/png": "[encoded data removed]",
      "text/plain": [
       "<Figure size 1080x1440 with 1 Axes>"
      ]
     },
     "metadata": {
      "needs_background": "light"
     },
     "output_type": "display_data"
    }
   ],
   "source": [
    "x = df.Mass\n",
    "y = df.Radius\n",
    "plt.figure(figsize=(15,20))\n",
    "\n",
    "#Mass vs. Radius Plot\n",
    "plt.subplot(311)\n",
    "plt.scatter(x,y,s=20,c='g')\n",
    "plt.title('Exoplanet Radius vs. Mass',fontweight='bold',fontsize=15)\n",
    "plt.xlabel('Mass (Jpt.)',fontweight='bold')\n",
    "plt.xlim(0,3)\n",
    "plt.ylabel('Radius (Jpt.)',fontweight='bold')\n",
    "plt.ylim(0,2)\n",
    "#a,b = np.polyfit(x,y,1)\n",
    "#fitEquasion = a * math.sqrt(x) + b\n",
    "#plt.plot(x,fitEquasion,color='red')\n",
    "\n",
    "#Mass vs. Density Plot\n",
    "x = df.Mass\n",
    "y = df.Density\n",
    "plt.subplot(312)\n",
    "plt.scatter(x,y,s=15,c='b')\n",
    "plt.title('Exoplanet Density vs. Mass',fontweight='bold',fontsize=15)\n",
    "plt.xlabel('Mass (Jpt.)',fontweight='bold')\n",
    "plt.xlim(0,2.5)\n",
    "plt.ylabel('Density ($g/cm^3$)',fontweight='bold')\n",
    "plt.ylim(0,8)\n",
    "\n",
    "#Radius vs. Density Plot\n",
    "x = df.Radius\n",
    "y = df.Density\n",
    "plt.subplot(313)\n",
    "plt.scatter(x,y,s=15,c='r')\n",
    "plt.title('Exoplanet Density vs. Radius',fontweight='bold',fontsize=15)\n",
    "plt.xlabel('Radius (Jpt.)',fontweight='bold')\n",
    "plt.xlim(0,2)\n",
    "plt.ylabel('Density ($g/cm^3$)',fontweight='bold')\n",
    "plt.ylim(0,15)\n",
    "\n",
    "plt.suptitle('Exoplanet Mass, Radius, and Density Relations',fontweight='bold',fontsize='25',y=0.93)\n",
    "\n",
    "plt.show()"
   ]
  },
  {
   "cell_type": "code",
   "execution_count": null,
   "id": "8f8857e9",
   "metadata": {},
   "outputs": [],
   "source": []
  }
 ],
 "metadata": {
  "kernelspec": {
   "display_name": "Python 3 (ipykernel)",
   "language": "python",
   "name": "python3"
  },
  "language_info": {
   "codemirror_mode": {
    "name": "ipython",
    "version": 3
   },
   "file_extension": ".py",
   "mimetype": "text/x-python",
   "name": "python",
   "nbconvert_exporter": "python",
   "pygments_lexer": "ipython3",
   "version": "3.9.1"
  }
 },
 "nbformat": 4,
 "nbformat_minor": 5
}
