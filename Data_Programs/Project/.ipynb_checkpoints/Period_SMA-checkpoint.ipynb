{
 "cells": [
  {
   "cell_type": "code",
   "execution_count": 9,
   "id": "8b589da2",
   "metadata": {},
   "outputs": [],
   "source": [
    "import library\n",
    "import csv\n",
    "import matplotlib.pyplot as plt\n",
    "import pandas as pd"
   ]
  },
  {
   "cell_type": "code",
   "execution_count": 4,
   "id": "71f1f989",
   "metadata": {},
   "outputs": [],
   "source": [
    "data = library.loadList('exoplanet.csv')"
   ]
  },
  {
   "cell_type": "code",
   "execution_count": 5,
   "id": "d8c323b9",
   "metadata": {},
   "outputs": [],
   "source": [
    "col = {'per':4,'sma':5}"
   ]
  },
  {
   "cell_type": "code",
   "execution_count": 19,
   "id": "07826a5c",
   "metadata": {},
   "outputs": [
    {
     "name": "stdout",
     "output_type": "stream",
     "text": [
      "[[0.005, 0.177], [0.039, 4.195], [0.052, 6.356], [0.143, 19.224], [0.229, 39.031], [0.027, 1.593], [0.053, 5.235], [0.045, 3.373], [1.33, 501.75], [2.1, 3500.0], [0.045, 2.706], [0.015, 1.58], [1.173, 437.05], [6.95, 6700.0], [0.11, 14.476], [0.042, 3.097], [4.417, 3324.0], [0.072, 6.803], [0.085, 8.703], [0.104, 11.922], [2.08, 1135.0], [0.056, 5.113], [0.098, 11.759], [0.23, 40.0], [0.176, 27.509], [0.08, 8.457], [0.381, 87.518], [0.04, 2.676], [0.047, 3.488], [0.068, 6.03], [0.81, 290.0], [0.07, 6.95], [1.02, 344.95], [0.113, 15.765], [0.45, 103.95], [0.046, 3.51], [1.9, 792.6], [0.071, 6.276], [1.486, 625.1], [5.69, 4684.0], [0.6, 163.91], [1.4, 522.3], [0.045, 3.101], [0.044, 3.722], [0.073, 9.324], [0.103, 15.501], [0.057, 4.412], [0.036, 2.244], [1.2, 311.6], [1.45, 379.63], [2.01, 621.99], [0.303, 52.501], [1.09, 288.822], [0.24, 39.845], [0.052, 4.166], [0.029, 2.646], [0.495, 131.05], [0.048, 3.523], [0.042, 2.791], [0.83, 263.6], [2.56, 1708.0], [0.038, 2.782], [0.045, 3.247], [2.4, 1290.0], [0.21, 26.468], [0.83, 255.87], [2.55, 1383.4], [0.188, 33.516], [3.17, 1951.0], [0.042, 2.725], [0.267, 49.77], [0.119, 17.968], [3.471, 2293.0], [0.026, 1.22], [0.143, 30.6], [0.364, 123.98], [0.194, 48.14], [0.073, 6.247], [3.25, 2208.0], [0.141, 19.153], [3.3, 2900.0], [6.22, 5501.0], [4.69, 4640.0], [0.054, 4.353], [0.065, 7.282], [0.085, 10.866], [2.6, 993.3], [0.037, 7.973], [0.014, 2.453], [1.2, 354.8], [1.1, 442.1], [0.024, 1.401], [0.072, 11.443], [0.039, 3.388], [0.027, 2.455], [0.025, 1.275], [0.068, 6.239], [0.11, 12.72], [0.049, 3.713], [0.081, 6.495], [0.047, 3.35], [4.2, 2590.0], [1.2, 480.5], [0.028, 1.743], [1.76, 1016.0], [0.049, 4.188], [0.077, 10.054], [0.14, 24.644], [0.208, 44.56], [0.189, 30.052], [0.654, 192.9], [1.37, 502.0], [0.05, 4.155], [4.2, 3008.0], [0.021, 1.337], [0.038, 2.797], [0.08, 8.159], [0.925, 320.1], [0.067, 5.723], [1.19, 360.2], [4.6, 2732.0], [0.94, 270.0], [0.114, 12.875], [0.041, 3.212], [2.335, 1043.0], [0.045, 3.313], [0.054, 4.763], [0.464, 105.595], [0.068, 5.334], [0.036, 2.963], [0.052, 3.554], [2.6, 9855.0], [0.162, 21.216], [0.063, 5.773], [0.112, 13.505], [0.047, 3.406], [0.038, 2.944], [0.219, 61.087], [0.136, 30.077], [0.022, 1.938], [0.334, 124.72], [0.053, 4.205], [0.029, 1.683], [0.176, 25.827], [0.93, 318.0], [0.082, 10.932], [0.053, 5.736], [0.08, 17.478], [0.176, 57.32], [1.291, 408.6], [5.36, 3452.0], [3.56, 2496.0], [0.387, 87.97], [0.723, 224.7], [1.0, 365.242], [1.524, 686.98], [5.202, 4332.82], [9.541, 10755.67], [19.188, 30687.153], [30.07, 60190.03], [39.487, 90553.02], [0.043, 3.162], [67.96, 166510.0], [42.81, 83255.0], [26.97, 41628.0], [16.99, 20816.0], [0.168, 48.616], [0.311, 121.54], [0.024, 1.327], [2.81, 1084.5], [0.057, 4.943], [0.036, 2.818], [1.28, 526.62], [0.122, 17.054], [5.4, 4970.0], [1.0, 392.6], [0.89, 345.63], [7.7, 9018.0], [1.16, 323.6], [0.052, 3.853], [0.095, 10.574], [1.286, 523.9], [0.118, 13.749], [0.184, 26.723], [0.278, 49.357], [1.85, 471.6], [0.04, 3.04], [0.09, 10.33], [0.11, 13.291], [0.494, 125.632], [0.046, 2.849], [0.043, 2.786], [0.037, 2.754], [3.15, 1800.0], [0.32, 71.487], [1.37, 613.1], [0.058, 4.642], [8.19, 10230.0], [2.56, 1311.0], [0.062, 5.352], [3.16, 1945.0], [0.229, 37.91], [0.029, 1.955], [0.047, 3.525], [0.044, 3.024], [0.037, 2.217], [1.19, 428.5], [0.122, 17.991], [2.9, 1840.0], [0.181, 28.68], [0.168, 18.179], [2.69, 1684.0], [0.448, 125.06], [0.044, 3.873], [1.78, 956.0], [0.14, 17.24], [0.079, 8.667], [0.186, 31.56], [0.63, 197.0], [0.023, 1.091], [2.88, 1565.0], [0.03, 1.69], [0.06, 7.37], [3.6, 3400.0], [1.08, 352.2], [3.86, 2374.0], [0.077, 8.523], [0.24, 36.96], [0.029, 1.755], [0.041, 3.024], [0.239, 44.236], [1.922, 1008.0], [0.022, 1.258], [0.09, 9.2], [1.32, 464.3], [1.23, 436.9], [0.036, 2.471], [3.02, 1845.0], [0.079, 7.854], [0.196, 30.93], [0.031, 2.152], [0.046, 3.319], [1.4, 396.03], [0.075, 7.127], [6.074, 5189.0], [9.25, 8167.0], [1.28, 499.4], [2.56, 1733.0], [0.242, 101.111], [1.29, 326.03], [0.043, 2.876], [1.3, 498.9], [2.38, 677.8], [0.056, 3.916], [0.302, 70.46], [0.563, 178.14], [0.102, 14.182], [0.248, 53.832], [0.067, 5.288], [0.201, 28.455], [0.134, 15.413], [0.083, 7.515], [0.565, 124.6], [0.92, 324.0], [0.046, 3.797], [2.77, 1299.0], [0.02, 0.941], [1.275, 510.702], [1.24, 663.2], [2.44, 1818.0], [0.153, 20.67], [5.42, 5144.0], [0.033, 2.311], [0.062, 4.955], [1.32, 528.4], [3.34, 2199.0], [0.056, 5.608], [0.023, 1.42], [0.039, 2.656], [0.353, 83.915], [0.059, 7.282], [1.06, 326.6], [0.92, 416.0], [0.681, 226.93], [0.897, 342.85], [0.043, 3.488], [0.83, 187.83], [0.038, 3.093], [0.065, 6.763], [0.146, 22.805], [0.235, 46.71], [0.375, 94.2], [3.11, 2247.0], [0.05, 4.215], [0.217, 38.021], [0.476, 123.01], [0.051, 4.035], [0.896, 279.8], [0.89, 330.0], [0.049, 4.114], [5.389, 5654.68], [3.358, 2793.0], [2.18, 874.774], [1.046, 384.843], [2.38, 1319.0], [0.499, 125.632], [2.42, 1000.0], [1.5, 626.0], [0.055, 3.95], [0.034, 2.008], [0.033, 2.073], [0.037, 3.161], [0.047, 3.533], [1.7, 963.0], [1.69, 589.64], [0.224, 35.968], [0.476, 110.979], [0.04, 3.052], [1.07, 421.0], [0.121, 18.315], [0.204, 40.114], [0.35, 90.309], [0.074, 8.428], [1.26, 466.0], [0.92, 327.8], [0.19, 30.942], [1.32, 550.0], [0.05, 3.474], [0.039, 2.839], [1.48, 577.9], [3.52, 2111.0], [0.037, 2.687], [0.047, 4.312], [0.08, 9.618], [0.132, 20.432], [0.189, 34.62], [0.247, 51.76], [0.6, 197.8], [0.064, 5.887], [2.708, 1627.5], [0.721, 223.6], [0.828, 282.526], [0.089, 10.35], [0.117, 15.678], [0.059, 5.599], [0.16, 25.21], [0.086, 8.887], [1.25, 456.1], [0.049, 3.312], [0.116, 16.2], [0.23, 43.6], [0.269, 48.056], [1.167, 528.07], [0.117, 15.726], [0.077, 7.813], [0.087, 9.376], [1.31, 431.8], [1.03, 297.3], [1.19, 479.1], [1.105, 439.3], [0.093, 11.577], [0.167, 27.582], [0.411, 106.72], [2.84, 1695.0], [0.081, 9.674], [0.044, 3.312], [0.73, 223.3], [0.027, 1.512], [0.11, 394.3], [0.037, 2.484], [0.061, 8.632], [0.125, 25.631], [0.046, 3.329], [0.11, 12.816], [0.073, 6.887], [0.216, 35.333], [1.19, 456.46], [0.05, 3.694], [2.0, 1129.0], [0.08, 8.282], [0.047, 3.416], [0.024, 1.43], [2.01, 778.1], [1.46, 628.96], [0.057, 5.051], [0.043, 3.577], [0.062, 4.886], [1.28, 482.0], [0.059, 4.628], [0.46, 122.1], [0.46, 118.45], [4.59, 3630.0], [0.036, 4.888], [0.084, 17.867], [0.204, 67.27], [0.091, 13.781], [0.128, 23.088], [0.075, 10.313], [0.54, 133.6], [0.044, 3.27], [2.226, 1160.9], [5.02, 3638.0], [0.052, 4.088], [1.52, 788.0], [0.76, 177.11], [0.082, 7.891], [0.76, 157.57], [0.08, 9.49], [10.0, 10000.0], [0.534, 154.378], [1.71, 885.5], [2.807, 1862.0], [0.064, 4.954], [0.72, 144.3], [0.112, 13.186], [0.257, 46.025], [2.07, 885.0], [0.705, 228.776], [0.08, 7.846], [2.39, 1276.0], [0.041, 2.776], [0.134, 18.157], [0.476, 120.8], [0.037, 2.616], [0.047, 4.015], [1.59, 547.9], [2.25, 924.3], [0.211, 39.915], [1.89, 621.6], [0.197, 33.602], [0.28, 57.011], [0.067, 6.767], [0.687, 225.7], [0.039, 2.52], [0.154, 19.382], [2.03, 931.0], [0.788, 240.503], [0.033, 1.81], [0.048, 4.235], [4.74, 3658.0], [0.46, 88.9], [3.82, 2131.8], [0.067, 1.565], [0.104, 3.036], [0.147, 5.149], [1.29, 536.6], [0.101, 15.819], [3.51, 2651.0], [0.031, 1.847], [0.614, 127.58], [1.57, 520.0], [0.81, 184.02], [0.046, 3.355], [0.124, 14.749], [0.06, 4.901], [0.045, 3.18], [0.083, 7.958], [5.6, 4951.0], [0.022, 1.178], [0.064, 5.76], [0.09, 9.655], [0.128, 16.354], [0.27, 49.75], [0.33, 67.55], [0.494, 122.88], [1.415, 596.0], [3.49, 2300.0], [1.48, 689.0], [0.947, 380.85], [0.017, 0.854], [0.046, 3.698], [4.48, 8686.0], [2.198, 1260.0], [0.043, 2.978], [0.043, 2.916], [1.186, 448.2], [0.07, 6.133], [0.046, 3.235], [0.053, 4.7], [0.07, 7.171], [0.041, 2.703], [2.55, 1058.8], [0.97, 325.81], [0.032, 2.146], [5.8, 5300.0], [2.36, 1125.7], [0.055, 5.715], [0.093, 12.442], [0.12, 18.164], [0.427, 122.387], [0.718, 267.291], [1.1, 357.8], [2.41, 2288.0], [0.049, 3.08], [0.123, 17.834], [2.31, 882.6], [0.64, 130.0], [1.2, 380.8], [4.8, 3830.0], [0.091, 10.291], [3.6, 3600.0], [0.292, 51.639], [3.82, 2448.9], [1.76, 851.8], [0.051, 3.544], [0.045, 3.092], [0.25, 49.184], [0.62, 190.323], [0.37, 69.755], [1.68, 675.47], [3.03, 1928.0], [2.41, 1293.0], [1.1, 388.0], [0.038, 3.005], [0.073, 7.834], [0.276, 58.021], [0.137, 18.357], [0.172, 25.648], [0.131, 14.31], [3.695, 2134.76], [0.048, 3.631], [2.1, 990.0], [1.01, 345.4], [1.7, 605.2], [0.042, 3.361], [0.264, 55.806], [0.052, 7.267], [0.078, 13.343], [0.034, 3.887], [0.11, 22.408], [1.03, 383.0], [0.102, 10.899], [1.97, 1143.0], [1.02, 363.2], [0.066, 7.783], [0.017, 0.789], [3.28, 2049.0], [0.082, 8.885], [0.059, 5.209], [0.422, 94.35], [0.702, 202.08], [2.135, 1070.35], [4.897, 3717.35], [0.096, 14.566], [0.053, 3.923], [0.059, 4.971], [2.1, 875.5], [1.08, 433.7], [0.153, 24.359], [1.42, 535.7], [0.009, 0.381], [0.088, 10.339], [2.75, 1798.0], [0.051, 3.586], [0.82, 229.9], [3.6, 2102.0], [1.34, 655.6], [0.091, 10.304], [0.107, 13.024], [0.155, 22.684], [0.195, 32.0], [0.25, 46.689], [0.466, 118.381], [0.042, 3.6], [0.049, 4.546], [0.06, 6.189], [0.07, 7.743], [0.081, 9.74], [0.036, 2.5], [0.293, 58.112], [2.837, 1749.83], [0.034, 2.185], [0.032, 1.962], [0.078, 10.003], [3.43, 2443.0], [4.43, 3117.0], [0.022, 2.26], [3.6, 2754.0], [5.2, 4375.0], [1.13, 606.4], [0.07, 5.888], [0.045, 3.579], [0.119, 26.161], [0.08, 9.434], [0.008, 0.448], [0.036, 2.517], [1.98, 974.0], [0.131, 16.255], [1.038, 407.15], [0.284, 62.23], [0.186, 31.08], [0.05, 3.548], [0.118, 15.609], [0.045, 3.129], [0.004, 0.091], [0.075, 7.132], [0.087, 8.918], [0.105, 11.903], [1.94, 1001.7], [0.037, 3.093], [0.047, 3.934], [1.282, 567.94], [0.019, 1.019], [0.02, 0.926], [0.045, 3.192], [2.24, 1145.0], [3.41, 2372.0], [0.11, 12.62], [0.8, 248.4], [1.9, 530.32], [6.1, 3186.0], [0.64, 194.3], [1.02, 391.9], [0.05, 3.647], [0.048, 3.905], [0.419, 147.661], [2.1, 1078.0], [3.6, 2391.0], [11.6, 14002.0], [0.148, 22.017], [0.103, 17.38], [0.129, 24.329], [0.05, 4.556], [0.041, 2.788], [0.055, 4.982], [6.7, 5894.0], [3.36, 2209.0], [1.93, 796.0], [80.0, 200883.21], [0.036, 3.662], [0.026, 1.486], [0.091, 18.45], [0.369, 88.517], [0.228, 42.991], [3.3, 2231.0], [1.3, 578.2], [1.65, 937.0], [5.3, 4350.0], [0.036, 2.341], [0.049, 3.971], [0.097, 10.496], [0.437, 100.283], [0.158, 21.87], [1.2, 501.0], [0.053, 4.305], [0.037, 2.549], [2.8, 1900.0], [2.6, 1251.0], [0.022, 1.212], [0.051, 3.735], [0.471, 114.731], [0.664, 192.363], [1.39, 479.0], [0.036, 3.325], [0.041, 2.986], [0.33, 63.33], [0.092, 9.29], [1.88, 842.2], [20.0, 24837.0], [0.049, 3.942], [0.037, 2.138], [2.07, 1038.1], [0.034, 2.424], [0.03, 1.796], [0.045, 3.409], [0.043, 3.257], [0.051, 7.2], [0.089, 16.946], [0.125, 28.14], [0.156, 39.026], [0.213, 62.24], [0.276, 91.61], [0.549, 256.2], [0.36, 111.7], [0.072, 5.753], [3.86, 2482.7], [1.93, 1096.2], [0.045, 3.425], [3.6, 3660.0], [0.162, 35.67], [1.397, 597.065], [0.169, 29.15], [0.346, 85.131], [0.053, 4.466], [0.064, 5.24], [0.067, 8.638], [0.042, 3.119], [0.045, 3.122], [0.034, 1.764], [0.249, 47.84], [0.97, 471.0], [0.04, 3.236], [0.05, 3.752], [0.044, 3.076], [0.036, 2.875], [0.747, 192.0], [0.041, 3.044], [0.056, 5.6], [0.68, 237.6], [1.72, 799.5], [1.65, 705.0], [0.49, 93.4], [1.52, 653.22], [0.017, 0.837], [0.241, 45.294], [0.409, 112.305], [1.92, 890.76], [0.065, 6.403], [0.282, 48.63], [0.202, 29.393], [0.126, 14.436], [0.047, 3.584], [0.075, 9.884], [4.3, 2082.0], [0.052, 4.318], [0.039, 2.851], [0.023, 1.338], [0.062, 5.91], [0.081, 8.98], [1.6, 672.1], [1.54, 516.22], [0.039, 3.03], [1.9, 745.7], [0.481, 116.693], [0.603, 131.458], [0.05, 4.323], [0.125, 16.546], [0.267, 51.284], [0.818, 274.49], [0.055, 4.125], [0.029, 2.644], [0.018, 1.366], [2.4, 1214.0], [0.148, 22.656], [0.264, 53.881], [0.495, 177.669], [0.057, 4.378], [0.251, 45.154], [0.384, 85.312], [0.509, 130.194], [2.14, 868.0], [0.1, 13.367], [0.137, 21.302], [0.208, 39.792], [0.251, 51.196], [0.041, 3.218], [1.51, 700.0], [0.64, 207.248], [0.539, 137.48], [0.023, 1.306], [0.103, 10.511], [0.165, 21.402], [0.162, 21.087], [0.08, 9.374], [1.76, 962.0], [3.0, 2172.0], [0.051, 4.218], [2.11, 1155.0], [0.056, 4.438], [0.062, 5.084], [2.54, 1523.0], [0.045, 3.057], [0.652, 191.99], [3.394, 2277.0], [0.046, 3.244], [0.026, 1.573], [5.15, 4218.0], [0.95, 199.505], [0.058, 4.944], [3.2, 2780.0], [0.046, 3.923], [0.407, 95.274], [2.86, 1475.0], [1.01, 331.601], [0.71, 210.607], [0.48, 124.914], [0.42, 91.939], [0.32, 59.737], [0.089, 8.719], [0.074, 7.008], [1.68, 610.0], [0.36, 75.229], [2.42, 1314.0], [0.154, 20.885], [0.247, 42.363], [0.031, 3.337], [1.02, 349.7], [6.8, 6005.0], [1.19, 418.2], [0.115, 14.652], [0.241, 44.417], [5.503, 4825.0], [0.016, 0.737], [0.788, 262.0], [3.9, 1630.0], [0.052, 5.842], [0.118, 19.85], [0.079, 10.864], [0.255, 63.336], [0.169, 34.142], [0.045, 3.696], [0.093, 10.854], [0.345, 77.612], [0.063, 6.098], [0.138, 19.577], [0.067, 5.633], [0.052, 4.64], [0.152, 23.34], [0.038, 2.767], [0.027, 1.747], [2.1, 714.3], [0.053, 4.727], [0.076, 6.872], [0.051, 4.441], [0.065, 6.429], [0.11, 14.092], [0.178, 22.951], [0.269, 42.883], [0.038, 3.035], [0.044, 3.446], [0.061, 5.736], [2.35, 1244.0], [0.288, 66.651], [2.864, 1766.0], [9.037, 9886.0], [0.042, 2.175], [1.17, 305.5], [0.058, 4.861], [0.023, 1.354], [1.333, 452.8], [2.08, 883.0], [1.67, 641.0], [2.071, 886.0], [0.477, 143.58], [0.042, 2.811], [0.13, 15.792], [0.392, 82.2], [0.055, 4.086], [0.057, 5.398], [0.113, 15.299], [0.155, 24.451], [0.7, 181.4], [0.041, 2.465], [0.09, 9.202], [1.187, 442.4], [0.742, 219.3], [2.0, 1057.0], [0.048, 3.575], [0.151, 17.855], [0.13, 57.435], [0.047, 3.653], [0.088, 10.72], [0.051, 3.979], [0.045, 4.176], [0.073, 8.708], [0.104, 14.862], [3.53, 7340.0], [1.22, 373.3], [0.024, 1.482], [0.049, 4.055], [1.7, 829.0], [2.72, 1107.592], [3.13, 1966.0], [0.25, 49.77], [0.055, 4.087], [0.097, 11.849], [0.196, 33.823], [2.09, 883.0], [0.031, 1.856], [1.03, 383.7], [0.094, 13.722], [0.64, 242.461], [0.056, 5.017], [4.3, 3538.0], [1.4, 647.3], [1.073, 341.7], [0.06, 4.9], [0.052, 4.231], [0.059, 4.617], [0.832, 241.02], [2.534, 1282.57], [5.246, 3848.86], [0.023, 1.432], [2.05, 986.0], [0.21, 34.545], [0.33, 66.063], [0.51, 125.852], [0.011, 1.511], [0.015, 2.422], [0.53, 141.6], [0.99, 361.1], [0.034, 2.15], [4.5, 4100.0], [0.055, 4.465], [0.038, 3.213], [0.77, 201.83], [1.58, 607.06], [0.091, 11.81], [0.88, 256.0], [1.8, 1972.3], [0.063, 8.368], [2.3, 1790.0], [4.5, 4931.0], [0.634, 138.506], [0.061, 4.457], [0.164, 38.14], [1.19, 472.3], [0.029, 1.9], [0.105, 13.241], [0.83, 185.84], [2.32, 1256.0], [1.32, 345.53], [0.777, 268.94], [5.1, 3999.0], [0.097, 11.907], [0.074, 7.919], [0.034, 2.509], [5.5, 4885.0], [0.04, 2.757], [0.046, 3.778], [0.036, 2.246], [1.222, 406.6], [0.514, 110.9], [0.095, 10.022], [0.069, 6.482], [0.152, 21.223], [0.015, 0.813], [0.041, 5.369], [0.072, 12.914], [0.22, 66.64], [0.028, 3.149], [0.758, 433.0], [0.146, 36.5], [0.6, 110.322], [0.35, 75.82], [0.77, 227.55], [0.044, 2.994], [0.006, 0.24], [0.008, 0.343], [0.04, 3.185], [1.15, 691.78], [30.0, 10000.0], [0.031, 2.219], [0.035, 3.068], [0.068, 5.668], [0.119, 13.176], [0.166, 21.776], [0.214, 31.784], [0.254, 41.029], [0.055, 5.005], [1.35, 572.38], [2.6, 1620.0], [0.949, 358.0], [0.65, 189.65], [1.03, 376.93], [0.044, 3.444], [0.03, 1.915], [0.226, 39.938], [0.102, 12.083], [0.296, 59.519], [1.157, 459.26], [0.066, 8.784], [0.035, 2.155], [0.068, 5.86], [0.084, 8.131], [0.012, 1.214], [0.006, 0.453], [0.015, 1.865], [0.063, 5.748], [1.7, 1170.0], [0.18, 29.334], [0.3, 60.325], [0.5, 143.213], [1.36, 615.0], [1.5, 643.25], [0.091, 9.639], [0.921, 310.55], [5.235, 4205.8], [1.93, 594.9], [0.053, 4.888], [0.051, 4.159], [0.017, 0.79], [0.088, 9.031], [1.36, 572.0], [0.085, 9.287], [0.233, 26.73], [0.005, 0.22], [0.007, 0.325], [0.01, 0.812], [3.78, 2627.08], [0.33, 68.27], [1.096, 359.555], [0.092, 9.756], [0.382, 86.648], [2.15, 1116.0], [0.051, 3.743], [0.101, 10.424], [0.168, 22.343], [0.305, 54.32], [0.044, 3.333], [0.416, 104.84], [1.78, 663.0], [0.05, 4.085], [2.395, 1353.6], [0.875, 282.4], [0.041, 3.126], [1.16, 415.2], [0.149, 32.945], [1.7, 696.3], [5.16, 3827.0], [0.077, 6.838], [0.463, 111.427], [0.069, 6.674], [0.545, 147.73], [1.89, 962.0], [1.135, 598.3], [0.043, 4.476], [0.28, 50.79], [0.144, 18.796], [0.098, 10.954], [0.153, 22.1], [2.45, 1313.0], [1.29, 359.9], [0.132, 18.596], [0.039, 2.138], [0.166, 35.233], [0.49, 133.71], [0.041, 3.6], [0.187, 35.37], [1.8, 1050.3], [5.2, 4400.0], [2.2, 1183.0], [0.911, 303.0], [0.164, 41.397], [177.0, 320000.0], [0.043, 3.526], [0.057, 4.257], [2.315, 1159.0], [2.62, 1544.0], [0.046, 2.904], [2.07, 1049.0], [1.1, 277.02], [0.07, 8.135], [0.178, 32.03], [1.01, 431.7], [0.115, 13.84], [0.128, 16.239], [1.05, 386.3], [0.047, 3.765], [0.116, 13.727], [0.17, 24.311], [0.09, 9.341], [1.2, 492.3], [0.102, 2.984], [0.141, 4.871], [0.2, 8.153], [0.135, 17.816], [1.219, 704.198], [0.036, 2.684], [0.049, 4.038], [3.92, 2867.9], [0.128, 17.119], [1.51, 507.0], [2.45, 1010.0], [0.052, 3.833], [2.33, 1270.5], [4.96, 4046.0], [0.118, 15.33], [0.191, 31.33], [0.052, 5.636], [0.095, 14.025], [0.172, 33.941], [0.045, 3.868], [2.6, 1326.0], [0.046, 6.319], [0.104, 12.209], [0.041, 3.076], [0.167, 24.844], [3.04, 1920.1], [0.21, 34.873], [3.93, 2831.6], [2.25, 1178.4], [1.0, 352.3], [1.3, 533.0], [0.105, 12.582], [0.202, 33.673], [0.045, 3.505], [0.075, 7.642], [0.117, 14.859], [0.59, 157.54], [0.699, 219.9], [1.601, 613.8], [1.95, 825.0], [0.047, 4.009], [0.195, 30.161], [0.276, 51.079], [0.051, 4.016], [0.096, 10.561], [0.046, 3.213], [2.07, 1035.7], [0.044, 2.735], [0.69, 198.4], [1.37, 559.3], [4.637, 3490.0], [0.035, 2.176], [0.038, 2.205], [0.039, 2.9], [0.089, 14.207], [0.04, 2.828], [0.339, 64.002], [2.16, 1076.4], [0.056, 5.508], [2.015, 989.2], [2.03, 951.0], [0.849, 290.0], [0.023, 1.423], [0.056, 5.341], [0.081, 8.992], [0.187, 20.656], [0.187, 31.719], [0.052, 3.897], [2.7, 1600.0], [0.296, 49.514], [0.989, 303.158], [0.077, 7.794], [4.3, 2890.0], [0.128, 15.965], [0.641, 179.612], [0.039, 2.311], [0.078, 7.341], [0.07, 7.92], [0.284, 55.013], [3.821, 2720.0], [2.47, 1316.24], [4.6, 2730.0], [0.055, 4.2], [0.83, 263.1], [0.81, 258.19], [5.8, 5000.0], [0.045, 3.289], [0.051, 3.548], [4.94, 3724.7], [0.76, 176.3], [0.221, 40.736], [0.024, 1.36], [1.81, 948.12], [1.48, 521.0], [0.055, 4.617], [0.025, 1.509], [0.19, 25.262], [0.36, 66.542], [0.46, 98.211], [2.1, 691.9], [0.11, 14.275], [0.062, 5.399], [0.091, 9.605], [1.4, 580.0], [0.052, 3.611], [0.046, 3.768], [0.609, 148.6], [1.19, 356.0], [1.92, 772.0], [0.046, 3.914], [3.02, 1634.0], [2.39, 1924.0], [4.82, 5520.0], [0.105, 13.965], [0.195, 35.362], [0.374, 94.11], [0.552, 168.12], [1.35, 642.0], [0.086, 10.352], [0.053, 5.064], [0.039, 2.719], [0.077, 8.126], [0.422, 103.49], [2.05, 903.3], [3.2, 2097.0], [1.12, 434.9], [2.897, 4640.0], [1.25, 500.0], [0.096, 10.864], [0.5, 119.6], [1.32, 420.77], [1.73, 670.2], [1.3, 417.9], [1.4, 443.4], [0.08, 6.873], [0.101, 12.331], [0.119, 15.943], [0.051, 3.856], [0.043, 3.356], [0.026, 1.537], [2.28, 1667.0], [0.052, 4.614], [0.095, 8.6], [0.065, 6.0], [0.05, 4.646], [14.0, 15000.0], [0.055, 4.114], [0.57, 161.97], [2.112, 1155.7], [0.031, 2.486], [0.039, 4.694], [0.106, 14.07], [0.379, 95.415], [2.5, 952.7], [0.87, 269.3], [2.0, 912.0], [0.139, 18.202], [0.68, 136.75], [0.043, 2.694], [0.51, 129.8], [1.24, 387.1], [0.93, 331.5], [0.26, 58.43], [1.9, 1276.0], [2.9, 2506.0], [0.034, 2.144], [0.32, 74.72], [1.18, 525.8], [3.2, 2093.3], [0.027, 1.628], [0.023, 1.213], [0.123, 19.079], [0.067, 7.619], [0.03, 1.721], [0.051, 3.677], [0.063, 6.212], [0.031, 1.71], [0.049, 4.124], [0.068, 5.453], [1.27, 407.3], [1.93, 744.3], [1.051, 395.4], [2.68, 1605.8]]\n"
     ]
    }
   ],
   "source": [
    "smaList = []\n",
    "periodList = []\n",
    "masterList = []\n",
    "for n in range(len(data)):\n",
    "    sma = data[n][col['sma']]\n",
    "    period = data[n][col['per']]\n",
    "    if sma != '' and period != '':\n",
    "        masterList += [[round(float(sma),3),round(float(period),3)]]\n",
    "        smaList.append(float(sma))\n",
    "        periodList.append(float(period))\n",
    "\n",
    "print(masterList)"
   ]
  },
  {
   "cell_type": "code",
   "execution_count": 20,
   "id": "9612ac30",
   "metadata": {},
   "outputs": [
    {
     "data": {
      "text/html": [
       "<div>\n",
       "<style scoped>\n",
       "    .dataframe tbody tr th:only-of-type {\n",
       "        vertical-align: middle;\n",
       "    }\n",
       "\n",
       "    .dataframe tbody tr th {\n",
       "        vertical-align: top;\n",
       "    }\n",
       "\n",
       "    .dataframe thead th {\n",
       "        text-align: right;\n",
       "    }\n",
       "</style>\n",
       "<table border=\"1\" class=\"dataframe\">\n",
       "  <thead>\n",
       "    <tr style=\"text-align: right;\">\n",
       "      <th></th>\n",
       "      <th>Semi-Major-Axis</th>\n",
       "      <th>Period (Days)</th>\n",
       "    </tr>\n",
       "  </thead>\n",
       "  <tbody>\n",
       "    <tr>\n",
       "      <th>0</th>\n",
       "      <td>0.005</td>\n",
       "      <td>0.177</td>\n",
       "    </tr>\n",
       "    <tr>\n",
       "      <th>1</th>\n",
       "      <td>0.039</td>\n",
       "      <td>4.195</td>\n",
       "    </tr>\n",
       "    <tr>\n",
       "      <th>2</th>\n",
       "      <td>0.052</td>\n",
       "      <td>6.356</td>\n",
       "    </tr>\n",
       "    <tr>\n",
       "      <th>3</th>\n",
       "      <td>0.143</td>\n",
       "      <td>19.224</td>\n",
       "    </tr>\n",
       "    <tr>\n",
       "      <th>4</th>\n",
       "      <td>0.229</td>\n",
       "      <td>39.031</td>\n",
       "    </tr>\n",
       "    <tr>\n",
       "      <th>...</th>\n",
       "      <td>...</td>\n",
       "      <td>...</td>\n",
       "    </tr>\n",
       "    <tr>\n",
       "      <th>1231</th>\n",
       "      <td>0.068</td>\n",
       "      <td>5.453</td>\n",
       "    </tr>\n",
       "    <tr>\n",
       "      <th>1232</th>\n",
       "      <td>1.270</td>\n",
       "      <td>407.300</td>\n",
       "    </tr>\n",
       "    <tr>\n",
       "      <th>1233</th>\n",
       "      <td>1.930</td>\n",
       "      <td>744.300</td>\n",
       "    </tr>\n",
       "    <tr>\n",
       "      <th>1234</th>\n",
       "      <td>1.051</td>\n",
       "      <td>395.400</td>\n",
       "    </tr>\n",
       "    <tr>\n",
       "      <th>1235</th>\n",
       "      <td>2.680</td>\n",
       "      <td>1605.800</td>\n",
       "    </tr>\n",
       "  </tbody>\n",
       "</table>\n",
       "<p>1236 rows × 2 columns</p>\n",
       "</div>"
      ],
      "text/plain": [
       "      Semi-Major-Axis  Period (Days)\n",
       "0               0.005          0.177\n",
       "1               0.039          4.195\n",
       "2               0.052          6.356\n",
       "3               0.143         19.224\n",
       "4               0.229         39.031\n",
       "...               ...            ...\n",
       "1231            0.068          5.453\n",
       "1232            1.270        407.300\n",
       "1233            1.930        744.300\n",
       "1234            1.051        395.400\n",
       "1235            2.680       1605.800\n",
       "\n",
       "[1236 rows x 2 columns]"
      ]
     },
     "execution_count": 20,
     "metadata": {},
     "output_type": "execute_result"
    }
   ],
   "source": [
    "df = pd.DataFrame(masterList,columns=['Semi-Major-Axis','Period (Days)'])\n",
    "df"
   ]
  },
  {
   "cell_type": "code",
   "execution_count": 43,
   "id": "54d5d0ec",
   "metadata": {},
   "outputs": [
    {
     "data": {
      "image/png": "[encoded data removed]",
      "text/plain": [
       "<Figure size 432x288 with 1 Axes>"
      ]
     },
     "metadata": {
      "needs_background": "light"
     },
     "output_type": "display_data"
    }
   ],
   "source": [
    "plt.title('Period vs. Semi-Major-Axis\\nfor Exoplanets')\n",
    "plt.xlabel('Semi-Major-Axis (AU)')\n",
    "plt.xlim(0,5)\n",
    "plt.ylabel('Period (Days)')\n",
    "plt.ylim(0,2000)\n",
    "\n",
    "plt.scatter(smaList,periodList,c='darkblue',s=15)\n",
    "plt.show()"
   ]
  },
  {
   "cell_type": "code",
   "execution_count": null,
   "id": "19735e1f",
   "metadata": {},
   "outputs": [],
   "source": []
  }
 ],
 "metadata": {
  "kernelspec": {
   "display_name": "Python 3 (ipykernel)",
   "language": "python",
   "name": "python3"
  },
  "language_info": {
   "codemirror_mode": {
    "name": "ipython",
    "version": 3
   },
   "file_extension": ".py",
   "mimetype": "text/x-python",
   "name": "python",
   "nbconvert_exporter": "python",
   "pygments_lexer": "ipython3",
   "version": "3.9.1"
  }
 },
 "nbformat": 4,
 "nbformat_minor": 5
}
