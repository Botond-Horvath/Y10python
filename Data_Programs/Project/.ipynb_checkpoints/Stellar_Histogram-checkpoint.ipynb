{
 "cells": [
  {
   "cell_type": "code",
   "execution_count": 72,
   "id": "0dbe9043",
   "metadata": {},
   "outputs": [],
   "source": [
    "import library\n",
    "import csv\n",
    "from matplotlib.pyplot import figure\n",
    "import pandas as pd"
   ]
  },
  {
   "cell_type": "code",
   "execution_count": 73,
   "id": "69c981e0",
   "metadata": {},
   "outputs": [],
   "source": [
    "data = library.loadList('exoplanet.csv')"
   ]
  },
  {
   "cell_type": "code",
   "execution_count": 74,
   "id": "95ce3734",
   "metadata": {},
   "outputs": [],
   "source": [
    "col = {'stMass':19}"
   ]
  },
  {
   "cell_type": "code",
   "execution_count": 75,
   "id": "607f1172",
   "metadata": {},
   "outputs": [
    {
     "name": "stdout",
     "output_type": "stream",
     "text": [
      "[0.012, 0.018, 0.02, 0.022, 0.025, 0.031, 0.05, 0.05, 0.051, 0.057, 0.0572, 0.06, 0.07, 0.08, 0.08, 0.08, 0.08, 0.108, 0.11, 0.1127, 0.12, 0.12, 0.13, 0.13, 0.13, 0.13, 0.16, 0.16, 0.176, 0.18, 0.18, 0.18, 0.18, 0.181, 0.19, 0.19, 0.22, 0.22, 0.22, 0.22, 0.23, 0.24, 0.25, 0.25, 0.25, 0.26, 0.264, 0.27, 0.27, 0.28, 0.281, 0.281, 0.294, 0.3, 0.31, 0.31, 0.31, 0.31, 0.31, 0.31, 0.31, 0.325, 0.33, 0.33, 0.33, 0.33, 0.33, 0.33, 0.33, 0.33, 0.34, 0.34, 0.34, 0.34, 0.35, 0.35, 0.35, 0.35, 0.35, 0.35, 0.35, 0.357, 0.37, 0.37, 0.37, 0.37, 0.37, 0.375, 0.38, 0.38, 0.4, 0.4, 0.4, 0.4, 0.4, 0.4, 0.413, 0.413, 0.42, 0.42, 0.42, 0.42, 0.42, 0.43, 0.43, 0.45, 0.45, 0.45, 0.452, 0.452, 0.46, 0.46, 0.46, 0.46, 0.46, 0.46, 0.47, 0.47, 0.47, 0.47, 0.47, 0.47, 0.47, 0.478, 0.478, 0.478, 0.478, 0.478, 0.48, 0.48, 0.49, 0.49, 0.49, 0.49, 0.49, 0.49, 0.496, 0.496, 0.498, 0.498, 0.498, 0.498, 0.498, 0.5, 0.5, 0.506, 0.506, 0.506, 0.51, 0.51, 0.51, 0.51, 0.51, 0.51, 0.51, 0.51, 0.514, 0.514, 0.514, 0.514, 0.52, 0.52, 0.52, 0.521, 0.521, 0.521, 0.526, 0.53, 0.53, 0.53, 0.537, 0.537, 0.54, 0.54, 0.54, 0.54, 0.54, 0.544, 0.547, 0.547, 0.547, 0.547, 0.547, 0.549, 0.549, 0.549, 0.549, 0.549, 0.549, 0.55, 0.55, 0.55, 0.55, 0.55, 0.55, 0.55, 0.552, 0.552, 0.552, 0.553, 0.553, 0.56, 0.56, 0.56, 0.56, 0.56, 0.56, 0.57, 0.57, 0.571, 0.574, 0.575, 0.575, 0.575, 0.577, 0.577, 0.577, 0.578, 0.58, 0.58, 0.58, 0.58, 0.58, 0.58, 0.58, 0.58, 0.58, 0.58, 0.581, 0.581, 0.581, 0.581, 0.585, 0.585, 0.587, 0.587, 0.59, 0.59, 0.59, 0.59, 0.59, 0.59, 0.592, 0.592, 0.596, 0.596, 0.6, 0.6, 0.6, 0.6, 0.6, 0.6, 0.6, 0.601, 0.601, 0.602, 0.602, 0.602, 0.602, 0.602, 0.609, 0.61, 0.61, 0.61, 0.61, 0.61, 0.61, 0.612, 0.612, 0.62, 0.62, 0.62, 0.62, 0.628, 0.628, 0.63, 0.63, 0.63, 0.63, 0.63, 0.63, 0.63, 0.63, 0.63, 0.63, 0.63, 0.631, 0.631, 0.631, 0.631, 0.631, 0.634, 0.634, 0.634, 0.634, 0.635, 0.635, 0.635, 0.635, 0.637, 0.637, 0.64, 0.64, 0.64, 0.64, 0.64, 0.64, 0.64, 0.64, 0.645, 0.648, 0.648, 0.648, 0.649, 0.649, 0.649, 0.65, 0.65, 0.65, 0.65, 0.65, 0.65, 0.653, 0.653, 0.653, 0.654, 0.654, 0.655, 0.655, 0.66, 0.66, 0.66, 0.66, 0.66, 0.664, 0.664, 0.664, 0.666, 0.666, 0.666, 0.666, 0.669, 0.669, 0.67, 0.67, 0.67, 0.67, 0.67, 0.671, 0.671, 0.674, 0.674, 0.674, 0.677, 0.677, 0.68, 0.68, 0.68, 0.683, 0.683, 0.687, 0.687, 0.687, 0.687, 0.69, 0.69, 0.69, 0.69, 0.69, 0.69, 0.69, 0.69, 0.69, 0.69, 0.695, 0.696, 0.696, 0.7, 0.7, 0.7, 0.7, 0.7, 0.7, 0.7, 0.7, 0.7, 0.7, 0.7, 0.7, 0.7, 0.7, 0.7, 0.7, 0.7, 0.7, 0.707, 0.709, 0.709, 0.709, 0.71, 0.71, 0.71, 0.71, 0.71, 0.71, 0.71, 0.71, 0.71, 0.71, 0.71, 0.71, 0.71, 0.713, 0.713, 0.717, 0.717, 0.717, 0.717, 0.717, 0.719, 0.72, 0.72, 0.72, 0.72, 0.72, 0.72, 0.72, 0.722, 0.722, 0.722, 0.722, 0.722, 0.727, 0.727, 0.727, 0.729, 0.729, 0.73, 0.73, 0.73, 0.73, 0.73, 0.73, 0.73, 0.73, 0.73, 0.73, 0.73, 0.73, 0.73, 0.73, 0.734, 0.737, 0.737, 0.738, 0.74, 0.74, 0.74, 0.74, 0.74, 0.74, 0.74, 0.74, 0.74, 0.74, 0.74, 0.74, 0.74, 0.74, 0.74, 0.74, 0.75, 0.75, 0.75, 0.75, 0.75, 0.75, 0.75, 0.75, 0.75, 0.75, 0.75, 0.75, 0.75, 0.75, 0.75, 0.75, 0.75, 0.75, 0.75, 0.75, 0.75, 0.753, 0.753, 0.753, 0.753, 0.753, 0.756, 0.756, 0.757, 0.757, 0.758, 0.758, 0.758, 0.758, 0.758, 0.759, 0.759, 0.76, 0.76, 0.76, 0.76, 0.76, 0.76, 0.76, 0.76, 0.76, 0.76, 0.76, 0.76, 0.76, 0.76, 0.76, 0.76, 0.764, 0.77, 0.77, 0.77, 0.77, 0.77, 0.77, 0.77, 0.77, 0.77, 0.77, 0.77, 0.77, 0.77, 0.77, 0.77, 0.77, 0.77, 0.77, 0.77, 0.77, 0.77, 0.77, 0.772, 0.773, 0.773, 0.773, 0.773, 0.773, 0.775, 0.777, 0.777, 0.777, 0.777, 0.777, 0.777, 0.777, 0.779, 0.78, 0.78, 0.78, 0.78, 0.78, 0.78, 0.78, 0.78, 0.78, 0.78, 0.78, 0.78, 0.78, 0.78, 0.78, 0.78, 0.78, 0.78, 0.78, 0.78, 0.78, 0.78, 0.78, 0.78, 0.78, 0.78, 0.78, 0.78, 0.78, 0.78, 0.78, 0.78, 0.781, 0.781, 0.783, 0.783, 0.783, 0.783, 0.783, 0.783, 0.783, 0.789, 0.789, 0.79, 0.79, 0.79, 0.79, 0.79, 0.79, 0.79, 0.79, 0.79, 0.79, 0.79, 0.79, 0.79, 0.79, 0.79, 0.79, 0.79, 0.79, 0.79, 0.79, 0.79, 0.79, 0.79, 0.79, 0.79, 0.791, 0.792, 0.792, 0.794, 0.794, 0.794, 0.794, 0.794, 0.794, 0.794, 0.794, 0.794, 0.794, 0.794, 0.798, 0.798, 0.8, 0.8, 0.8, 0.8, 0.8, 0.8, 0.8, 0.8, 0.8, 0.8, 0.8, 0.8, 0.8, 0.8, 0.8, 0.8, 0.8, 0.8, 0.8, 0.8, 0.8, 0.8, 0.8, 0.8, 0.8, 0.8, 0.8, 0.8, 0.8, 0.8, 0.8, 0.8, 0.8, 0.8, 0.8, 0.8, 0.8, 0.8, 0.8, 0.8, 0.8, 0.8, 0.801, 0.801, 0.802, 0.802, 0.803, 0.803, 0.803, 0.803, 0.807, 0.807, 0.807, 0.807, 0.808, 0.808, 0.808, 0.81, 0.81, 0.81, 0.81, 0.81, 0.81, 0.81, 0.81, 0.81, 0.81, 0.81, 0.81, 0.81, 0.81, 0.81, 0.81, 0.81, 0.81, 0.81, 0.81, 0.81, 0.81, 0.81, 0.81, 0.81, 0.81, 0.81, 0.81, 0.81, 0.81, 0.81, 0.81, 0.81, 0.81, 0.81, 0.816, 0.816, 0.816, 0.816, 0.816, 0.816, 0.816, 0.82, 0.82, 0.82, 0.82, 0.82, 0.82, 0.82, 0.82, 0.82, 0.82, 0.82, 0.82, 0.82, 0.82, 0.82, 0.82, 0.82, 0.82, 0.82, 0.82, 0.82, 0.82, 0.82, 0.82, 0.82, 0.82, 0.82, 0.82, 0.82, 0.82, 0.82, 0.82, 0.82, 0.824, 0.824, 0.825, 0.825, 0.825, 0.825, 0.825, 0.826, 0.828, 0.828, 0.828, 0.828, 0.828, 0.83, 0.83, 0.83, 0.83, 0.83, 0.83, 0.83, 0.83, 0.83, 0.83, 0.83, 0.83, 0.83, 0.83, 0.83, 0.83, 0.83, 0.83, 0.83, 0.83, 0.83, 0.83, 0.83, 0.83, 0.83, 0.83, 0.832, 0.832, 0.832, 0.832, 0.832, 0.834, 0.834, 0.834, 0.834, 0.834, 0.84, 0.84, 0.84, 0.84, 0.84, 0.84, 0.84, 0.84, 0.84, 0.84, 0.84, 0.84, 0.84, 0.84, 0.84, 0.84, 0.84, 0.84, 0.84, 0.84, 0.84, 0.84, 0.84, 0.84, 0.84, 0.84, 0.84, 0.84, 0.84, 0.84, 0.84, 0.841, 0.841, 0.841, 0.842, 0.842, 0.842, 0.843, 0.843, 0.843, 0.844, 0.844, 0.844, 0.844, 0.849, 0.849, 0.85, 0.85, 0.85, 0.85, 0.85, 0.85, 0.85, 0.85, 0.85, 0.85, 0.85, 0.85, 0.85, 0.85, 0.85, 0.85, 0.85, 0.85, 0.85, 0.85, 0.85, 0.85, 0.85, 0.85, 0.85, 0.85, 0.85, 0.85, 0.85, 0.85, 0.85, 0.85, 0.85, 0.85, 0.85, 0.85, 0.85, 0.85, 0.853, 0.853, 0.854, 0.855, 0.855, 0.857, 0.857, 0.857, 0.857, 0.857, 0.859, 0.859, 0.86, 0.86, 0.86, 0.86, 0.86, 0.86, 0.86, 0.86, 0.86, 0.86, 0.86, 0.86, 0.86, 0.86, 0.86, 0.86, 0.86, 0.86, 0.86, 0.86, 0.86, 0.86, 0.86, 0.86, 0.86, 0.86, 0.86, 0.86, 0.86, 0.86, 0.86, 0.86, 0.86, 0.86, 0.86, 0.86, 0.86, 0.86, 0.86, 0.864, 0.864, 0.864, 0.864, 0.865, 0.865, 0.865, 0.865, 0.87, 0.87, 0.87, 0.87, 0.87, 0.87, 0.87, 0.87, 0.87, 0.87, 0.87, 0.87, 0.87, 0.87, 0.87, 0.87, 0.87, 0.87, 0.87, 0.87, 0.87, 0.87, 0.87, 0.87, 0.87, 0.87, 0.87, 0.87, 0.87, 0.87, 0.87, 0.87, 0.87, 0.87, 0.87, 0.87, 0.87, 0.87, 0.87, 0.87, 0.87, 0.87, 0.87, 0.871, 0.874, 0.874, 0.876, 0.876, 0.878, 0.878, 0.878, 0.879, 0.879, 0.879, 0.88, 0.88, 0.88, 0.88, 0.88, 0.88, 0.88, 0.88, 0.88, 0.88, 0.88, 0.88, 0.88, 0.88, 0.88, 0.88, 0.88, 0.88, 0.88, 0.88, 0.88, 0.88, 0.88, 0.88, 0.88, 0.88, 0.88, 0.88, 0.88, 0.88, 0.884, 0.884, 0.885, 0.885, 0.885, 0.886, 0.887, 0.888, 0.89, 0.89, 0.89, 0.89, 0.89, 0.89, 0.89, 0.89, 0.89, 0.89, 0.89, 0.89, 0.89, 0.89, 0.89, 0.89, 0.89, 0.89, 0.89, 0.89, 0.89, 0.89, 0.89, 0.89, 0.89, 0.89, 0.89, 0.89, 0.89, 0.89, 0.89, 0.89, 0.89, 0.89, 0.892, 0.892, 0.892, 0.897, 0.897, 0.898, 0.898, 0.9, 0.9, 0.9, 0.9, 0.9, 0.9, 0.9, 0.9, 0.9, 0.9, 0.9, 0.9, 0.9, 0.9, 0.9, 0.9, 0.9, 0.9, 0.9, 0.9, 0.9, 0.9, 0.9, 0.9, 0.9, 0.9, 0.9, 0.9, 0.9, 0.9, 0.9, 0.9, 0.9, 0.9, 0.9, 0.9, 0.9, 0.9, 0.9, 0.905, 0.905, 0.905, 0.907, 0.907, 0.908, 0.908, 0.909, 0.909, 0.909, 0.909, 0.91, 0.91, 0.91, 0.91, 0.91, 0.91, 0.91, 0.91, 0.91, 0.91, 0.91, 0.91, 0.91, 0.91, 0.91, 0.91, 0.91, 0.91, 0.91, 0.91, 0.91, 0.91, 0.91, 0.91, 0.91, 0.91, 0.91, 0.91, 0.91, 0.91, 0.91, 0.91, 0.91, 0.91, 0.91, 0.91, 0.91, 0.911, 0.911, 0.912, 0.912, 0.912, 0.912, 0.912, 0.912, 0.912, 0.912, 0.914, 0.914, 0.914, 0.914, 0.914, 0.916, 0.916, 0.916, 0.917, 0.917, 0.918, 0.918, 0.918, 0.918, 0.918, 0.918, 0.918, 0.918, 0.918, 0.918, 0.918, 0.918, 0.92, 0.92, 0.92, 0.92, 0.92, 0.92, 0.92, 0.92, 0.92, 0.92, 0.92, 0.92, 0.92, 0.92, 0.92, 0.92, 0.92, 0.92, 0.92, 0.92, 0.92, 0.92, 0.92, 0.92, 0.92, 0.92, 0.92, 0.92, 0.92, 0.92, 0.92, 0.92, 0.92, 0.92, 0.92, 0.92, 0.92, 0.92, 0.92, 0.92, 0.92, 0.92, 0.92, 0.92, 0.92, 0.92, 0.92, 0.92, 0.922, 0.922, 0.922, 0.922, 0.923, 0.923, 0.923, 0.925, 0.925, 0.926, 0.927, 0.927, 0.927, 0.927, 0.927, 0.927, 0.929, 0.93, 0.93, 0.93, 0.93, 0.93, 0.93, 0.93, 0.93, 0.93, 0.93, 0.93, 0.93, 0.93, 0.93, 0.93, 0.93, 0.93, 0.93, 0.93, 0.93, 0.93, 0.93, 0.93, 0.93, 0.93, 0.93, 0.93, 0.93, 0.93, 0.93, 0.93, 0.93, 0.93, 0.93, 0.93, 0.93, 0.93, 0.93, 0.93, 0.93, 0.93, 0.93, 0.93, 0.93, 0.93, 0.93, 0.93, 0.93, 0.93, 0.93, 0.93, 0.93, 0.93, 0.93, 0.93, 0.93, 0.93, 0.93, 0.93, 0.93, 0.93, 0.931, 0.931, 0.931, 0.931, 0.931, 0.934, 0.934, 0.934, 0.935, 0.935, 0.936, 0.936, 0.936, 0.938, 0.939, 0.939, 0.94, 0.94, 0.94, 0.94, 0.94, 0.94, 0.94, 0.94, 0.94, 0.94, 0.94, 0.94, 0.94, 0.94, 0.94, 0.94, 0.94, 0.94, 0.94, 0.94, 0.94, 0.94, 0.94, 0.94, 0.94, 0.94, 0.94, 0.94, 0.94, 0.94, 0.94, 0.94, 0.94, 0.94, 0.94, 0.94, 0.94, 0.94, 0.94, 0.94, 0.94, 0.94, 0.94, 0.94, 0.94, 0.94, 0.94, 0.94, 0.94, 0.94, 0.94, 0.94, 0.94, 0.94, 0.94, 0.94, 0.941, 0.941, 0.941, 0.941, 0.943, 0.943, 0.943, 0.946, 0.946, 0.947, 0.95, 0.95, 0.95, 0.95, 0.95, 0.95, 0.95, 0.95, 0.95, 0.95, 0.95, 0.95, 0.95, 0.95, 0.95, 0.95, 0.95, 0.95, 0.95, 0.95, 0.95, 0.95, 0.95, 0.95, 0.95, 0.95, 0.95, 0.95, 0.95, 0.95, 0.95, 0.95, 0.95, 0.95, 0.95, 0.95, 0.95, 0.95, 0.95, 0.95, 0.95, 0.95, 0.95, 0.95, 0.95, 0.95, 0.95, 0.95, 0.95, 0.95, 0.95, 0.95, 0.95, 0.95, 0.95, 0.95, 0.953, 0.953, 0.953, 0.953, 0.956, 0.957, 0.957, 0.958, 0.958, 0.958, 0.96, 0.96, 0.96, 0.96, 0.96, 0.96, 0.96, 0.96, 0.96, 0.96, 0.96, 0.96, 0.96, 0.96, 0.96, 0.96, 0.96, 0.96, 0.96, 0.96, 0.96, 0.96, 0.96, 0.96, 0.96, 0.96, 0.96, 0.96, 0.96, 0.96, 0.96, 0.96, 0.96, 0.96, 0.96, 0.96, 0.96, 0.96, 0.96, 0.96, 0.96, 0.96, 0.96, 0.96, 0.96, 0.96, 0.96, 0.96, 0.96, 0.96, 0.96, 0.96, 0.96, 0.96, 0.96, 0.96, 0.96, 0.96, 0.961, 0.961, 0.961, 0.961, 0.961, 0.961, 0.961, 0.962, 0.963, 0.963, 0.963, 0.963, 0.964, 0.964, 0.965, 0.965, 0.965, 0.969, 0.969, 0.97, 0.97, 0.97, 0.97, 0.97, 0.97, 0.97, 0.97, 0.97, 0.97, 0.97, 0.97, 0.97, 0.97, 0.97, 0.97, 0.97, 0.97, 0.97, 0.97, 0.97, 0.97, 0.97, 0.97, 0.97, 0.97, 0.97, 0.97, 0.97, 0.97, 0.97, 0.97, 0.97, 0.97, 0.97, 0.97, 0.97, 0.97, 0.97, 0.97, 0.97, 0.97, 0.97, 0.97, 0.97, 0.97, 0.97, 0.97, 0.97, 0.97, 0.97, 0.97, 0.97, 0.97, 0.97, 0.97, 0.97, 0.97, 0.97, 0.97, 0.97, 0.97, 0.97, 0.972, 0.972, 0.972, 0.975, 0.975, 0.976, 0.976, 0.976, 0.977, 0.977, 0.977, 0.977, 0.978, 0.978, 0.98, 0.98, 0.98, 0.98, 0.98, 0.98, 0.98, 0.98, 0.98, 0.98, 0.98, 0.98, 0.98, 0.98, 0.98, 0.98, 0.98, 0.98, 0.98, 0.98, 0.98, 0.98, 0.98, 0.98, 0.98, 0.98, 0.98, 0.98, 0.98, 0.98, 0.98, 0.98, 0.98, 0.98, 0.98, 0.98, 0.98, 0.98, 0.98, 0.98, 0.98, 0.98, 0.98, 0.98, 0.98, 0.98, 0.98, 0.98, 0.98, 0.983, 0.984, 0.985, 0.985, 0.986, 0.988, 0.988, 0.988, 0.99, 0.99, 0.99, 0.99, 0.99, 0.99, 0.99, 0.99, 0.99, 0.99, 0.99, 0.99, 0.99, 0.99, 0.99, 0.99, 0.99, 0.99, 0.99, 0.99, 0.99, 0.99, 0.99, 0.99, 0.99, 0.99, 0.99, 0.99, 0.99, 0.99, 0.99, 0.99, 0.99, 0.99, 0.99, 0.99, 0.99, 0.99, 0.99, 0.99, 0.99, 0.99, 0.99, 0.99, 0.99, 0.99, 0.99, 0.99, 0.99, 0.99, 0.99, 0.993, 0.993, 0.993, 0.994, 0.994, 0.994, 0.994, 0.995, 0.995, 0.997, 0.997, 0.998, 0.998, 0.999, 0.999, 0.999, 0.999, 1.0, 1.0, 1.0, 1.0, 1.0, 1.0, 1.0, 1.0, 1.0, 1.0, 1.0, 1.0, 1.0, 1.0, 1.0, 1.0, 1.0, 1.0, 1.0, 1.0, 1.0, 1.0, 1.0, 1.0, 1.0, 1.0, 1.0, 1.0, 1.0, 1.0, 1.0, 1.0, 1.0, 1.0, 1.0, 1.0, 1.0, 1.0, 1.0, 1.0, 1.0, 1.0, 1.0, 1.0, 1.0, 1.0, 1.0, 1.0, 1.0, 1.0, 1.0, 1.0, 1.0, 1.0, 1.0, 1.0, 1.0, 1.0, 1.0, 1.0, 1.0, 1.0, 1.0, 1.0, 1.0, 1.0, 1.0, 1.0, 1.0, 1.0, 1.0, 1.0, 1.0, 1.0, 1.0, 1.0, 1.0, 1.0, 1.0, 1.0, 1.0, 1.0, 1.001, 1.001, 1.001, 1.001, 1.001, 1.001, 1.001, 1.002, 1.003, 1.003, 1.008, 1.008, 1.01, 1.01, 1.01, 1.01, 1.01, 1.01, 1.01, 1.01, 1.01, 1.01, 1.01, 1.01, 1.01, 1.01, 1.01, 1.01, 1.01, 1.01, 1.01, 1.01, 1.01, 1.01, 1.01, 1.01, 1.01, 1.01, 1.01, 1.01, 1.01, 1.01, 1.01, 1.01, 1.01, 1.01, 1.01, 1.01, 1.01, 1.01, 1.01, 1.01, 1.01, 1.01, 1.01, 1.01, 1.01, 1.01, 1.01, 1.01, 1.01, 1.01, 1.01, 1.01, 1.01, 1.01, 1.01, 1.01, 1.01, 1.01, 1.01, 1.01, 1.012, 1.012, 1.012, 1.012, 1.013, 1.013, 1.014, 1.014, 1.015, 1.015, 1.017, 1.017, 1.019, 1.019, 1.019, 1.02, 1.02, 1.02, 1.02, 1.02, 1.02, 1.02, 1.02, 1.02, 1.02, 1.02, 1.02, 1.02, 1.02, 1.02, 1.02, 1.02, 1.02, 1.02, 1.02, 1.02, 1.02, 1.02, 1.02, 1.02, 1.02, 1.02, 1.02, 1.02, 1.02, 1.02, 1.02, 1.02, 1.02, 1.02, 1.02, 1.02, 1.02, 1.02, 1.02, 1.02, 1.02, 1.02, 1.02, 1.02, 1.02, 1.02, 1.02, 1.02, 1.02, 1.021, 1.021, 1.021, 1.021, 1.021, 1.021, 1.021, 1.021, 1.021, 1.021, 1.021, 1.022, 1.022, 1.022, 1.022, 1.022, 1.023, 1.024, 1.024, 1.025, 1.025, 1.025, 1.026, 1.026, 1.026, 1.026, 1.027, 1.028, 1.028, 1.028, 1.028, 1.028, 1.028, 1.028, 1.03, 1.03, 1.03, 1.03, 1.03, 1.03, 1.03, 1.03, 1.03, 1.03, 1.03, 1.03, 1.03, 1.03, 1.03, 1.03, 1.03, 1.03, 1.03, 1.03, 1.03, 1.03, 1.03, 1.03, 1.03, 1.03, 1.03, 1.03, 1.03, 1.03, 1.03, 1.03, 1.03, 1.03, 1.03, 1.03, 1.03, 1.03, 1.03, 1.03, 1.03, 1.03, 1.033, 1.035, 1.035, 1.035, 1.035, 1.037, 1.037, 1.037, 1.038, 1.04, 1.04, 1.04, 1.04, 1.04, 1.04, 1.04, 1.04, 1.04, 1.04, 1.04, 1.04, 1.04, 1.04, 1.04, 1.04, 1.04, 1.04, 1.04, 1.04, 1.04, 1.04, 1.04, 1.04, 1.04, 1.04, 1.04, 1.04, 1.04, 1.04, 1.04, 1.04, 1.04, 1.04, 1.04, 1.04, 1.04, 1.04, 1.04, 1.04, 1.04, 1.04, 1.04, 1.04, 1.04, 1.04, 1.04, 1.04, 1.04, 1.04, 1.04, 1.04, 1.04, 1.04, 1.04, 1.04, 1.04, 1.04, 1.042, 1.042, 1.045, 1.045, 1.045, 1.045, 1.045, 1.047, 1.047, 1.048, 1.05, 1.05, 1.05, 1.05, 1.05, 1.05, 1.05, 1.05, 1.05, 1.05, 1.05, 1.05, 1.05, 1.05, 1.05, 1.05, 1.05, 1.05, 1.05, 1.05, 1.05, 1.05, 1.05, 1.05, 1.05, 1.05, 1.05, 1.05, 1.05, 1.05, 1.05, 1.05, 1.05, 1.05, 1.05, 1.05, 1.05, 1.05, 1.05, 1.053, 1.053, 1.053, 1.056, 1.057, 1.057, 1.057, 1.06, 1.06, 1.06, 1.06, 1.06, 1.06, 1.06, 1.06, 1.06, 1.06, 1.06, 1.06, 1.06, 1.06, 1.06, 1.06, 1.06, 1.06, 1.06, 1.06, 1.06, 1.06, 1.06, 1.06, 1.06, 1.06, 1.06, 1.06, 1.06, 1.06, 1.06, 1.06, 1.06, 1.06, 1.06, 1.06, 1.06, 1.06, 1.06, 1.06, 1.06, 1.06, 1.06, 1.06, 1.06, 1.06, 1.06, 1.06, 1.06, 1.06, 1.06, 1.06, 1.06, 1.061, 1.063, 1.063, 1.063, 1.065, 1.065, 1.065, 1.067, 1.067, 1.07, 1.07, 1.07, 1.07, 1.07, 1.07, 1.07, 1.07, 1.07, 1.07, 1.07, 1.07, 1.07, 1.07, 1.07, 1.07, 1.07, 1.07, 1.07, 1.07, 1.07, 1.07, 1.07, 1.07, 1.07, 1.07, 1.07, 1.07, 1.07, 1.07, 1.07, 1.07, 1.07, 1.07, 1.07, 1.07, 1.07, 1.07, 1.07, 1.07, 1.07, 1.07, 1.07, 1.07, 1.07, 1.071, 1.071, 1.071, 1.071, 1.071, 1.076, 1.078, 1.079, 1.079, 1.079, 1.079, 1.079, 1.08, 1.08, 1.08, 1.08, 1.08, 1.08, 1.08, 1.08, 1.08, 1.08, 1.08, 1.08, 1.08, 1.08, 1.08, 1.08, 1.08, 1.08, 1.08, 1.08, 1.08, 1.08, 1.08, 1.08, 1.08, 1.08, 1.08, 1.08, 1.08, 1.08, 1.08, 1.08, 1.08, 1.08, 1.08, 1.08, 1.08, 1.08, 1.08, 1.08, 1.082, 1.082, 1.082, 1.082, 1.084, 1.084, 1.085, 1.087, 1.089, 1.089, 1.09, 1.09, 1.09, 1.09, 1.09, 1.09, 1.09, 1.09, 1.09, 1.09, 1.09, 1.09, 1.09, 1.09, 1.09, 1.09, 1.09, 1.09, 1.09, 1.09, 1.09, 1.09, 1.09, 1.09, 1.09, 1.09, 1.09, 1.09, 1.09, 1.09, 1.09, 1.09, 1.09, 1.09, 1.09, 1.09, 1.09, 1.09, 1.09, 1.09, 1.09, 1.09, 1.09, 1.09, 1.09, 1.09, 1.09, 1.09, 1.09, 1.09, 1.09, 1.093, 1.098, 1.099, 1.1, 1.1, 1.1, 1.1, 1.1, 1.1, 1.1, 1.1, 1.1, 1.1, 1.1, 1.1, 1.1, 1.1, 1.1, 1.1, 1.1, 1.1, 1.1, 1.1, 1.1, 1.1, 1.1, 1.1, 1.1, 1.1, 1.1, 1.1, 1.1, 1.1, 1.1, 1.1, 1.1, 1.1, 1.1, 1.1, 1.1, 1.1, 1.1, 1.1, 1.1, 1.1, 1.1, 1.1, 1.101, 1.101, 1.101, 1.101, 1.101, 1.102, 1.104, 1.104, 1.105, 1.105, 1.105, 1.106, 1.108, 1.108, 1.11, 1.11, 1.11, 1.11, 1.11, 1.11, 1.11, 1.11, 1.11, 1.11, 1.11, 1.11, 1.11, 1.11, 1.11, 1.11, 1.11, 1.11, 1.11, 1.11, 1.11, 1.11, 1.11, 1.11, 1.11, 1.11, 1.11, 1.11, 1.11, 1.11, 1.11, 1.11, 1.11, 1.112, 1.12, 1.12, 1.12, 1.12, 1.12, 1.12, 1.12, 1.12, 1.12, 1.12, 1.12, 1.12, 1.12, 1.12, 1.12, 1.12, 1.12, 1.12, 1.12, 1.12, 1.12, 1.12, 1.12, 1.121, 1.121, 1.125, 1.125, 1.125, 1.125, 1.126, 1.126, 1.126, 1.129, 1.129, 1.129, 1.129, 1.129, 1.13, 1.13, 1.13, 1.13, 1.13, 1.13, 1.13, 1.13, 1.13, 1.13, 1.13, 1.13, 1.13, 1.13, 1.13, 1.13, 1.13, 1.13, 1.13, 1.13, 1.13, 1.13, 1.13, 1.13, 1.13, 1.13, 1.13, 1.13, 1.13, 1.13, 1.13, 1.13, 1.13, 1.13, 1.13, 1.13, 1.13, 1.131, 1.133, 1.139, 1.139, 1.14, 1.14, 1.14, 1.14, 1.14, 1.14, 1.14, 1.14, 1.14, 1.14, 1.14, 1.14, 1.14, 1.14, 1.14, 1.14, 1.14, 1.14, 1.14, 1.14, 1.14, 1.14, 1.14, 1.14, 1.14, 1.14, 1.145, 1.148, 1.15, 1.15, 1.15, 1.15, 1.15, 1.15, 1.15, 1.15, 1.15, 1.15, 1.15, 1.15, 1.15, 1.15, 1.15, 1.15, 1.15, 1.15, 1.15, 1.15, 1.15, 1.15, 1.15, 1.15, 1.15, 1.15, 1.15, 1.15, 1.15, 1.15, 1.15, 1.15, 1.15, 1.15, 1.15, 1.15, 1.15, 1.154, 1.154, 1.16, 1.16, 1.16, 1.16, 1.16, 1.16, 1.16, 1.16, 1.16, 1.16, 1.16, 1.16, 1.16, 1.16, 1.16, 1.16, 1.16, 1.16, 1.16, 1.16, 1.16, 1.16, 1.16, 1.16, 1.163, 1.166, 1.166, 1.166, 1.166, 1.167, 1.167, 1.17, 1.17, 1.17, 1.17, 1.17, 1.17, 1.17, 1.17, 1.17, 1.17, 1.17, 1.17, 1.17, 1.17, 1.17, 1.17, 1.17, 1.17, 1.17, 1.17, 1.171, 1.171, 1.171, 1.171, 1.171, 1.176, 1.177, 1.177, 1.179, 1.18, 1.18, 1.18, 1.18, 1.18, 1.18, 1.18, 1.18, 1.18, 1.18, 1.18, 1.18, 1.18, 1.18, 1.18, 1.18, 1.18, 1.18, 1.18, 1.18, 1.18, 1.18, 1.18, 1.18, 1.18, 1.18, 1.18, 1.181, 1.183, 1.183, 1.183, 1.183, 1.185, 1.185, 1.187, 1.19, 1.19, 1.19, 1.19, 1.19, 1.19, 1.19, 1.19, 1.19, 1.19, 1.19, 1.19, 1.19, 1.19, 1.19, 1.19, 1.19, 1.19, 1.19, 1.19, 1.19, 1.19, 1.19, 1.19, 1.19, 1.19, 1.191, 1.192, 1.192, 1.198, 1.198, 1.198, 1.198, 1.2, 1.2, 1.2, 1.2, 1.2, 1.2, 1.2, 1.2, 1.2, 1.2, 1.2, 1.2, 1.2, 1.2, 1.2, 1.2, 1.2, 1.2, 1.2, 1.2, 1.2, 1.2, 1.2, 1.2, 1.2, 1.201, 1.202, 1.202, 1.202, 1.202, 1.204, 1.204, 1.204, 1.204, 1.206, 1.206, 1.207, 1.207, 1.207, 1.207, 1.208, 1.208, 1.208, 1.209, 1.209, 1.209, 1.21, 1.21, 1.21, 1.21, 1.21, 1.21, 1.21, 1.21, 1.21, 1.21, 1.21, 1.21, 1.21, 1.21, 1.21, 1.21, 1.211, 1.211, 1.213, 1.214, 1.216, 1.218, 1.22, 1.22, 1.22, 1.22, 1.22, 1.22, 1.22, 1.22, 1.22, 1.22, 1.22, 1.22, 1.22, 1.22, 1.22, 1.223, 1.23, 1.23, 1.23, 1.23, 1.23, 1.23, 1.23, 1.23, 1.23, 1.23, 1.23, 1.23, 1.234, 1.234, 1.236, 1.238, 1.238, 1.24, 1.24, 1.24, 1.24, 1.24, 1.24, 1.24, 1.24, 1.24, 1.24, 1.24, 1.24, 1.24, 1.242, 1.25, 1.25, 1.25, 1.25, 1.25, 1.25, 1.25, 1.25, 1.25, 1.25, 1.25, 1.25, 1.25, 1.25, 1.25, 1.259, 1.26, 1.26, 1.26, 1.26, 1.26, 1.26, 1.26, 1.26, 1.26, 1.269, 1.269, 1.269, 1.27, 1.27, 1.27, 1.27, 1.27, 1.27, 1.27, 1.27, 1.27, 1.27, 1.273, 1.275, 1.276, 1.277, 1.28, 1.28, 1.28, 1.28, 1.28, 1.28, 1.28, 1.28, 1.28, 1.28, 1.28, 1.28, 1.28, 1.282, 1.284, 1.284, 1.29, 1.29, 1.29, 1.29, 1.29, 1.29, 1.29, 1.29, 1.29, 1.29, 1.29, 1.291, 1.291, 1.291, 1.291, 1.291, 1.293, 1.296, 1.3, 1.3, 1.3, 1.3, 1.3, 1.3, 1.3, 1.3, 1.3, 1.3, 1.3, 1.3, 1.3, 1.3, 1.306, 1.31, 1.31, 1.31, 1.31, 1.31, 1.31, 1.31, 1.31, 1.31, 1.312, 1.314, 1.32, 1.32, 1.32, 1.32, 1.32, 1.32, 1.32, 1.33, 1.33, 1.33, 1.33, 1.33, 1.335, 1.34, 1.34, 1.34, 1.34, 1.34, 1.34, 1.34, 1.34, 1.346, 1.346, 1.346, 1.35, 1.35, 1.35, 1.35, 1.35, 1.35, 1.35, 1.353, 1.353, 1.353, 1.36, 1.36, 1.36, 1.36, 1.36, 1.36, 1.36, 1.364, 1.37, 1.37, 1.37, 1.374, 1.378, 1.378, 1.38, 1.38, 1.38, 1.38, 1.383, 1.383, 1.383, 1.386, 1.39, 1.39, 1.39, 1.39, 1.392, 1.4, 1.4, 1.4, 1.4, 1.4, 1.4, 1.4, 1.4, 1.4, 1.4, 1.4, 1.4, 1.4, 1.4, 1.4, 1.4, 1.4, 1.403, 1.404, 1.41, 1.41, 1.41, 1.41, 1.41, 1.41, 1.418, 1.419, 1.419, 1.42, 1.43, 1.44, 1.44, 1.44, 1.44, 1.44, 1.45, 1.45, 1.45, 1.45, 1.45, 1.45, 1.45, 1.45, 1.45, 1.452, 1.46, 1.46, 1.46, 1.46, 1.47, 1.47, 1.47, 1.47, 1.47, 1.47, 1.47, 1.48, 1.48, 1.48, 1.48, 1.48, 1.48, 1.49, 1.49, 1.49, 1.49, 1.495, 1.5, 1.5, 1.5, 1.5, 1.5, 1.5, 1.5, 1.5, 1.51, 1.51, 1.51, 1.51, 1.51, 1.512, 1.512, 1.516, 1.516, 1.516, 1.516, 1.52, 1.52, 1.52, 1.52, 1.535, 1.538, 1.54, 1.54, 1.54, 1.54, 1.54, 1.543, 1.55, 1.55, 1.559, 1.56, 1.56, 1.56, 1.57, 1.57, 1.58, 1.58, 1.58, 1.58, 1.59, 1.59, 1.6, 1.6, 1.6, 1.6, 1.6, 1.6, 1.61, 1.61, 1.62, 1.63, 1.635, 1.64, 1.64, 1.65, 1.65, 1.68, 1.68, 1.68, 1.69, 1.69, 1.69, 1.7, 1.7, 1.7, 1.7, 1.718, 1.718, 1.72, 1.72, 1.72, 1.72, 1.74, 1.74, 1.74, 1.748, 1.75, 1.78, 1.78, 1.8, 1.8, 1.82, 1.82, 1.84, 1.85, 1.87, 1.9, 1.9, 1.9, 1.91, 1.92, 1.93, 1.95, 1.965, 1.965, 2.0, 2.02, 2.09, 2.09, 2.1, 2.13, 2.17, 2.2, 2.2, 2.3, 2.3, 2.3, 2.3, 2.3, 2.31, 2.4, 2.4, 2.4, 2.4, 2.4, 2.4, 2.42, 2.49, 2.5, 2.5, 2.5, 2.6, 2.7, 2.7, 2.8, 2.8, 2.8, 3.04, 3.04, 3.09, 3.9, 4.5]\n"
     ]
    }
   ],
   "source": [
    "massList = []\n",
    "for n in range(len(data)):\n",
    "    stellarMass = data[n][col['stMass']]\n",
    "    if stellarMass != '':\n",
    "        massList.append(float(stellarMass))\n",
    "\n",
    "massList.sort()\n",
    "print(massList)"
   ]
  },
  {
   "cell_type": "code",
   "execution_count": 127,
   "id": "9f1af3ae",
   "metadata": {},
   "outputs": [
    {
     "data": {
      "text/html": [
       "<div>\n",
       "<style scoped>\n",
       "    .dataframe tbody tr th:only-of-type {\n",
       "        vertical-align: middle;\n",
       "    }\n",
       "\n",
       "    .dataframe tbody tr th {\n",
       "        vertical-align: top;\n",
       "    }\n",
       "\n",
       "    .dataframe thead th {\n",
       "        text-align: right;\n",
       "    }\n",
       "</style>\n",
       "<table border=\"1\" class=\"dataframe\">\n",
       "  <thead>\n",
       "    <tr style=\"text-align: right;\">\n",
       "      <th></th>\n",
       "      <th># of stars</th>\n",
       "    </tr>\n",
       "  </thead>\n",
       "  <tbody>\n",
       "    <tr>\n",
       "      <th>0 - 0.5</th>\n",
       "      <td>143</td>\n",
       "    </tr>\n",
       "    <tr>\n",
       "      <th>0.5 - 1</th>\n",
       "      <td>1632</td>\n",
       "    </tr>\n",
       "    <tr>\n",
       "      <th>1 - 1.5</th>\n",
       "      <td>1351</td>\n",
       "    </tr>\n",
       "    <tr>\n",
       "      <th>1.5 - 2</th>\n",
       "      <td>99</td>\n",
       "    </tr>\n",
       "    <tr>\n",
       "      <th>2 - 2.5</th>\n",
       "      <td>23</td>\n",
       "    </tr>\n",
       "    <tr>\n",
       "      <th>2.5 - 3</th>\n",
       "      <td>14</td>\n",
       "    </tr>\n",
       "  </tbody>\n",
       "</table>\n",
       "</div>"
      ],
      "text/plain": [
       "         # of stars\n",
       "0 - 0.5         143\n",
       "0.5 - 1        1632\n",
       "1 - 1.5        1351\n",
       "1.5 - 2          99\n",
       "2 - 2.5          23\n",
       "2.5 - 3          14"
      ]
     },
     "execution_count": 127,
     "metadata": {},
     "output_type": "execute_result"
    }
   ],
   "source": [
    "masterList = []\n",
    "list1 = []\n",
    "list2 = []\n",
    "list3 = []\n",
    "list4 = []\n",
    "list5 = []\n",
    "list6 = []\n",
    "for n in range(len(massList)):\n",
    "    value = float(massList[n])\n",
    "    if value < 0.5:\n",
    "        list1.append(value)\n",
    "    elif value >= 0.5 and value < 1:\n",
    "        list2.append(value)\n",
    "    elif value >= 1 and value < 1.5:\n",
    "        list3.append(value)\n",
    "    elif value >= 1.5 and value < 2:\n",
    "        list4.append(value)\n",
    "    elif value >= 2 and value < 2.5:\n",
    "        list5.append(value)\n",
    "    else:\n",
    "        list6.append(value)\n",
    "\n",
    "mass1 = len(list1)\n",
    "mass2 = len(list2)\n",
    "mass3 = len(list3)\n",
    "mass4 = len(list4)\n",
    "mass5 = len(list5)\n",
    "mass6 = len(list6)\n",
    "\n",
    "#dfDict = {'0-0.5':mass1,'0.5-1':mass2,'1-1.5':mass3,'1.5-2':mass4,'2-2.5':mass5,'2.5-3':mass6,}\n",
    "masterList = [mass1,mass2,mass3,mass4,mass5,mass6]\n",
    "\n",
    "df = pd.DataFrame(masterList,index=['0 - 0.5','0.5 - 1','1 - 1.5','1.5 - 2','2 - 2.5','2.5 - 3'],columns=['# of stars'])\n",
    "df"
   ]
  },
  {
   "cell_type": "code",
   "execution_count": 128,
   "id": "7c55e7cd",
   "metadata": {
    "scrolled": true
   },
   "outputs": [
    {
     "ename": "AttributeError",
     "evalue": "'function' object has no attribute 'plot'",
     "output_type": "error",
     "traceback": [
      "\u001b[0;31m---------------------------------------------------------------------------\u001b[0m",
      "\u001b[0;31mAttributeError\u001b[0m                            Traceback (most recent call last)",
      "\u001b[0;32m/var/folders/1z/9_8zm1jd2h7dyhpwxvmwwt800000gp/T/ipykernel_916/4055584385.py\u001b[0m in \u001b[0;36m<module>\u001b[0;34m\u001b[0m\n\u001b[1;32m      8\u001b[0m              arrowprops=dict(facecolor='black',width=1))\n\u001b[1;32m      9\u001b[0m \u001b[0mplt\u001b[0m\u001b[0;34m.\u001b[0m\u001b[0mhist\u001b[0m\u001b[0;34m(\u001b[0m\u001b[0mmassList\u001b[0m\u001b[0;34m,\u001b[0m\u001b[0;36m40\u001b[0m\u001b[0;34m,\u001b[0m\u001b[0mcolor\u001b[0m\u001b[0;34m=\u001b[0m\u001b[0;34m'red'\u001b[0m\u001b[0;34m,\u001b[0m\u001b[0malpha\u001b[0m\u001b[0;34m=\u001b[0m\u001b[0;36m0.7\u001b[0m\u001b[0;34m)\u001b[0m\u001b[0;34m\u001b[0m\u001b[0;34m\u001b[0m\u001b[0m\n\u001b[0;32m---> 10\u001b[0;31m \u001b[0mplt\u001b[0m\u001b[0;34m.\u001b[0m\u001b[0mhist\u001b[0m\u001b[0;34m.\u001b[0m\u001b[0mplot\u001b[0m\u001b[0;34m(\u001b[0m\u001b[0mmasterList\u001b[0m\u001b[0;34m)\u001b[0m\u001b[0;34m\u001b[0m\u001b[0;34m\u001b[0m\u001b[0m\n\u001b[0m\u001b[1;32m     11\u001b[0m \u001b[0mplt\u001b[0m\u001b[0;34m.\u001b[0m\u001b[0mshow\u001b[0m\u001b[0;34m(\u001b[0m\u001b[0;34m)\u001b[0m\u001b[0;34m\u001b[0m\u001b[0;34m\u001b[0m\u001b[0m\n",
      "\u001b[0;31mAttributeError\u001b[0m: 'function' object has no attribute 'plot'"
     ]
    },
    {
     "data": {
      "image/png": "[encoded data removed]",
      "text/plain": [
       "<Figure size 432x288 with 1 Axes>"
      ]
     },
     "metadata": {
      "needs_background": "light"
     },
     "output_type": "display_data"
    }
   ],
   "source": [
    "plt.title('Stellar Masses and the Sun',fontweight='bold',fontsize=15)\n",
    "plt.xlabel('Stellar Mass (Solar Masses)',fontweight='bold')\n",
    "plt.ylabel('Number of Stars',fontweight='bold')\n",
    "plt.xlim(0,3)\n",
    "plt.grid(True)\n",
    "plt.axvline(x=1,color='k',linestyle='dashed',linewidth=2)\n",
    "plt.annotate('Line depicting zone of our Sun', xy=(1,820), xytext=(1.4,700), \n",
    "             arrowprops=dict(facecolor='black',width=1))\n",
    "plt.hist(massList,40,color='red',alpha=0.7)\n",
    "plt.show()"
   ]
  },
  {
   "cell_type": "code",
   "execution_count": null,
   "id": "cbea3541",
   "metadata": {},
   "outputs": [],
   "source": []
  }
 ],
 "metadata": {
  "kernelspec": {
   "display_name": "Python 3 (ipykernel)",
   "language": "python",
   "name": "python3"
  },
  "language_info": {
   "codemirror_mode": {
    "name": "ipython",
    "version": 3
   },
   "file_extension": ".py",
   "mimetype": "text/x-python",
   "name": "python",
   "nbconvert_exporter": "python",
   "pygments_lexer": "ipython3",
   "version": "3.9.1"
  }
 },
 "nbformat": 4,
 "nbformat_minor": 5
}
